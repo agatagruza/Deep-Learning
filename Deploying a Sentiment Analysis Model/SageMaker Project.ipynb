{
 "cells": [
  {
   "cell_type": "markdown",
   "metadata": {},
   "source": [
    "# Creating a Sentiment Analysis Web App\n",
    "## Using PyTorch and SageMaker\n",
    "\n",
    "_Deep Learning Nanodegree Program | Deployment_\n",
    "\n",
    "---\n",
    "\n",
    "Now that we have a basic understanding of how SageMaker works we will try to use it to construct a complete project from end to end. Our goal will be to have a simple web page which a user can use to enter a movie review. The web page will then send the review off to our deployed model which will predict the sentiment of the entered review.\n",
    "\n",
    "## Instructions\n",
    "\n",
    "Some template code has already been provided for you, and you will need to implement additional functionality to successfully complete this notebook. You will not need to modify the included code beyond what is requested. Sections that begin with '**TODO**' in the header indicate that you need to complete or implement some portion within them. Instructions will be provided for each section and the specifics of the implementation are marked in the code block with a `# TODO: ...` comment. Please be sure to read the instructions carefully!\n",
    "\n",
    "In addition to implementing code, there will be questions for you to answer which relate to the task and your implementation. Each section where you will answer a question is preceded by a '**Question:**' header. Carefully read each question and provide your answer below the '**Answer:**' header by editing the Markdown cell.\n",
    "\n",
    "> **Note**: Code and Markdown cells can be executed using the **Shift+Enter** keyboard shortcut. In addition, a cell can be edited by typically clicking it (double-click for Markdown cells) or by pressing **Enter** while it is highlighted.\n",
    "\n",
    "## General Outline\n",
    "\n",
    "Recall the general outline for SageMaker projects using a notebook instance.\n",
    "\n",
    "1. Download or otherwise retrieve the data.\n",
    "2. Process / Prepare the data.\n",
    "3. Upload the processed data to S3.\n",
    "4. Train a chosen model.\n",
    "5. Test the trained model (typically using a batch transform job).\n",
    "6. Deploy the trained model.\n",
    "7. Use the deployed model.\n",
    "\n",
    "For this project, you will be following the steps in the general outline with some modifications. \n",
    "\n",
    "First, you will not be testing the model in its own step. You will still be testing the model, however, you will do it by deploying your model and then using the deployed model by sending the test data to it. One of the reasons for doing this is so that you can make sure that your deployed model is working correctly before moving forward.\n",
    "\n",
    "In addition, you will deploy and use your trained model a second time. In the second iteration you will customize the way that your trained model is deployed by including some of your own code. In addition, your newly deployed model will be used in the sentiment analysis web app."
   ]
  },
  {
   "cell_type": "markdown",
   "metadata": {},
   "source": [
    "## Step 1: Downloading the data\n",
    "\n",
    "As in the XGBoost in SageMaker notebook, we will be using the [IMDb dataset](http://ai.stanford.edu/~amaas/data/sentiment/)\n",
    "\n",
    "> Maas, Andrew L., et al. [Learning Word Vectors for Sentiment Analysis](http://ai.stanford.edu/~amaas/data/sentiment/). In _Proceedings of the 49th Annual Meeting of the Association for Computational Linguistics: Human Language Technologies_. Association for Computational Linguistics, 2011."
   ]
  },
  {
   "cell_type": "code",
   "execution_count": 1,
   "metadata": {},
   "outputs": [
    {
     "name": "stdout",
     "output_type": "stream",
     "text": [
      "mkdir: cannot create directory ‘../data’: File exists\n",
      "--2020-02-24 12:45:24--  http://ai.stanford.edu/~amaas/data/sentiment/aclImdb_v1.tar.gz\n",
      "Resolving ai.stanford.edu (ai.stanford.edu)... 171.64.68.10\n",
      "Connecting to ai.stanford.edu (ai.stanford.edu)|171.64.68.10|:80... connected.\n",
      "HTTP request sent, awaiting response... 200 OK\n",
      "Length: 84125825 (80M) [application/x-gzip]\n",
      "Saving to: ‘../data/aclImdb_v1.tar.gz’\n",
      "\n",
      "../data/aclImdb_v1. 100%[===================>]  80.23M  43.4MB/s    in 1.8s    \n",
      "\n",
      "2020-02-24 12:45:26 (43.4 MB/s) - ‘../data/aclImdb_v1.tar.gz’ saved [84125825/84125825]\n",
      "\n"
     ]
    }
   ],
   "source": [
    "%mkdir ../data\n",
    "!wget -O ../data/aclImdb_v1.tar.gz http://ai.stanford.edu/~amaas/data/sentiment/aclImdb_v1.tar.gz\n",
    "!tar -zxf ../data/aclImdb_v1.tar.gz -C ../data"
   ]
  },
  {
   "cell_type": "markdown",
   "metadata": {},
   "source": [
    "## Step 2: Preparing and Processing the data\n",
    "\n",
    "Also, as in the XGBoost notebook, we will be doing some initial data processing. The first few steps are the same as in the XGBoost example. To begin with, we will read in each of the reviews and combine them into a single input structure. Then, we will split the dataset into a training set and a testing set."
   ]
  },
  {
   "cell_type": "code",
   "execution_count": 2,
   "metadata": {},
   "outputs": [],
   "source": [
    "import os\n",
    "import glob\n",
    "\n",
    "def read_imdb_data(data_dir='../data/aclImdb'):\n",
    "    data = {}\n",
    "    labels = {}\n",
    "    \n",
    "    for data_type in ['train', 'test']:\n",
    "        data[data_type] = {}\n",
    "        labels[data_type] = {}\n",
    "        \n",
    "        for sentiment in ['pos', 'neg']:\n",
    "            data[data_type][sentiment] = []\n",
    "            labels[data_type][sentiment] = []\n",
    "            \n",
    "            path = os.path.join(data_dir, data_type, sentiment, '*.txt')\n",
    "            files = glob.glob(path)\n",
    "            \n",
    "            for f in files:\n",
    "                with open(f) as review:\n",
    "                    data[data_type][sentiment].append(review.read())\n",
    "                    # Here we represent a positive review by '1' and a negative review by '0'\n",
    "                    labels[data_type][sentiment].append(1 if sentiment == 'pos' else 0)\n",
    "                    \n",
    "            assert len(data[data_type][sentiment]) == len(labels[data_type][sentiment]), \\\n",
    "                    \"{}/{} data size does not match labels size\".format(data_type, sentiment)\n",
    "                \n",
    "    return data, labels"
   ]
  },
  {
   "cell_type": "code",
   "execution_count": 3,
   "metadata": {},
   "outputs": [
    {
     "name": "stdout",
     "output_type": "stream",
     "text": [
      "IMDB reviews: train = 12500 pos / 12500 neg, test = 12500 pos / 12500 neg\n"
     ]
    }
   ],
   "source": [
    "data, labels = read_imdb_data()\n",
    "print(\"IMDB reviews: train = {} pos / {} neg, test = {} pos / {} neg\".format(\n",
    "            len(data['train']['pos']), len(data['train']['neg']),\n",
    "            len(data['test']['pos']), len(data['test']['neg'])))"
   ]
  },
  {
   "cell_type": "markdown",
   "metadata": {},
   "source": [
    "Now that we've read the raw training and testing data from the downloaded dataset, we will combine the positive and negative reviews and shuffle the resulting records."
   ]
  },
  {
   "cell_type": "code",
   "execution_count": 4,
   "metadata": {},
   "outputs": [],
   "source": [
    "from sklearn.utils import shuffle\n",
    "\n",
    "def prepare_imdb_data(data, labels):\n",
    "    \"\"\"Prepare training and test sets from IMDb movie reviews.\"\"\"\n",
    "    \n",
    "    #Combine positive and negative reviews and labels\n",
    "    data_train = data['train']['pos'] + data['train']['neg']\n",
    "    data_test = data['test']['pos'] + data['test']['neg']\n",
    "    labels_train = labels['train']['pos'] + labels['train']['neg']\n",
    "    labels_test = labels['test']['pos'] + labels['test']['neg']\n",
    "    \n",
    "    #Shuffle reviews and corresponding labels within training and test sets\n",
    "    data_train, labels_train = shuffle(data_train, labels_train)\n",
    "    data_test, labels_test = shuffle(data_test, labels_test)\n",
    "    \n",
    "    # Return a unified training data, test data, training labels, test labets\n",
    "    return data_train, data_test, labels_train, labels_test"
   ]
  },
  {
   "cell_type": "code",
   "execution_count": 5,
   "metadata": {},
   "outputs": [
    {
     "name": "stdout",
     "output_type": "stream",
     "text": [
      "IMDb reviews (combined): train = 25000, test = 25000\n"
     ]
    }
   ],
   "source": [
    "train_X, test_X, train_y, test_y = prepare_imdb_data(data, labels)\n",
    "print(\"IMDb reviews (combined): train = {}, test = {}\".format(len(train_X), len(test_X)))"
   ]
  },
  {
   "cell_type": "markdown",
   "metadata": {},
   "source": [
    "Now that we have our training and testing sets unified and prepared, we should do a quick check and see an example of the data our model will be trained on. This is generally a good idea as it allows you to see how each of the further processing steps affects the reviews and it also ensures that the data has been loaded correctly."
   ]
  },
  {
   "cell_type": "code",
   "execution_count": 6,
   "metadata": {},
   "outputs": [
    {
     "name": "stdout",
     "output_type": "stream",
     "text": [
      "Panic is a sneaky little gem of a film - you think you have it figured out by the first half hour only to realize, with great pleasure, that Henry Bromell is a much better writer/director than that. <br /><br />The film builds slowly, with one quietly devastating scene after another, all enacted perfectly by William H. Macy, Donald Sutherland, Neve Campbell, Tracey Ullman, John Ritter, and the most remarkable child actor I've seen in a long time, David Dorfman, as Macy's son, who delivers his lines as if they're completely unscripted thoughts being created in his mind. Rich and rewarding, this film will stay with you long after the credits have rolled.\n",
      "1\n"
     ]
    }
   ],
   "source": [
    "print(train_X[100])\n",
    "print(train_y[100])"
   ]
  },
  {
   "cell_type": "markdown",
   "metadata": {},
   "source": [
    "The first step in processing the reviews is to make sure that any html tags that appear should be removed. In addition we wish to tokenize our input, that way words such as *entertained* and *entertaining* are considered the same with regard to sentiment analysis."
   ]
  },
  {
   "cell_type": "code",
   "execution_count": 7,
   "metadata": {},
   "outputs": [],
   "source": [
    "import nltk\n",
    "from nltk.corpus import stopwords\n",
    "from nltk.stem.porter import *\n",
    "\n",
    "import re\n",
    "from bs4 import BeautifulSoup\n",
    "\n",
    "def review_to_words(review):\n",
    "    nltk.download(\"stopwords\", quiet=True)\n",
    "    stemmer = PorterStemmer()\n",
    "    \n",
    "    text = BeautifulSoup(review, \"html.parser\").get_text() # Remove HTML tags\n",
    "    text = re.sub(r\"[^a-zA-Z0-9]\", \" \", text.lower()) # Convert to lower case\n",
    "    words = text.split() # Split string into words\n",
    "    words = [w for w in words if w not in stopwords.words(\"english\")] # Remove stopwords\n",
    "    words = [PorterStemmer().stem(w) for w in words] # stem\n",
    "    \n",
    "    return words"
   ]
  },
  {
   "cell_type": "markdown",
   "metadata": {},
   "source": [
    "The `review_to_words` method defined above uses `BeautifulSoup` to remove any html tags that appear and uses the `nltk` package to tokenize the reviews. As a check to ensure we know how everything is working, try applying `review_to_words` to one of the reviews in the training set."
   ]
  },
  {
   "cell_type": "code",
   "execution_count": 8,
   "metadata": {},
   "outputs": [
    {
     "data": {
      "text/plain": [
       "['panic',\n",
       " 'sneaki',\n",
       " 'littl',\n",
       " 'gem',\n",
       " 'film',\n",
       " 'think',\n",
       " 'figur',\n",
       " 'first',\n",
       " 'half',\n",
       " 'hour',\n",
       " 'realiz',\n",
       " 'great',\n",
       " 'pleasur',\n",
       " 'henri',\n",
       " 'bromel',\n",
       " 'much',\n",
       " 'better',\n",
       " 'writer',\n",
       " 'director',\n",
       " 'film',\n",
       " 'build',\n",
       " 'slowli',\n",
       " 'one',\n",
       " 'quietli',\n",
       " 'devast',\n",
       " 'scene',\n",
       " 'anoth',\n",
       " 'enact',\n",
       " 'perfectli',\n",
       " 'william',\n",
       " 'h',\n",
       " 'maci',\n",
       " 'donald',\n",
       " 'sutherland',\n",
       " 'neve',\n",
       " 'campbel',\n",
       " 'tracey',\n",
       " 'ullman',\n",
       " 'john',\n",
       " 'ritter',\n",
       " 'remark',\n",
       " 'child',\n",
       " 'actor',\n",
       " 'seen',\n",
       " 'long',\n",
       " 'time',\n",
       " 'david',\n",
       " 'dorfman',\n",
       " 'maci',\n",
       " 'son',\n",
       " 'deliv',\n",
       " 'line',\n",
       " 'complet',\n",
       " 'unscript',\n",
       " 'thought',\n",
       " 'creat',\n",
       " 'mind',\n",
       " 'rich',\n",
       " 'reward',\n",
       " 'film',\n",
       " 'stay',\n",
       " 'long',\n",
       " 'credit',\n",
       " 'roll']"
      ]
     },
     "execution_count": 8,
     "metadata": {},
     "output_type": "execute_result"
    }
   ],
   "source": [
    "# TODO: Apply review_to_words to a review (train_X[100] or any other review)\n",
    "review_to_words(train_X[100])"
   ]
  },
  {
   "cell_type": "markdown",
   "metadata": {},
   "source": [
    "**Question:** Above we mentioned that `review_to_words` method removes html formatting and allows us to tokenize the words found in a review, for example, converting *entertained* and *entertaining* into *entertain* so that they are treated as though they are the same word. What else, if anything, does this method do to the input?"
   ]
  },
  {
   "cell_type": "markdown",
   "metadata": {},
   "source": [
    "**Answer:**  \n",
    "- Converting to lower cases. It only allows characters and digits, therefore removing any unnecessary characters  \n",
    "- Removing stopwords like \"the\", \"a\", \"an\", \"in\"  \n",
    "- Lemmatization and steeming (choping off the ends of words)  \n",
    "- Caching words when in the preprocessing step  "
   ]
  },
  {
   "cell_type": "markdown",
   "metadata": {},
   "source": [
    "The method below applies the `review_to_words` method to each of the reviews in the training and testing datasets. In addition it caches the results. This is because performing this processing step can take a long time. This way if you are unable to complete the notebook in the current session, you can come back without needing to process the data a second time."
   ]
  },
  {
   "cell_type": "code",
   "execution_count": 9,
   "metadata": {},
   "outputs": [],
   "source": [
    "# Took ~ 1h 15min \n",
    "import pickle\n",
    "\n",
    "cache_dir = os.path.join(\"../cache\", \"sentiment_analysis\")  # where to store cache files\n",
    "os.makedirs(cache_dir, exist_ok=True)  # ensure cache directory exists\n",
    "\n",
    "def preprocess_data(data_train, data_test, labels_train, labels_test,\n",
    "                    cache_dir=cache_dir, cache_file=\"preprocessed_data.pkl\"):\n",
    "    \"\"\"Convert each review to words; read from cache if available.\"\"\"\n",
    "\n",
    "    # If cache_file is not None, try to read from it first\n",
    "    cache_data = None\n",
    "    if cache_file is not None:\n",
    "        try:\n",
    "            with open(os.path.join(cache_dir, cache_file), \"rb\") as f:\n",
    "                cache_data = pickle.load(f)\n",
    "            print(\"Read preprocessed data from cache file:\", cache_file)\n",
    "        except:\n",
    "            pass  # unable to read from cache, but that's okay\n",
    "    \n",
    "    # If cache is missing, then do the heavy lifting\n",
    "    if cache_data is None:\n",
    "        # Preprocess training and test data to obtain words for each review\n",
    "        #words_train = list(map(review_to_words, data_train))\n",
    "        #words_test = list(map(review_to_words, data_test))\n",
    "        words_train = [review_to_words(review) for review in data_train]\n",
    "        words_test = [review_to_words(review) for review in data_test]\n",
    "        \n",
    "        # Write to cache file for future runs\n",
    "        if cache_file is not None:\n",
    "            cache_data = dict(words_train=words_train, words_test=words_test,\n",
    "                              labels_train=labels_train, labels_test=labels_test)\n",
    "            with open(os.path.join(cache_dir, cache_file), \"wb\") as f:\n",
    "                pickle.dump(cache_data, f)\n",
    "            print(\"Wrote preprocessed data to cache file:\", cache_file)\n",
    "    else:\n",
    "        # Unpack data loaded from cache file\n",
    "        words_train, words_test, labels_train, labels_test = (cache_data['words_train'],\n",
    "                cache_data['words_test'], cache_data['labels_train'], cache_data['labels_test'])\n",
    "    \n",
    "    return words_train, words_test, labels_train, labels_test"
   ]
  },
  {
   "cell_type": "code",
   "execution_count": 10,
   "metadata": {},
   "outputs": [
    {
     "name": "stdout",
     "output_type": "stream",
     "text": [
      "Read preprocessed data from cache file: preprocessed_data.pkl\n"
     ]
    }
   ],
   "source": [
    "# Preprocess data\n",
    "train_X, test_X, train_y, test_y = preprocess_data(train_X, test_X, train_y, test_y)"
   ]
  },
  {
   "cell_type": "markdown",
   "metadata": {},
   "source": [
    "![Preprocess_data](./img/preprocess_data.PNG)"
   ]
  },
  {
   "cell_type": "markdown",
   "metadata": {},
   "source": [
    "## Transform the data\n",
    "\n",
    "In the XGBoost notebook we transformed the data from its word representation to a bag-of-words feature representation. For the model we are going to construct in this notebook we will construct a feature representation which is very similar. To start, we will represent each word as an integer. Of course, some of the words that appear in the reviews occur very infrequently and so likely don't contain much information for the purposes of sentiment analysis. The way we will deal with this problem is that we will fix the size of our working vocabulary and we will only include the words that appear most frequently. We will then combine all of the infrequent words into a single category and, in our case, we will label it as `1`.\n",
    "\n",
    "Since we will be using a recurrent neural network, it will be convenient if the length of each review is the same. To do this, we will fix a size for our reviews and then pad short reviews with the category 'no word' (which we will label `0`) and truncate long reviews."
   ]
  },
  {
   "cell_type": "markdown",
   "metadata": {},
   "source": [
    "### (TODO) Create a word dictionary\n",
    "\n",
    "To begin with, we need to construct a way to map words that appear in the reviews to integers. Here we fix the size of our vocabulary (including the 'no word' and 'infrequent' categories) to be `5000` but you may wish to change this to see how it affects the model.\n",
    "\n",
    "> **TODO:** Complete the implementation for the `build_dict()` method below. Note that even though the vocab_size is set to `5000`, we only want to construct a mapping for the most frequently appearing `4998` words. This is because we want to reserve the special labels `0` for 'no word' and `1` for 'infrequent word'."
   ]
  },
  {
   "cell_type": "code",
   "execution_count": 11,
   "metadata": {},
   "outputs": [],
   "source": [
    "import numpy as np\n",
    "\n",
    "def build_dict(data, vocab_size = 5000):\n",
    "    \"\"\"Construct and return a dictionary mapping each of the most frequently appearing words to a unique integer.\"\"\"\n",
    "    \n",
    "    # TODO: Determine how often each word appears in `data`. Note that `data` is a list of sentences and that a\n",
    "    #       sentence is a list of words.\n",
    "    \n",
    "    word_count = {} # A dict storing the words that appear in the reviews along with how often they occur\n",
    "    for row in data:\n",
    "        for word in row:\n",
    "            #(word_count[word] += 1) if word in word_count else (word_count[word] = 1)\n",
    "            if word in word_count:\n",
    "                word_count[word] +=1\n",
    "            else:\n",
    "                word_count[word] = 1      \n",
    "    \n",
    "    # TODO: Sort the words found in `data` so that sorted_words[0] is the most frequently appearing word and\n",
    "    #       sorted_words[-1] is the least frequently appearing word.\n",
    "    \n",
    "    #sorted_words = None\n",
    "    sorted_words = sorted(word_count, key=word_count.get, reverse=True)\n",
    "    \n",
    "    word_dict = {} # This is what we are building, a dictionary that translates words into integers\n",
    "    for idx, word in enumerate(sorted_words[:vocab_size - 2]): # The -2 is so that we save room for the 'no word'\n",
    "        word_dict[word] = idx + 2                              # 'infrequent' labels\n",
    "        \n",
    "    return word_dict"
   ]
  },
  {
   "cell_type": "code",
   "execution_count": 12,
   "metadata": {},
   "outputs": [
    {
     "name": "stdout",
     "output_type": "stream",
     "text": [
      "{'movi': 2, 'film': 3, 'one': 4, 'like': 5, 'time': 6, 'good': 7, 'make': 8, 'charact': 9, 'get': 10, 'see': 11, 'watch': 12, 'stori': 13, 'even': 14, 'would': 15, 'realli': 16, 'well': 17, 'scene': 18, 'look': 19, 'show': 20, 'much': 21, 'end': 22, 'peopl': 23, 'bad': 24, 'go': 25, 'great': 26, 'also': 27, 'first': 28, 'love': 29, 'think': 30, 'way': 31, 'act': 32, 'play': 33, 'made': 34, 'thing': 35, 'could': 36, 'know': 37, 'say': 38, 'seem': 39, 'work': 40, 'plot': 41, 'two': 42, 'actor': 43, 'year': 44, 'come': 45, 'mani': 46, 'seen': 47, 'take': 48, 'life': 49, 'want': 50, 'never': 51, 'littl': 52, 'best': 53, 'tri': 54, 'man': 55, 'ever': 56, 'give': 57, 'better': 58, 'still': 59, 'perform': 60, 'find': 61, 'feel': 62, 'part': 63, 'back': 64, 'use': 65, 'someth': 66, 'director': 67, 'actual': 68, 'interest': 69, 'lot': 70, 'real': 71, 'old': 72, 'cast': 73, 'though': 74, 'live': 75, 'star': 76, 'enjoy': 77, 'guy': 78, 'anoth': 79, 'new': 80, 'role': 81, 'noth': 82, '10': 83, 'funni': 84, 'music': 85, 'point': 86, 'start': 87, 'set': 88, 'girl': 89, 'origin': 90, 'day': 91, 'world': 92, 'everi': 93, 'believ': 94, 'turn': 95, 'quit': 96, 'us': 97, 'direct': 98, 'thought': 99, 'fact': 100, 'minut': 101, 'horror': 102, 'kill': 103, 'action': 104, 'comedi': 105, 'pretti': 106, 'young': 107, 'wonder': 108, 'happen': 109, 'around': 110, 'got': 111, 'effect': 112, 'right': 113, 'long': 114, 'howev': 115, 'big': 116, 'line': 117, 'famili': 118, 'enough': 119, 'seri': 120, 'may': 121, 'need': 122, 'fan': 123, 'bit': 124, 'script': 125, 'beauti': 126, 'person': 127, 'becom': 128, 'without': 129, 'must': 130, 'alway': 131, 'friend': 132, 'tell': 133, 'reason': 134, 'saw': 135, 'last': 136, 'final': 137, 'kid': 138, 'almost': 139, 'put': 140, 'least': 141, 'sure': 142, 'done': 143, 'whole': 144, 'place': 145, 'complet': 146, 'kind': 147, 'expect': 148, 'differ': 149, 'shot': 150, 'far': 151, 'mean': 152, 'anyth': 153, 'book': 154, 'laugh': 155, 'might': 156, 'name': 157, 'sinc': 158, 'begin': 159, '2': 160, 'probabl': 161, 'woman': 162, 'help': 163, 'entertain': 164, 'let': 165, 'screen': 166, 'call': 167, 'tv': 168, 'moment': 169, 'away': 170, 'read': 171, 'yet': 172, 'rather': 173, 'worst': 174, 'run': 175, 'fun': 176, 'lead': 177, 'hard': 178, 'audienc': 179, 'idea': 180, 'anyon': 181, 'episod': 182, 'american': 183, 'found': 184, 'appear': 185, 'bore': 186, 'especi': 187, 'although': 188, 'hope': 189, 'cours': 190, 'keep': 191, 'anim': 192, 'job': 193, 'goe': 194, 'move': 195, 'sens': 196, 'version': 197, 'dvd': 198, 'war': 199, 'money': 200, 'someon': 201, 'mind': 202, 'mayb': 203, 'problem': 204, 'true': 205, 'hous': 206, 'everyth': 207, 'nice': 208, 'second': 209, 'rate': 210, 'three': 211, 'night': 212, 'follow': 213, 'face': 214, 'recommend': 215, 'main': 216, 'product': 217, 'worth': 218, 'leav': 219, 'human': 220, 'special': 221, 'excel': 222, 'togeth': 223, 'wast': 224, 'everyon': 225, 'sound': 226, 'john': 227, 'hand': 228, '1': 229, 'father': 230, 'later': 231, 'eye': 232, 'said': 233, 'view': 234, 'instead': 235, 'review': 236, 'boy': 237, 'high': 238, 'hour': 239, 'miss': 240, 'classic': 241, 'talk': 242, 'wife': 243, 'understand': 244, 'left': 245, 'care': 246, 'black': 247, 'death': 248, 'open': 249, 'murder': 250, 'write': 251, 'half': 252, 'head': 253, 'rememb': 254, 'chang': 255, 'viewer': 256, 'fight': 257, 'gener': 258, 'surpris': 259, 'includ': 260, 'short': 261, 'die': 262, 'fall': 263, 'less': 264, 'els': 265, 'entir': 266, 'piec': 267, 'involv': 268, 'pictur': 269, 'simpli': 270, 'power': 271, 'top': 272, 'home': 273, 'total': 274, 'usual': 275, 'budget': 276, 'attempt': 277, 'suppos': 278, 'releas': 279, 'hollywood': 280, 'terribl': 281, 'song': 282, 'men': 283, 'possibl': 284, 'featur': 285, 'portray': 286, 'disappoint': 287, 'poor': 288, '3': 289, 'coupl': 290, 'stupid': 291, 'camera': 292, 'dead': 293, 'wrong': 294, 'low': 295, 'produc': 296, 'either': 297, 'video': 298, 'aw': 299, 'definit': 300, 'except': 301, 'rest': 302, 'given': 303, 'absolut': 304, 'women': 305, 'lack': 306, 'word': 307, 'writer': 308, 'titl': 309, 'talent': 310, 'decid': 311, 'full': 312, 'perfect': 313, 'along': 314, 'style': 315, 'close': 316, 'truli': 317, 'school': 318, 'save': 319, 'emot': 320, 'age': 321, 'sex': 322, 'next': 323, 'bring': 324, 'mr': 325, 'case': 326, 'killer': 327, 'heart': 328, 'comment': 329, 'sort': 330, 'creat': 331, 'perhap': 332, 'came': 333, 'brother': 334, 'sever': 335, 'joke': 336, 'art': 337, 'dialogu': 338, 'game': 339, 'small': 340, 'base': 341, 'flick': 342, 'written': 343, 'sequenc': 344, 'meet': 345, 'earli': 346, 'often': 347, 'other': 348, 'mother': 349, 'develop': 350, 'humor': 351, 'actress': 352, 'consid': 353, 'dark': 354, 'guess': 355, 'amaz': 356, 'unfortun': 357, 'lost': 358, 'light': 359, 'exampl': 360, 'cinema': 361, 'drama': 362, 'ye': 363, 'white': 364, 'experi': 365, 'imagin': 366, 'mention': 367, 'stop': 368, 'natur': 369, 'forc': 370, 'manag': 371, 'felt': 372, 'present': 373, 'cut': 374, 'children': 375, 'fail': 376, 'son': 377, 'support': 378, 'qualiti': 379, 'car': 380, 'ask': 381, 'hit': 382, 'side': 383, 'voic': 384, 'extrem': 385, 'impress': 386, 'wors': 387, 'evil': 388, 'stand': 389, 'went': 390, 'certainli': 391, 'basic': 392, 'oh': 393, 'overal': 394, 'favorit': 395, 'horribl': 396, 'mysteri': 397, 'number': 398, 'type': 399, 'danc': 400, 'wait': 401, 'hero': 402, 'alreadi': 403, '5': 404, 'learn': 405, 'matter': 406, '4': 407, 'michael': 408, 'genr': 409, 'fine': 410, 'despit': 411, 'throughout': 412, 'walk': 413, 'success': 414, 'histori': 415, 'question': 416, 'zombi': 417, 'town': 418, 'realiz': 419, 'relationship': 420, 'child': 421, 'past': 422, 'daughter': 423, 'late': 424, 'b': 425, 'wish': 426, 'credit': 427, 'hate': 428, 'event': 429, 'theme': 430, 'touch': 431, 'citi': 432, 'today': 433, 'sometim': 434, 'behind': 435, 'god': 436, 'twist': 437, 'sit': 438, 'annoy': 439, 'stay': 440, 'deal': 441, 'abl': 442, 'rent': 443, 'pleas': 444, 'edit': 445, 'blood': 446, 'deserv': 447, 'anyway': 448, 'comic': 449, 'appar': 450, 'soon': 451, 'gave': 452, 'etc': 453, 'level': 454, 'slow': 455, 'chanc': 456, 'score': 457, 'bodi': 458, 'brilliant': 459, 'incred': 460, 'figur': 461, 'situat': 462, 'self': 463, 'major': 464, 'stuff': 465, 'decent': 466, 'element': 467, 'return': 468, 'dream': 469, 'obvious': 470, 'order': 471, 'continu': 472, 'pace': 473, 'ridicul': 474, 'happi': 475, 'highli': 476, 'group': 477, 'add': 478, 'thank': 479, 'ladi': 480, 'novel': 481, 'pain': 482, 'speak': 483, 'career': 484, 'shoot': 485, 'strang': 486, 'heard': 487, 'sad': 488, 'husband': 489, 'polic': 490, 'import': 491, 'break': 492, 'took': 493, 'cannot': 494, 'strong': 495, 'predict': 496, 'robert': 497, 'violenc': 498, 'hilari': 499, 'recent': 500, 'countri': 501, 'known': 502, 'particularli': 503, 'pick': 504, 'documentari': 505, 'season': 506, 'critic': 507, 'jame': 508, 'compar': 509, 'alon': 510, 'obviou': 511, 'told': 512, 'state': 513, 'visual': 514, 'rock': 515, 'exist': 516, 'offer': 517, 'theater': 518, 'opinion': 519, 'gore': 520, 'crap': 521, 'hold': 522, 'result': 523, 'room': 524, 'hear': 525, 'realiti': 526, 'clich': 527, 'effort': 528, 'thriller': 529, 'caus': 530, 'sequel': 531, 'serious': 532, 'explain': 533, 'king': 534, 'local': 535, 'ago': 536, 'hell': 537, 'none': 538, 'note': 539, 'allow': 540, 'sister': 541, 'david': 542, 'simpl': 543, 'femal': 544, 'deliv': 545, 'ok': 546, 'convinc': 547, 'class': 548, 'check': 549, 'suspens': 550, 'win': 551, 'buy': 552, 'oscar': 553, 'huge': 554, 'valu': 555, 'sexual': 556, 'scari': 557, 'cool': 558, 'excit': 559, 'similar': 560, 'exactli': 561, 'apart': 562, 'provid': 563, 'avoid': 564, 'shown': 565, 'seriou': 566, 'english': 567, 'taken': 568, 'whose': 569, 'cinematographi': 570, 'shock': 571, 'polit': 572, 'spoiler': 573, 'offic': 574, 'across': 575, 'middl': 576, 'street': 577, 'pass': 578, 'messag': 579, 'charm': 580, 'somewhat': 581, 'silli': 582, 'modern': 583, 'confus': 584, 'filmmak': 585, 'form': 586, 'tale': 587, 'singl': 588, 'jack': 589, 'mostli': 590, 'attent': 591, 'william': 592, 'carri': 593, 'sing': 594, 'five': 595, 'subject': 596, 'prove': 597, 'richard': 598, 'team': 599, 'stage': 600, 'unlik': 601, 'cop': 602, 'georg': 603, 'monster': 604, 'televis': 605, 'earth': 606, 'cover': 607, 'villain': 608, 'pay': 609, 'marri': 610, 'toward': 611, 'build': 612, 'parent': 613, 'pull': 614, 'due': 615, 'fill': 616, 'respect': 617, 'four': 618, 'dialog': 619, 'remind': 620, 'futur': 621, 'weak': 622, 'typic': 623, '7': 624, 'cheap': 625, 'intellig': 626, 'atmospher': 627, 'british': 628, '80': 629, 'clearli': 630, 'non': 631, 'paul': 632, 'dog': 633, 'knew': 634, '8': 635, 'artist': 636, 'fast': 637, 'crime': 638, 'easili': 639, 'escap': 640, 'doubt': 641, 'adult': 642, 'detail': 643, 'date': 644, 'romant': 645, 'fire': 646, 'member': 647, 'drive': 648, 'gun': 649, 'straight': 650, 'beyond': 651, 'fit': 652, 'attack': 653, 'imag': 654, 'upon': 655, 'posit': 656, 'whether': 657, 'fantast': 658, 'peter': 659, 'captur': 660, 'appreci': 661, 'aspect': 662, 'ten': 663, 'plan': 664, 'discov': 665, 'remain': 666, 'near': 667, 'period': 668, 'air': 669, 'realist': 670, 'mark': 671, 'red': 672, 'dull': 673, 'adapt': 674, 'within': 675, 'lose': 676, 'spend': 677, 'materi': 678, 'color': 679, 'chase': 680, 'mari': 681, 'storylin': 682, 'forget': 683, 'bunch': 684, 'clear': 685, 'lee': 686, 'victim': 687, 'nearli': 688, 'box': 689, 'york': 690, 'inspir': 691, 'match': 692, 'mess': 693, 'finish': 694, 'standard': 695, 'easi': 696, 'truth': 697, 'busi': 698, 'suffer': 699, 'bill': 700, 'space': 701, 'dramat': 702, 'western': 703, 'e': 704, 'list': 705, 'battl': 706, 'notic': 707, 'de': 708, 'french': 709, 'ad': 710, '9': 711, 'tom': 712, 'larg': 713, 'among': 714, 'eventu': 715, 'accept': 716, 'train': 717, 'agre': 718, 'soundtrack': 719, 'spirit': 720, 'third': 721, 'teenag': 722, 'adventur': 723, 'soldier': 724, 'suggest': 725, 'drug': 726, 'famou': 727, 'sorri': 728, 'babi': 729, 'cri': 730, 'normal': 731, 'ultim': 732, 'troubl': 733, 'contain': 734, 'certain': 735, 'cultur': 736, 'romanc': 737, 'rare': 738, 'lame': 739, 'somehow': 740, 'mix': 741, 'disney': 742, 'gone': 743, 'cartoon': 744, 'student': 745, 'reveal': 746, 'fear': 747, 'kept': 748, 'suck': 749, 'attract': 750, 'appeal': 751, 'premis': 752, 'secret': 753, 'greatest': 754, 'design': 755, 'shame': 756, 'throw': 757, 'copi': 758, 'scare': 759, 'wit': 760, 'america': 761, 'admit': 762, 'brought': 763, 'particular': 764, 'relat': 765, 'screenplay': 766, 'whatev': 767, 'pure': 768, '70': 769, 'averag': 770, 'harri': 771, 'master': 772, 'describ': 773, 'treat': 774, 'male': 775, '20': 776, 'issu': 777, 'fantasi': 778, 'warn': 779, 'inde': 780, 'background': 781, 'forward': 782, 'free': 783, 'project': 784, 'japanes': 785, 'memor': 786, 'poorli': 787, 'award': 788, 'locat': 789, 'potenti': 790, 'amus': 791, 'struggl': 792, 'weird': 793, 'magic': 794, 'societi': 795, 'okay': 796, 'imdb': 797, 'accent': 798, 'doctor': 799, 'water': 800, 'hot': 801, '30': 802, 'express': 803, 'alien': 804, 'dr': 805, 'odd': 806, 'choic': 807, 'crazi': 808, 'fiction': 809, 'studio': 810, 'control': 811, 'becam': 812, 'masterpiec': 813, 'difficult': 814, 'fli': 815, 'joe': 816, 'scream': 817, 'costum': 818, 'lover': 819, 'refer': 820, 'uniqu': 821, 'remak': 822, 'girlfriend': 823, 'vampir': 824, 'prison': 825, 'execut': 826, 'wear': 827, 'jump': 828, 'unless': 829, 'wood': 830, 'creepi': 831, 'cheesi': 832, 'superb': 833, 'otherwis': 834, 'parti': 835, 'ghost': 836, 'roll': 837, 'mad': 838, 'public': 839, 'depict': 840, 'earlier': 841, 'badli': 842, 'jane': 843, 'week': 844, 'moral': 845, 'fi': 846, 'dumb': 847, 'flaw': 848, 'grow': 849, 'deep': 850, 'sci': 851, 'maker': 852, 'cat': 853, 'older': 854, 'connect': 855, 'footag': 856, 'bother': 857, 'plenti': 858, 'outsid': 859, 'stick': 860, 'gay': 861, 'catch': 862, 'co': 863, 'plu': 864, 'popular': 865, 'equal': 866, 'social': 867, 'disturb': 868, 'quickli': 869, 'perfectli': 870, 'dress': 871, 'era': 872, '90': 873, 'mistak': 874, 'lie': 875, 'previou': 876, 'ride': 877, 'combin': 878, 'concept': 879, 'band': 880, 'rich': 881, 'answer': 882, 'surviv': 883, 'front': 884, 'sweet': 885, 'christma': 886, 'insid': 887, 'eat': 888, 'bare': 889, 'concern': 890, 'beat': 891, 'ben': 892, 'listen': 893, 'c': 894, 'serv': 895, 'term': 896, 'german': 897, 'la': 898, 'meant': 899, 'stereotyp': 900, 'hardli': 901, 'innoc': 902, 'law': 903, 'desper': 904, 'memori': 905, 'promis': 906, 'intent': 907, 'cute': 908, 'steal': 909, 'inform': 910, 'variou': 911, 'brain': 912, 'post': 913, 'tone': 914, 'island': 915, 'amount': 916, 'compani': 917, 'nuditi': 918, 'track': 919, 'claim': 920, 'store': 921, 'flat': 922, '50': 923, 'hair': 924, 'univers': 925, 'land': 926, 'danger': 927, 'kick': 928, 'fairli': 929, 'scott': 930, 'player': 931, 'step': 932, 'plain': 933, 'crew': 934, 'toni': 935, 'share': 936, 'centuri': 937, 'tast': 938, 'engag': 939, 'achiev': 940, 'travel': 941, 'cold': 942, 'rip': 943, 'suit': 944, 'record': 945, 'sadli': 946, 'manner': 947, 'tension': 948, 'spot': 949, 'wrote': 950, 'intens': 951, 'fascin': 952, 'familiar': 953, 'depth': 954, 'burn': 955, 'remark': 956, 'destroy': 957, 'histor': 958, 'sleep': 959, 'purpos': 960, 'languag': 961, 'ruin': 962, 'ignor': 963, 'delight': 964, 'italian': 965, 'unbeliev': 966, 'soul': 967, 'abil': 968, 'collect': 969, 'clever': 970, 'detect': 971, 'violent': 972, 'rape': 973, 'reach': 974, 'door': 975, 'trash': 976, 'liter': 977, 'scienc': 978, 'caught': 979, 'reveng': 980, 'commun': 981, 'creatur': 982, 'trip': 983, 'approach': 984, 'intrigu': 985, 'fashion': 986, 'paint': 987, 'introduc': 988, 'skill': 989, 'complex': 990, 'channel': 991, 'camp': 992, 'christian': 993, 'hole': 994, 'extra': 995, 'immedi': 996, 'limit': 997, 'ann': 998, 'mental': 999, '6': 1000, 'mere': 1001, 'slightli': 1002, 'comput': 1003, 'million': 1004, 'slasher': 1005, 'conclus': 1006, 'imposs': 1007, 'suddenli': 1008, 'neither': 1009, 'teen': 1010, 'crimin': 1011, 'nation': 1012, 'spent': 1013, 'physic': 1014, 'respons': 1015, 'planet': 1016, 'receiv': 1017, 'fake': 1018, 'sick': 1019, 'blue': 1020, 'bizarr': 1021, 'embarrass': 1022, 'indian': 1023, '15': 1024, 'ring': 1025, 'drop': 1026, 'pop': 1027, 'drag': 1028, 'haunt': 1029, 'pointless': 1030, 'suspect': 1031, 'search': 1032, 'edg': 1033, 'handl': 1034, 'biggest': 1035, 'common': 1036, 'hurt': 1037, 'arriv': 1038, 'faith': 1039, 'technic': 1040, 'angel': 1041, 'genuin': 1042, 'dad': 1043, 'solid': 1044, 'awesom': 1045, 'f': 1046, 'former': 1047, 'colleg': 1048, 'van': 1049, 'focu': 1050, 'count': 1051, 'tear': 1052, 'heavi': 1053, 'wall': 1054, 'rais': 1055, 'visit': 1056, 'laughabl': 1057, 'younger': 1058, 'fair': 1059, 'excus': 1060, 'sign': 1061, 'cult': 1062, 'key': 1063, 'tough': 1064, 'motion': 1065, 'super': 1066, 'desir': 1067, 'addit': 1068, 'stun': 1069, 'exploit': 1070, 'cloth': 1071, 'tortur': 1072, 'smith': 1073, 'davi': 1074, 'race': 1075, 'cross': 1076, 'author': 1077, 'jim': 1078, 'minor': 1079, 'consist': 1080, 'compel': 1081, 'focus': 1082, 'commit': 1083, 'chemistri': 1084, 'pathet': 1085, 'park': 1086, 'frank': 1087, 'tradit': 1088, 'obsess': 1089, 'grade': 1090, '60': 1091, 'asid': 1092, 'brutal': 1093, 'somewher': 1094, 'steve': 1095, 'grant': 1096, 'opportun': 1097, 'depress': 1098, 'explor': 1099, 'u': 1100, 'rule': 1101, 'honest': 1102, 'besid': 1103, 'dub': 1104, 'anti': 1105, 'trailer': 1106, 'intend': 1107, 'bar': 1108, 'longer': 1109, 'scientist': 1110, 'west': 1111, 'regard': 1112, 'decad': 1113, 'judg': 1114, 'silent': 1115, 'armi': 1116, 'creativ': 1117, 'wild': 1118, 'south': 1119, 'g': 1120, 'stewart': 1121, 'draw': 1122, 'road': 1123, 'govern': 1124, 'ex': 1125, 'boss': 1126, 'practic': 1127, 'surprisingli': 1128, 'motiv': 1129, 'festiv': 1130, 'gang': 1131, 'club': 1132, 'page': 1133, 'redeem': 1134, 'london': 1135, 'green': 1136, 'idiot': 1137, 'aliv': 1138, 'display': 1139, 'militari': 1140, 'machin': 1141, 'repeat': 1142, 'thrill': 1143, 'yeah': 1144, '100': 1145, 'nobodi': 1146, 'folk': 1147, '40': 1148, 'garbag': 1149, 'journey': 1150, 'tire': 1151, 'ground': 1152, 'smile': 1153, 'mood': 1154, 'bought': 1155, 'cost': 1156, 'sam': 1157, 'stone': 1158, 'mouth': 1159, 'noir': 1160, 'agent': 1161, 'terrif': 1162, 'requir': 1163, 'utterli': 1164, 'area': 1165, 'honestli': 1166, 'sexi': 1167, 'geniu': 1168, 'report': 1169, 'enter': 1170, 'glad': 1171, 'investig': 1172, 'humour': 1173, 'serial': 1174, 'narr': 1175, 'passion': 1176, 'occasion': 1177, 'marriag': 1178, 'climax': 1179, 'industri': 1180, 'studi': 1181, 'nowher': 1182, 'center': 1183, 'demon': 1184, 'ship': 1185, 'charli': 1186, 'bear': 1187, 'hors': 1188, 'loos': 1189, 'wow': 1190, 'hang': 1191, 'graphic': 1192, 'admir': 1193, 'giant': 1194, 'send': 1195, 'loud': 1196, 'damn': 1197, 'subtl': 1198, 'rel': 1199, 'nake': 1200, 'profession': 1201, 'blow': 1202, 'bottom': 1203, 'batman': 1204, 'insult': 1205, 'boyfriend': 1206, 'r': 1207, 'doubl': 1208, 'kelli': 1209, 'initi': 1210, 'frame': 1211, 'gem': 1212, 'opera': 1213, 'drawn': 1214, 'challeng': 1215, 'cinemat': 1216, 'affect': 1217, 'church': 1218, 'seek': 1219, 'fulli': 1220, 'l': 1221, 'nightmar': 1222, 'evid': 1223, 'j': 1224, 'conflict': 1225, 'essenti': 1226, 'arm': 1227, 'grace': 1228, 'christoph': 1229, 'henri': 1230, 'wind': 1231, 'assum': 1232, 'witch': 1233, 'narrat': 1234, 'hunt': 1235, 'push': 1236, 'wise': 1237, 'chri': 1238, 'month': 1239, 'repres': 1240, 'nomin': 1241, 'affair': 1242, 'hide': 1243, 'sceneri': 1244, 'avail': 1245, 'thu': 1246, 'bond': 1247, 'smart': 1248, 'justic': 1249, 'outstand': 1250, 'flashback': 1251, 'interview': 1252, 'presenc': 1253, 'constantli': 1254, 'satisfi': 1255, 'bed': 1256, 'central': 1257, 'iron': 1258, 'content': 1259, 'sell': 1260, 'everybodi': 1261, 'gag': 1262, 'slowli': 1263, 'hotel': 1264, 'hire': 1265, 'system': 1266, 'hey': 1267, 'adam': 1268, 'charl': 1269, 'thrown': 1270, 'individu': 1271, 'jone': 1272, 'mediocr': 1273, 'allen': 1274, 'ray': 1275, 'lesson': 1276, 'billi': 1277, 'photographi': 1278, 'cameo': 1279, 'fellow': 1280, 'pari': 1281, 'strike': 1282, 'rise': 1283, 'brief': 1284, 'independ': 1285, 'absurd': 1286, 'neg': 1287, 'impact': 1288, 'phone': 1289, 'model': 1290, 'ill': 1291, 'born': 1292, 'spoil': 1293, 'fresh': 1294, 'angl': 1295, 'abus': 1296, 'likabl': 1297, 'discuss': 1298, 'hill': 1299, 'ahead': 1300, 'sight': 1301, 'sent': 1302, 'photograph': 1303, 'logic': 1304, 'occur': 1305, 'blame': 1306, 'shine': 1307, 'bruce': 1308, 'mainli': 1309, 'forev': 1310, 'commerci': 1311, 'skip': 1312, 'segment': 1313, 'held': 1314, 'surround': 1315, 'teacher': 1316, 'zero': 1317, 'blond': 1318, 'summer': 1319, 'trap': 1320, 'resembl': 1321, 'satir': 1322, 'queen': 1323, 'six': 1324, 'ball': 1325, 'fool': 1326, 'sub': 1327, 'twice': 1328, 'tragedi': 1329, 'reaction': 1330, 'pack': 1331, 'bomb': 1332, 'hospit': 1333, 'protagonist': 1334, 'will': 1335, 'mile': 1336, 'sport': 1337, 'drink': 1338, 'mom': 1339, 'jerri': 1340, 'trust': 1341, 'vote': 1342, 'encount': 1343, 'plane': 1344, 'program': 1345, 'current': 1346, 'station': 1347, 'al': 1348, 'celebr': 1349, 'choos': 1350, 'martin': 1351, 'join': 1352, 'lord': 1353, 'field': 1354, 'round': 1355, 'favourit': 1356, 'tragic': 1357, 'robot': 1358, 'vision': 1359, 'jean': 1360, 'tie': 1361, 'arthur': 1362, 'fortun': 1363, 'random': 1364, 'roger': 1365, 'intern': 1366, 'psycholog': 1367, 'dread': 1368, 'improv': 1369, 'prefer': 1370, 'epic': 1371, 'nonsens': 1372, 'formula': 1373, 'legend': 1374, 'highlight': 1375, 'pleasur': 1376, 'dollar': 1377, '11': 1378, 'tape': 1379, 'object': 1380, 'gorgeou': 1381, 'fox': 1382, 'wide': 1383, 'porn': 1384, 'thin': 1385, 'influenc': 1386, 'buddi': 1387, 'ugli': 1388, 'ii': 1389, 'prepar': 1390, 'nasti': 1391, 'progress': 1392, 'reflect': 1393, 'supposedli': 1394, 'warm': 1395, 'youth': 1396, 'worthi': 1397, 'unusu': 1398, 'latter': 1399, 'length': 1400, 'crash': 1401, 'seven': 1402, 'superior': 1403, 'childhood': 1404, 'shop': 1405, 'remot': 1406, 'theatr': 1407, 'disgust': 1408, 'pilot': 1409, 'funniest': 1410, 'paid': 1411, 'trick': 1412, 'convers': 1413, 'castl': 1414, 'fell': 1415, 'rob': 1416, 'establish': 1417, 'gangster': 1418, 'disast': 1419, 'ident': 1420, 'suicid': 1421, 'disappear': 1422, 'mine': 1423, 'heaven': 1424, 'forgotten': 1425, 'mask': 1426, 'singer': 1427, 'tend': 1428, 'heroin': 1429, 'decis': 1430, 'partner': 1431, 'brian': 1432, 'alan': 1433, 'desert': 1434, 'recogn': 1435, 'p': 1436, 'ms': 1437, 'sky': 1438, 'thoroughli': 1439, 'stuck': 1440, 'accur': 1441, 'replac': 1442, 'market': 1443, 'danni': 1444, 'clue': 1445, 'seemingli': 1446, 'andi': 1447, 'eddi': 1448, 'uncl': 1449, 'commentari': 1450, 'jackson': 1451, 'devil': 1452, 'that': 1453, 'therefor': 1454, 'pair': 1455, 'refus': 1456, 'accid': 1457, 'fault': 1458, 'fate': 1459, 'unit': 1460, 'river': 1461, 'ed': 1462, 'tune': 1463, 'afraid': 1464, 'hidden': 1465, 'stephen': 1466, 'clean': 1467, 'russian': 1468, 'test': 1469, 'convey': 1470, 'quick': 1471, 'instanc': 1472, 'captain': 1473, 'readi': 1474, 'irrit': 1475, 'european': 1476, 'daniel': 1477, 'frustrat': 1478, 'insan': 1479, 'rescu': 1480, 'wed': 1481, 'food': 1482, 'chines': 1483, '1950': 1484, 'dirti': 1485, 'lock': 1486, 'angri': 1487, 'joy': 1488, 'price': 1489, 'steven': 1490, 'cage': 1491, 'bland': 1492, 'rang': 1493, 'anymor': 1494, 'wooden': 1495, 'rush': 1496, 'news': 1497, 'jason': 1498, 'n': 1499, 'worri': 1500, '12': 1501, 'board': 1502, 'martial': 1503, 'led': 1504, 'twenti': 1505, 'transform': 1506, 'cgi': 1507, 'symbol': 1508, 'hunter': 1509, 'onto': 1510, 'sentiment': 1511, 'invent': 1512, 'johnni': 1513, 'x': 1514, 'piti': 1515, 'explan': 1516, 'process': 1517, 'attitud': 1518, 'awar': 1519, 'owner': 1520, 'aim': 1521, 'energi': 1522, 'necessari': 1523, 'target': 1524, 'favor': 1525, 'floor': 1526, 'opposit': 1527, 'religi': 1528, 'insight': 1529, 'blind': 1530, 'chick': 1531, 'window': 1532, 'movement': 1533, 'mountain': 1534, 'research': 1535, 'comparison': 1536, 'deepli': 1537, 'possess': 1538, 'whatsoev': 1539, 'grand': 1540, 'comed': 1541, 'rain': 1542, 'began': 1543, 'shadow': 1544, 'mid': 1545, 'bank': 1546, 'parodi': 1547, 'princ': 1548, 'taylor': 1549, 'credibl': 1550, 'friendship': 1551, 'pre': 1552, 'weapon': 1553, 'dougla': 1554, 'flesh': 1555, 'teach': 1556, 'protect': 1557, 'terror': 1558, 'bloodi': 1559, 'hint': 1560, 'marvel': 1561, 'watchabl': 1562, 'load': 1563, 'superman': 1564, 'drunk': 1565, 'leader': 1566, 'anybodi': 1567, 'accord': 1568, 'brown': 1569, 'freddi': 1570, 'appropri': 1571, 'tim': 1572, 'jeff': 1573, 'seat': 1574, 'hitler': 1575, 'knock': 1576, 'charg': 1577, 'villag': 1578, 'unknown': 1579, 'keaton': 1580, 'england': 1581, 'unnecessari': 1582, 'media': 1583, 'empti': 1584, 'enemi': 1585, 'buck': 1586, 'wave': 1587, 'strength': 1588, 'dare': 1589, 'craft': 1590, 'perspect': 1591, 'utter': 1592, 'correct': 1593, 'ford': 1594, 'kiss': 1595, 'contrast': 1596, 'nativ': 1597, 'chill': 1598, 'magnific': 1599, 'soap': 1600, 'speed': 1601, 'nazi': 1602, 'distract': 1603, 'anywher': 1604, 'knowledg': 1605, 'mission': 1606, 'ice': 1607, 'breath': 1608, 'fred': 1609, '1980': 1610, 'moon': 1611, 'crowd': 1612, 'joan': 1613, 'jr': 1614, '000': 1615, 'soft': 1616, 'frighten': 1617, 'kate': 1618, 'nick': 1619, 'hundr': 1620, 'dick': 1621, 'dan': 1622, 'dozen': 1623, 'simon': 1624, 'radio': 1625, 'somebodi': 1626, 'thousand': 1627, 'loss': 1628, 'shakespear': 1629, 'academi': 1630, 'andrew': 1631, 'sum': 1632, 'root': 1633, 'vehicl': 1634, 'quot': 1635, 'account': 1636, 'behavior': 1637, 'convent': 1638, '1970': 1639, 'leg': 1640, 'gold': 1641, 'regular': 1642, 'compet': 1643, 'pretenti': 1644, 'demand': 1645, 'worker': 1646, 'stretch': 1647, 'explos': 1648, 'privat': 1649, 'lynch': 1650, 'japan': 1651, 'candi': 1652, 'notabl': 1653, 'interpret': 1654, 'debut': 1655, 'constant': 1656, 'tarzan': 1657, 'sea': 1658, 'revolv': 1659, 'prais': 1660, 'translat': 1661, 'spi': 1662, 'quiet': 1663, 'failur': 1664, 'threaten': 1665, 'sat': 1666, 'franc': 1667, 'jesu': 1668, 'ass': 1669, 'technolog': 1670, 'kevin': 1671, 'toy': 1672, 'higher': 1673, 'met': 1674, 'punch': 1675, 'aid': 1676, 'vh': 1677, 'interact': 1678, 'mike': 1679, 'abandon': 1680, 'bet': 1681, 'separ': 1682, 'command': 1683, 'confront': 1684, 'servic': 1685, 'techniqu': 1686, 'gotten': 1687, 'recal': 1688, 'site': 1689, 'stunt': 1690, 'belong': 1691, 'cabl': 1692, 'freak': 1693, 'bug': 1694, 'foot': 1695, 'capabl': 1696, 'jimmi': 1697, 'bright': 1698, 'african': 1699, 'fu': 1700, 'presid': 1701, 'boat': 1702, 'fat': 1703, 'clark': 1704, 'succeed': 1705, 'stock': 1706, 'spanish': 1707, 'structur': 1708, 'gene': 1709, 'paper': 1710, 'kidnap': 1711, 'belief': 1712, 'factor': 1713, 'whilst': 1714, 'realis': 1715, 'complic': 1716, 'attend': 1717, 'tree': 1718, 'witti': 1719, 'realism': 1720, 'bob': 1721, 'educ': 1722, 'assist': 1723, 'finest': 1724, 'santa': 1725, 'broken': 1726, 'depart': 1727, 'up': 1728, 'v': 1729, 'determin': 1730, 'smoke': 1731, 'observ': 1732, 'fame': 1733, 'hat': 1734, 'oper': 1735, 'domin': 1736, 'rubbish': 1737, 'routin': 1738, 'lewi': 1739, 'safe': 1740, 'advanc': 1741, 'kinda': 1742, 'morgan': 1743, 'lone': 1744, 'foreign': 1745, 'hook': 1746, 'numer': 1747, 'rank': 1748, 'shallow': 1749, 'werewolf': 1750, 'shape': 1751, 'vs': 1752, 'washington': 1753, 'civil': 1754, 'rose': 1755, 'morn': 1756, 'gari': 1757, 'winner': 1758, 'ordinari': 1759, 'kong': 1760, 'accomplish': 1761, 'whenev': 1762, 'virtual': 1763, 'grab': 1764, 'peac': 1765, 'luck': 1766, 'h': 1767, 'offens': 1768, 'complain': 1769, 'activ': 1770, 'unfunni': 1771, 'patient': 1772, 'bigger': 1773, 'welcom': 1774, 'contriv': 1775, 'pretend': 1776, 'trek': 1777, 'dimension': 1778, 'con': 1779, 'eric': 1780, 'flash': 1781, 'lesbian': 1782, 'dri': 1783, 'code': 1784, 'wake': 1785, 'cain': 1786, 'manipul': 1787, 'statu': 1788, 'dancer': 1789, 'corrupt': 1790, 'guard': 1791, 'albert': 1792, 'signific': 1793, 'awkward': 1794, 'speech': 1795, 'gain': 1796, 'context': 1797, 'sourc': 1798, '13': 1799, 'psycho': 1800, 'corni': 1801, 'clip': 1802, 'anthoni': 1803, 'sean': 1804, 'advic': 1805, 'curiou': 1806, 'reli': 1807, 'w': 1808, 'religion': 1809, 'theatric': 1810, 'priest': 1811, 'flow': 1812, 'addict': 1813, 'secur': 1814, 'asian': 1815, 'specif': 1816, 'skin': 1817, 'jennif': 1818, 'howard': 1819, 'promot': 1820, 'golden': 1821, 'comfort': 1822, 'luke': 1823, 'core': 1824, 'organ': 1825, 'lucki': 1826, 'cash': 1827, 'cheat': 1828, 'dislik': 1829, 'lower': 1830, 'associ': 1831, 'frequent': 1832, 'contribut': 1833, 'devic': 1834, 'spell': 1835, 'balanc': 1836, 'degre': 1837, 'wing': 1838, 'regret': 1839, 'frankli': 1840, 'lake': 1841, 'print': 1842, 'sake': 1843, 'forgiv': 1844, 'thoma': 1845, 'betti': 1846, 'mass': 1847, 'gordon': 1848, 'crack': 1849, 'unexpect': 1850, 'grown': 1851, 'categori': 1852, 'unfold': 1853, 'amateur': 1854, 'depend': 1855, 'invit': 1856, 'construct': 1857, 'honor': 1858, 'matur': 1859, 'condit': 1860, 'grew': 1861, 'anna': 1862, 'walter': 1863, 'intellectu': 1864, 'veteran': 1865, 'mirror': 1866, 'spectacular': 1867, 'sudden': 1868, 'sole': 1869, 'experienc': 1870, 'gift': 1871, 'grip': 1872, 'card': 1873, 'demonstr': 1874, 'liner': 1875, 'overli': 1876, 'freedom': 1877, 'meanwhil': 1878, 'robin': 1879, 'brilliantli': 1880, 'crappi': 1881, 'circumst': 1882, 'colour': 1883, 'drew': 1884, 'oliv': 1885, 'subtitl': 1886, 'theori': 1887, 'unabl': 1888, 'sheriff': 1889, 'section': 1890, 'altern': 1891, 'cook': 1892, 'laughter': 1893, 'sheer': 1894, 'pile': 1895, 'matt': 1896, 'parker': 1897, 'path': 1898, 'defin': 1899, 'wander': 1900, 'accident': 1901, 'hall': 1902, 'treatment': 1903, 'lawyer': 1904, 'relief': 1905, 'sinatra': 1906, 'captiv': 1907, 'dragon': 1908, 'hank': 1909, 'halloween': 1910, 'moor': 1911, 'gratuit': 1912, 'k': 1913, 'cowboy': 1914, 'wayn': 1915, 'jacki': 1916, 'unintent': 1917, 'broadway': 1918, 'wound': 1919, 'barbara': 1920, 'kung': 1921, 'spoof': 1922, 'winter': 1923, 'surreal': 1924, 'statement': 1925, 'canadian': 1926, 'fish': 1927, 'treasur': 1928, 'fare': 1929, 'gonna': 1930, 'compos': 1931, 'cheer': 1932, 'sensit': 1933, 'victor': 1934, 'woodi': 1935, 'emerg': 1936, 'unrealist': 1937, 'driven': 1938, 'ran': 1939, 'sympathet': 1940, 'neighbor': 1941, 'glass': 1942, 'menac': 1943, 'overlook': 1944, 'authent': 1945, 'expos': 1946, 'topic': 1947, 'handsom': 1948, 'ancient': 1949, 'michel': 1950, 'gross': 1951, 'chief': 1952, 'nevertheless': 1953, 'pleasant': 1954, 'network': 1955, 'comedian': 1956, 'feet': 1957, 'contemporari': 1958, 'stranger': 1959, 'russel': 1960, 'cinderella': 1961, 'built': 1962, 'consider': 1963, 'miser': 1964, 'blockbust': 1965, 'underr': 1966, 'gori': 1967, 'endless': 1968, 'earn': 1969, 'letter': 1970, 'brook': 1971, 'solv': 1972, 'switch': 1973, 'virgin': 1974, 'bullet': 1975, 'edward': 1976, 'convict': 1977, 'joseph': 1978, 'victoria': 1979, '0': 1980, 'scale': 1981, 'chosen': 1982, 'cynic': 1983, 'alex': 1984, 'scenario': 1985, 'com': 1986, 'curs': 1987, 'outrag': 1988, 'sword': 1989, 'gut': 1990, 'uk': 1991, 'driver': 1992, 'screenwrit': 1993, 'juli': 1994, 'proper': 1995, 'monkey': 1996, 'substanc': 1997, 'wrap': 1998, 'court': 1999, 'bird': 2000, 'remov': 2001, 'par': 2002, 'indic': 2003, 'naiv': 2004, 'roy': 2005, 'advertis': 2006, 'loser': 2007, 'consequ': 2008, 'rental': 2009, 'grave': 2010, 'nanci': 2011, 'inevit': 2012, 'invis': 2013, 'germani': 2014, 'brave': 2015, 'bridg': 2016, 'slap': 2017, 'fatal': 2018, 'le': 2019, 'provok': 2020, 'ador': 2021, 'footbal': 2022, 'loui': 2023, 'anger': 2024, 'alcohol': 2025, 'anderson': 2026, 'chan': 2027, 'professor': 2028, 'ryan': 2029, 'stumbl': 2030, 'willi': 2031, '1930': 2032, 'patrick': 2033, 'sharp': 2034, 'australian': 2035, 'assassin': 2036, 'bat': 2037, 'lousi': 2038, 'deni': 2039, 'liber': 2040, 'saturday': 2041, 'heck': 2042, 'cell': 2043, 'amateurish': 2044, 'refresh': 2045, 'trilog': 2046, 'strongli': 2047, 'eight': 2048, 'ape': 2049, 'sin': 2050, 'vagu': 2051, 'justifi': 2052, 'san': 2053, 'resid': 2054, 'reput': 2055, 'sympathi': 2056, 'mini': 2057, 'terrifi': 2058, 'indi': 2059, 'creator': 2060, 'defeat': 2061, 'expert': 2062, 'prevent': 2063, 'tabl': 2064, 'task': 2065, 'endur': 2066, 'tediou': 2067, 'employ': 2068, 'basebal': 2069, 'rival': 2070, 'imit': 2071, 'trial': 2072, 'offend': 2073, 'che': 2074, 'max': 2075, 'europ': 2076, 'pitch': 2077, 'complaint': 2078, 'dig': 2079, 'weekend': 2080, 'beach': 2081, 'fairi': 2082, 'risk': 2083, 'purchas': 2084, 'murphi': 2085, 'format': 2086, 'bite': 2087, 'harsh': 2088, 'hype': 2089, 'reminisc': 2090, 'glimps': 2091, 'nois': 2092, 'titan': 2093, 'powel': 2094, 'tini': 2095, 'north': 2096, '14': 2097, 'fals': 2098, 'strip': 2099, 'prime': 2100, 'till': 2101, 'asleep': 2102, 'revel': 2103, 'descript': 2104, 'africa': 2105, 'texa': 2106, 'destruct': 2107, 'semi': 2108, 'inner': 2109, 'spin': 2110, 'excess': 2111, 'arrest': 2112, 'uninterest': 2113, 'surfac': 2114, 'sitcom': 2115, 'argu': 2116, 'twin': 2117, 'maintain': 2118, 'makeup': 2119, 'dinosaur': 2120, 'hitchcock': 2121, 'massiv': 2122, 'controversi': 2123, 'melodrama': 2124, 'expens': 2125, 'insist': 2126, 'ludicr': 2127, 'kim': 2128, 'stare': 2129, 'ideal': 2130, 'reject': 2131, 'nail': 2132, 'erot': 2133, 'atroci': 2134, 'press': 2135, 'subplot': 2136, 'supernatur': 2137, 'ala': 2138, 'host': 2139, 'columbo': 2140, 'ga': 2141, 'forest': 2142, 'notch': 2143, 'presum': 2144, 'dude': 2145, 'identifi': 2146, 'cant': 2147, 'character': 2148, 'guest': 2149, 'forgett': 2150, 'closer': 2151, 'crude': 2152, 'plagu': 2153, 'method': 2154, 'foster': 2155, 'beast': 2156, 'landscap': 2157, 'princess': 2158, 'ear': 2159, 'border': 2160, 'lion': 2161, 'birth': 2162, 'damag': 2163, 'jungl': 2164, 'accus': 2165, 'storytel': 2166, 'previous': 2167, 'urban': 2168, 'aunt': 2169, 'pacino': 2170, 'bound': 2171, 'chose': 2172, 'propaganda': 2173, 'nude': 2174, 'doll': 2175, 'guid': 2176, 'emma': 2177, 'jess': 2178, 'thirti': 2179, 'mate': 2180, 'mainstream': 2181, '25': 2182, 'warrior': 2183, 'whoever': 2184, 'pet': 2185, 'size': 2186, 'exact': 2187, 'upset': 2188, 'cooper': 2189, 'latest': 2190, 'merit': 2191, 'friday': 2192, 'deadli': 2193, 'gritti': 2194, 'poster': 2195, 'warner': 2196, 'popul': 2197, 'wilson': 2198, 'ton': 2199, 'buff': 2200, 'corps': 2201, 'citizen': 2202, 'blend': 2203, 'settl': 2204, 'sun': 2205, 'contact': 2206, 'rough': 2207, '1990': 2208, 'contest': 2209, 'overcom': 2210, 'bu': 2211, 'widow': 2212, 'pitt': 2213, 'environ': 2214, 'alic': 2215, 'rat': 2216, 'select': 2217, 'metal': 2218, 'mgm': 2219, 'link': 2220, 'revolut': 2221, 'lift': 2222, 'ted': 2223, 'particip': 2224, 'guilti': 2225, 'accompani': 2226, '1960': 2227, 'prostitut': 2228, 'exagger': 2229, 'corner': 2230, 'matrix': 2231, 'moron': 2232, 'afternoon': 2233, 'corpor': 2234, 'johnson': 2235, 'instal': 2236, 'clair': 2237, 'doom': 2238, 'hood': 2239, 'multipl': 2240, 'holm': 2241, 'sincer': 2242, 'leagu': 2243, 'friendli': 2244, 'string': 2245, 'defend': 2246, 'hip': 2247, 'irish': 2248, 'blah': 2249, 'sunday': 2250, 'examin': 2251, 'advis': 2252, 'grim': 2253, 'aka': 2254, 'lugosi': 2255, 'campi': 2256, 'junk': 2257, 'tight': 2258, 'pro': 2259, 'icon': 2260, 'shake': 2261, 'confid': 2262, 'shut': 2263, 'rachel': 2264, 'varieti': 2265, 'jaw': 2266, 'medic': 2267, 'sullivan': 2268, 'directli': 2269, 'attach': 2270, 'goal': 2271, 'mexican': 2272, 'denni': 2273, 'dean': 2274, 'legendari': 2275, 'duke': 2276, 'courag': 2277, 'sentenc': 2278, 'terrorist': 2279, 'sarah': 2280, 'vietnam': 2281, 'breast': 2282, 'truck': 2283, 'prior': 2284, 'bourn': 2285, 'yell': 2286, 'proceed': 2287, 'entri': 2288, 'donald': 2289, 'nose': 2290, 'un': 2291, 'behav': 2292, 'hong': 2293, 'split': 2294, 'stolen': 2295, 'concentr': 2296, 'swim': 2297, 'borrow': 2298, 'confess': 2299, 'everywher': 2300, 'gather': 2301, 'lifetim': 2302, 'forth': 2303, 'unconvinc': 2304, 'jerk': 2305, 'crush': 2306, 'buri': 2307, 'deliveri': 2308, 'julia': 2309, 'spite': 2310, 'california': 2311, 'lip': 2312, 'turkey': 2313, 'pan': 2314, 'hoffman': 2315, 'proud': 2316, 'offici': 2317, 'reward': 2318, 'freeman': 2319, 'flight': 2320, 'downright': 2321, 'quest': 2322, 'china': 2323, 'inept': 2324, 'worthwhil': 2325, 'sink': 2326, 'jon': 2327, 'fabul': 2328, 'jail': 2329, 'fade': 2330, 'sir': 2331, 'encourag': 2332, 'betray': 2333, 'lazi': 2334, 'notori': 2335, 'cousin': 2336, 'susan': 2337, 'imageri': 2338, 'bell': 2339, 'retard': 2340, 'relev': 2341, 'lisa': 2342, 'shower': 2343, 'teeth': 2344, 'bag': 2345, 'storm': 2346, 'branagh': 2347, 'survivor': 2348, 'shark': 2349, 'hugh': 2350, 'alright': 2351, 'tremend': 2352, 'finger': 2353, 'summari': 2354, 'facial': 2355, 'mexico': 2356, 'trade': 2357, 'stab': 2358, 'bride': 2359, 'toler': 2360, 'quirki': 2361, 'von': 2362, 'pose': 2363, 'hyster': 2364, 'bitter': 2365, 'blown': 2366, 'ha': 2367, 'scheme': 2368, 'bone': 2369, 'larri': 2370, 'afterward': 2371, 'cruel': 2372, 'ron': 2373, 'ned': 2374, 'address': 2375, 'christ': 2376, 'swear': 2377, 'thumb': 2378, 'distinct': 2379, 'feed': 2380, 'beg': 2381, 'traci': 2382, 'pursu': 2383, 'screw': 2384, 'snake': 2385, 'tour': 2386, 'mechan': 2387, 'photo': 2388, 'chair': 2389, 'obscur': 2390, 'raw': 2391, 'stomach': 2392, 'occas': 2393, 'sidney': 2394, 'necessarili': 2395, 'heavili': 2396, 'cabin': 2397, 'hardi': 2398, 'argument': 2399, 'render': 2400, 'gruesom': 2401, 'resist': 2402, 'chain': 2403, 'holiday': 2404, 'southern': 2405, 'understood': 2406, 'india': 2407, 'racist': 2408, 'indulg': 2409, 'satan': 2410, 'philip': 2411, 'midnight': 2412, 'belov': 2413, 'obnoxi': 2414, 'outfit': 2415, 'lay': 2416, 'pregnant': 2417, 'tongu': 2418, 'stalk': 2419, 'integr': 2420, 'fourth': 2421, 'forgot': 2422, '17': 2423, 'ticket': 2424, 'restor': 2425, 'magazin': 2426, 'inhabit': 2427, 'garden': 2428, 'slapstick': 2429, 'deeper': 2430, 'carol': 2431, 'incid': 2432, 'brad': 2433, 'devot': 2434, 'shoe': 2435, 'lincoln': 2436, 'elizabeth': 2437, 'underground': 2438, 'guarante': 2439, 'sandler': 2440, 'benefit': 2441, 'maria': 2442, 'divorc': 2443, 'disbelief': 2444, 'anticip': 2445, 'lili': 2446, 'mildli': 2447, 'amazingli': 2448, 'slave': 2449, 'explod': 2450, 'greater': 2451, 'cring': 2452, 'creation': 2453, 'bbc': 2454, 'princip': 2455, 'capit': 2456, 'halfway': 2457, 'introduct': 2458, 'extraordinari': 2459, 'lesli': 2460, 'funnier': 2461, 'overwhelm': 2462, 'transfer': 2463, 'tap': 2464, 'enhanc': 2465, 'wreck': 2466, 'extent': 2467, 'advantag': 2468, 'punish': 2469, 'text': 2470, 'dynam': 2471, 'lane': 2472, 'jessica': 2473, 'horrif': 2474, 'lo': 2475, 'deliber': 2476, 'plant': 2477, 'error': 2478, 'preview': 2479, 'east': 2480, 'homosexu': 2481, '2000': 2482, 'appli': 2483, 'miscast': 2484, 'vincent': 2485, 'miller': 2486, 'sophist': 2487, 'basi': 2488, 'vacat': 2489, 'ensu': 2490, 'reed': 2491, 'sleazi': 2492, 'spoken': 2493, 'mansion': 2494, 'bollywood': 2495, 'elev': 2496, 'extend': 2497, 'via': 2498, 'measur': 2499, 'uncomfort': 2500, 'steel': 2501, 'conceiv': 2502, 'hippi': 2503, 'stanley': 2504, 'beer': 2505, 'melt': 2506, 'daili': 2507, 'assign': 2508, 'alter': 2509, 'blair': 2510, 'fix': 2511, 'goofi': 2512, 'breathtak': 2513, 'mous': 2514, 'overact': 2515, 'savag': 2516, 'cathol': 2517, 'dentist': 2518, 'inspector': 2519, 'properli': 2520, 'oppos': 2521, 'sacrific': 2522, 'succe': 2523, 'everyday': 2524, 'subsequ': 2525, 'nowaday': 2526, 'carpent': 2527, 'burt': 2528, 'neck': 2529, 'circl': 2530, 'massacr': 2531, 'laura': 2532, 'block': 2533, 'grey': 2534, 'pool': 2535, 'seagal': 2536, 'portrait': 2537, 'fay': 2538, 'christi': 2539, 'access': 2540, 'fallen': 2541, 'lesser': 2542, 'concert': 2543, 'mob': 2544, 'sinist': 2545, 'jake': 2546, 'react': 2547, 'relax': 2548, 'isol': 2549, 'jewish': 2550, 'competit': 2551, 'usa': 2552, 'chees': 2553, 'lyric': 2554, 'nonetheless': 2555, 'immens': 2556, '2006': 2557, 'appal': 2558, 'creep': 2559, 'ironi': 2560, 'nine': 2561, 'suitabl': 2562, 'stink': 2563, 'spiritu': 2564, 'chop': 2565, 'luci': 2566, 'retir': 2567, 'needless': 2568, 'adopt': 2569, 'showcas': 2570, 'franchis': 2571, 'sold': 2572, 'rage': 2573, 'user': 2574, 'spring': 2575, 'nut': 2576, 'shirt': 2577, 'navi': 2578, 'reduc': 2579, 'nurs': 2580, 'per': 2581, 'jay': 2582, 'digit': 2583, 'bath': 2584, 'bulli': 2585, 'zone': 2586, 'asham': 2587, 'uninspir': 2588, 'stanwyck': 2589, 'laid': 2590, 'illustr': 2591, '2001': 2592, 'sutherland': 2593, 'amongst': 2594, 'upper': 2595, 'oddli': 2596, '1940': 2597, 'broadcast': 2598, 'stylish': 2599, 'aspir': 2600, 'baker': 2601, 'disguis': 2602, 'fulfil': 2603, 'throat': 2604, 'brando': 2605, '18': 2606, 'impli': 2607, 'pound': 2608, 'nobl': 2609, 'pride': 2610, 'wanna': 2611, 'em': 2612, 'thief': 2613, 'neighborhood': 2614, 'wwii': 2615, 'endear': 2616, 'albeit': 2617, 'tens': 2618, 'cinematograph': 2619, 'shift': 2620, 'dawn': 2621, 'distribut': 2622, 'rochest': 2623, 'shoulder': 2624, '16': 2625, 'prop': 2626, 'bett': 2627, 'coher': 2628, 'dinner': 2629, 'bo': 2630, 'diseas': 2631, 'silenc': 2632, 'contract': 2633, 'surf': 2634, 'poignant': 2635, 'knife': 2636, 'rebel': 2637, 'matthau': 2638, 'wash': 2639, 'function': 2640, 'snow': 2641, 'shout': 2642, 'forti': 2643, 'horrend': 2644, 'cannib': 2645, 'mindless': 2646, 'silver': 2647, 'heat': 2648, 'reunion': 2649, 'proof': 2650, 'instinct': 2651, 'derek': 2652, 'eeri': 2653, 'cancel': 2654, 'height': 2655, 'chuck': 2656, 'henc': 2657, 'internet': 2658, 'duti': 2659, 'widmark': 2660, 'elvira': 2661, 'greatli': 2662, 'incoher': 2663, 'repetit': 2664, 'alik': 2665, 'etern': 2666, 'innov': 2667, 'absorb': 2668, 'pie': 2669, 'neat': 2670, 'mill': 2671, 'premier': 2672, 'musician': 2673, 'glori': 2674, 'torn': 2675, 'spielberg': 2676, 'elvi': 2677, 'fbi': 2678, 'wealthi': 2679, 'lovabl': 2680, 'nelson': 2681, 'crisi': 2682, 'diamond': 2683, 'announc': 2684, 'bang': 2685, 'homag': 2686, 'precis': 2687, 'redempt': 2688, 'itali': 2689, 'horrifi': 2690, 'burton': 2691, 'britain': 2692, 'racism': 2693, 'trite': 2694, 'infam': 2695, 'blank': 2696, 'ensembl': 2697, 'happili': 2698, 'chaplin': 2699, 'wilder': 2700, 'flop': 2701, 'dedic': 2702, 'resolut': 2703, 'hammer': 2704, 'pat': 2705, 'parallel': 2706, 'helen': 2707, 'streisand': 2708, 'st': 2709, 'mar': 2710, 'broke': 2711, 'oil': 2712, 'triumph': 2713, 'disagre': 2714, 'factori': 2715, 'conclud': 2716, 'cube': 2717, 'plastic': 2718, 'carter': 2719, 'own': 2720, 'weight': 2721, 'march': 2722, 'fighter': 2723, 'rocket': 2724, 'row': 2725, 'climb': 2726, 'vega': 2727, 'chuckl': 2728, 'bush': 2729, 'wherea': 2730, 'enorm': 2731, 'dane': 2732, 'dump': 2733, 'kurt': 2734, 'mst3k': 2735, 'lust': 2736, 'spare': 2737, 'boot': 2738, 'meaning': 2739, 'sensibl': 2740, 'thug': 2741, 'unforgett': 2742, 'luca': 2743, 'difficulti': 2744, 'engin': 2745, 'threat': 2746, 'arnold': 2747, 'rap': 2748, 'stress': 2749, 'fifti': 2750, 'adequ': 2751, 'karloff': 2752, 'caricatur': 2753, 'bobbi': 2754, 'butt': 2755, 'brand': 2756, 'dear': 2757, 'ralph': 2758, 'arrog': 2759, 'journalist': 2760, 'secretari': 2761, 'polish': 2762, 'swing': 2763, 'ego': 2764, 'homeless': 2765, 'hamlet': 2766, 'fest': 2767, 'elabor': 2768, 'flynn': 2769, 'barri': 2770, 'unbear': 2771, 'fanci': 2772, 'arrang': 2773, 'grate': 2774, 'float': 2775, 'conspiraci': 2776, 'tool': 2777, 'resort': 2778, 'induc': 2779, 'puppet': 2780, 'simpson': 2781, 'spike': 2782, 'tribut': 2783, 'cruis': 2784, 'exercis': 2785, 'choreograph': 2786, 'basement': 2787, 'guilt': 2788, 'phillip': 2789, 'boll': 2790, 'pig': 2791, 'muppet': 2792, 'ward': 2793, 'slip': 2794, 'scarecrow': 2795, 'document': 2796, 'medium': 2797, 'file': 2798, 'korean': 2799, 'babe': 2800, 'tower': 2801, 'item': 2802, 'fianc': 2803, 'stan': 2804, 'ham': 2805, 'editor': 2806, 'layer': 2807, 'puzzl': 2808, 'toilet': 2809, '24': 2810, 'minim': 2811, 'persona': 2812, 'spark': 2813, 'larger': 2814, 'librari': 2815, 'superfici': 2816, 'slaughter': 2817, 'doc': 2818, 'denzel': 2819, 'assur': 2820, 'catherin': 2821, 'portion': 2822, 'philosoph': 2823, 'orient': 2824, 'inexplic': 2825, 'transit': 2826, 'territori': 2827, 'glover': 2828, 'financi': 2829, 'dorothi': 2830, 'boredom': 2831, 'walken': 2832, 'owe': 2833, 'pg': 2834, 'sneak': 2835, 'curti': 2836, 'wolf': 2837, 'shi': 2838, 'ban': 2839, 'jet': 2840, 'jeremi': 2841, 'backdrop': 2842, 'whale': 2843, 'hudson': 2844, 'eleph': 2845, 'profound': 2846, 'ambigu': 2847, 'multi': 2848, 'metaphor': 2849, 'cusack': 2850, 'gadget': 2851, 'birthday': 2852, 'ultra': 2853, 'viru': 2854, '2005': 2855, 'hack': 2856, 'implaus': 2857, 'union': 2858, 'stiff': 2859, 'elsewher': 2860, 'notion': 2861, 'rave': 2862, 'eva': 2863, 'pad': 2864, 'distanc': 2865, 'slight': 2866, 'afford': 2867, 'disc': 2868, 'superhero': 2869, 'deriv': 2870, 'newspap': 2871, 'reader': 2872, 'bibl': 2873, 'canada': 2874, 'squar': 2875, 'urg': 2876, '1st': 2877, 'eastwood': 2878, 'poison': 2879, 'hawk': 2880, 'lloyd': 2881, 'drown': 2882, 'sadist': 2883, 'huh': 2884, 'essenc': 2885, 'health': 2886, 'spread': 2887, 'restaur': 2888, 'montag': 2889, 'charisma': 2890, 'skit': 2891, 'button': 2892, 'heston': 2893, 'cure': 2894, 'muslim': 2895, 'scoobi': 2896, 'estat': 2897, 'dealt': 2898, 'invest': 2899, 'companion': 2900, 'maniac': 2901, 'lab': 2902, 'fetch': 2903, 'peak': 2904, 'gradual': 2905, 'godfath': 2906, 'gothic': 2907, 'miik': 2908, 'servant': 2909, 'countless': 2910, 'subtleti': 2911, 'kane': 2912, 'alli': 2913, 'ritter': 2914, 'tea': 2915, 'cup': 2916, 'heroic': 2917, 'charismat': 2918, 'briefli': 2919, 'electr': 2920, 'elect': 2921, 'iii': 2922, 'salli': 2923, 'resourc': 2924, 'toss': 2925, 'wannab': 2926, 'nuanc': 2927, 'grandmoth': 2928, 'tender': 2929, 'reel': 2930, 'neil': 2931, 'bud': 2932, 'admittedli': 2933, 'ingredi': 2934, 'cole': 2935, 'stood': 2936, 'poverti': 2937, 'reev': 2938, 'pit': 2939, 'gate': 2940, 'mild': 2941, 'label': 2942, 'pauli': 2943, 'stronger': 2944, 'punk': 2945, 'shall': 2946, 'dawson': 2947, 'carrey': 2948, 'mafia': 2949, 'kubrick': 2950, 'smash': 2951, 'tag': 2952, 'ian': 2953, 'cox': 2954, 'easier': 2955, 'outcom': 2956, 'smooth': 2957, 'burst': 2958, 'cardboard': 2959, 'assault': 2960, 'useless': 2961, 'terri': 2962, 'fond': 2963, 'astair': 2964, 'bakshi': 2965, 'updat': 2966, 'exchang': 2967, 'resolv': 2968, 'fist': 2969, 'divers': 2970, 'coincid': 2971, '2002': 2972, 'qualifi': 2973, 'increasingli': 2974, 'vari': 2975, 'melodramat': 2976, 'vulner': 2977, 'sketch': 2978, 'samurai': 2979, 'rex': 2980, 'suspend': 2981, 'blast': 2982, 'templ': 2983, 'tame': 2984, 'luckili': 2985, 'reynold': 2986, 'be': 2987, 'brillianc': 2988, 'scratch': 2989, 'insert': 2990, 'conveni': 2991, 'seventi': 2992, 'strictli': 2993, 'meat': 2994, 'farm': 2995, 'pin': 2996, 'jami': 2997, 'hamilton': 2998, 'coach': 2999, 'ambiti': 3000, 'gotta': 3001, 'fisher': 3002, 'matthew': 3003, 'nuclear': 3004, 'soprano': 3005, 'walker': 3006, 'revers': 3007, 'eccentr': 3008, 'worthless': 3009, 'cave': 3010, 'closet': 3011, 'spooki': 3012, 'instantli': 3013, 'monk': 3014, 'butcher': 3015, 'empir': 3016, 'ninja': 3017, 'timeless': 3018, 'joey': 3019, 'recreat': 3020, 'grasp': 3021, 'discoveri': 3022, 'convolut': 3023, 'clock': 3024, 'kudo': 3025, 'struck': 3026, 'brosnan': 3027, 'clown': 3028, 'bleak': 3029, 'evok': 3030, 'miracl': 3031, 'importantli': 3032, 'selfish': 3033, 'declar': 3034, 'inconsist': 3035, 'partli': 3036, 'wipe': 3037, 'norman': 3038, 'sidekick': 3039, 'pal': 3040, 'seller': 3041, 'fifteen': 3042, 'communist': 3043, 'sloppi': 3044, 'eighti': 3045, 'mitchel': 3046, 'gray': 3047, 'cliff': 3048, 'aforement': 3049, 'chew': 3050, 'farc': 3051, 'cheek': 3052, 'lifestyl': 3053, 'destin': 3054, 'flawless': 3055, '45': 3056, 'superbl': 3057, 'piano': 3058, 'enthusiast': 3059, 'debat': 3060, 'websit': 3061, 'australia': 3062, 'psychiatrist': 3063, 'ho': 3064, 'seed': 3065, 'stoog': 3066, 'directori': 3067, 'slice': 3068, 'drivel': 3069, 'wick': 3070, 'anni': 3071, 'abc': 3072, 'bash': 3073, 'kitchen': 3074, 'regardless': 3075, 'akshay': 3076, 'pressur': 3077, 'incompet': 3078, 'wrestl': 3079, 'splatter': 3080, 'dash': 3081, 'soviet': 3082, 'dire': 3083, 'emili': 3084, 'artifici': 3085, 'doo': 3086, 'seduc': 3087, 'jar': 3088, 'cameron': 3089, 'pleasantli': 3090, 'distant': 3091, 'judi': 3092, 'flower': 3093, 'recov': 3094, 'cagney': 3095, 'helicopt': 3096, 'lou': 3097, 'suppli': 3098, 'duo': 3099, 'ken': 3100, 'chapter': 3101, 'beaten': 3102, 'prize': 3103, 'cia': 3104, 'curios': 3105, 'mann': 3106, 'glow': 3107, 'blob': 3108, 'boil': 3109, 'dave': 3110, 'increas': 3111, 'turner': 3112, 'web': 3113, 'glenn': 3114, 'craven': 3115, 'perri': 3116, 'panic': 3117, 'drunken': 3118, 'favour': 3119, 'splendid': 3120, 'francisco': 3121, 'craig': 3122, 'laurel': 3123, 'psychot': 3124, 'ellen': 3125, 'combat': 3126, 'hop': 3127, 'goldberg': 3128, 'eleg': 3129, 'ranger': 3130, 'rid': 3131, 'slightest': 3132, 'flip': 3133, 'shortli': 3134, 'alexand': 3135, 'wizard': 3136, 'gentl': 3137, 'plausibl': 3138, 'philosophi': 3139, 'hatr': 3140, 'greek': 3141, 'min': 3142, 'modesti': 3143, 'graduat': 3144, 'gandhi': 3145, 'fx': 3146, 'falk': 3147, 'ruth': 3148, '20th': 3149, 'ocean': 3150, 'we': 3151, 'preciou': 3152, 'harm': 3153, 'holi': 3154, 'lend': 3155, 'fund': 3156, 'manhattan': 3157, 'unpleas': 3158, 'futurist': 3159, 'dracula': 3160, 'felix': 3161, 'tall': 3162, 'jealou': 3163, 'legal': 3164, 'knight': 3165, 'digniti': 3166, 'ami': 3167, 'mock': 3168, 'scientif': 3169, 'overdon': 3170, 'tank': 3171, 'explicit': 3172, 'nod': 3173, 'forbidden': 3174, 'reviv': 3175, 'bless': 3176, 'thread': 3177, 'childish': 3178, 'giallo': 3179, 'unwatch': 3180, 'repeatedli': 3181, 'thick': 3182, 'verhoeven': 3183, 'torment': 3184, 'nerv': 3185, 'elderli': 3186, '2004': 3187, 'yesterday': 3188, 'pirat': 3189, 'fever': 3190, 'mel': 3191, 'awe': 3192, 'broad': 3193, 'margaret': 3194, 'eve': 3195, 'awaken': 3196, '99': 3197, 'automat': 3198, 'rivet': 3199, 'romero': 3200, 'royal': 3201, 'eas': 3202, 'roman': 3203, 'timothi': 3204, 'stiller': 3205, 'uniform': 3206, 'griffith': 3207, 'kay': 3208, 'publish': 3209, 'absenc': 3210, 'ah': 3211, 'bin': 3212, 'lean': 3213, 'launch': 3214, 'acclaim': 3215, 'ambit': 3216, 'politician': 3217, 'custom': 3218, 'homicid': 3219, 'crook': 3220, 'antic': 3221, 'wallac': 3222, 'phrase': 3223, 'pierc': 3224, 'tomato': 3225, 'foul': 3226, 'transport': 3227, 'pulp': 3228, 'sunshin': 3229, 'darker': 3230, 'gabriel': 3231, 'warren': 3232, 'purpl': 3233, 'termin': 3234, 'bathroom': 3235, 'stinker': 3236, 'hollow': 3237, 'album': 3238, 'karen': 3239, 'viciou': 3240, 'kenneth': 3241, '2003': 3242, 'juvenil': 3243, 'q': 3244, 'evolv': 3245, 'marin': 3246, 'coloni': 3247, 'brazil': 3248, 'sixti': 3249, 'contrari': 3250, 'li': 3251, 'packag': 3252, 'choreographi': 3253, 'donna': 3254, 'pray': 3255, 'horrid': 3256, 'eyr': 3257, 'revolutionari': 3258, 'prom': 3259, 'rambo': 3260, 'awak': 3261, 'saint': 3262, 'ought': 3263, 'option': 3264, 'ireland': 3265, 'stole': 3266, 'boast': 3267, 'candid': 3268, 'conserv': 3269, 'mummi': 3270, 'overr': 3271, 'twelv': 3272, 'mildr': 3273, 'defi': 3274, 'blade': 3275, 'ramon': 3276, 'beatti': 3277, 'kapoor': 3278, 'nerd': 3279, 'dose': 3280, 'collabor': 3281, 'global': 3282, 'jazz': 3283, 'altman': 3284, 'confirm': 3285, 'kirk': 3286, 'funer': 3287, 'flame': 3288, 'protest': 3289, 'detract': 3290, 'trio': 3291, 'astonish': 3292, 'fulci': 3293, 'natali': 3294, 'bull': 3295, 'whip': 3296, 'racial': 3297, 'nicholson': 3298, 'spit': 3299, 'tommi': 3300, 'mystic': 3301, 'destini': 3302, 'audio': 3303, 'delici': 3304, 'leap': 3305, 'enterpris': 3306, 'yellow': 3307, 'shade': 3308, 'blake': 3309, 'bottl': 3310, 'visibl': 3311, 'vivid': 3312, 'adolesc': 3313, 'staff': 3314, 'harder': 3315, 'threw': 3316, 'merci': 3317, 'pseudo': 3318, 'popcorn': 3319, 'reunit': 3320, 'todd': 3321, 'altogeth': 3322, 'inherit': 3323, 'meaningless': 3324, 'bedroom': 3325, 'enchant': 3326, 'swedish': 3327, 'neo': 3328, 'fonda': 3329, 'reserv': 3330, 'tip': 3331, 'exhibit': 3332, 'voight': 3333, 'uneven': 3334, 'jew': 3335, 'ruthless': 3336, 'respond': 3337, 'moodi': 3338, 'leonard': 3339, 'befriend': 3340, 'lemmon': 3341, 'suspici': 3342, 'edi': 3343, 'bust': 3344, 'await': 3345, 'wire': 3346, 'decor': 3347, 'madonna': 3348, 'synopsi': 3349, 'lawrenc': 3350, 'atlanti': 3351, 'fanat': 3352, 'roommat': 3353, 'kennedi': 3354, 'crocodil': 3355, 'incident': 3356, 'abysm': 3357, 'voyag': 3358, 'rural': 3359, 'audit': 3360, 'ventur': 3361, 'carl': 3362, 'chao': 3363, 'holli': 3364, 'unsettl': 3365, 'dimens': 3366, 'clumsi': 3367, 'bold': 3368, 'centr': 3369, 'garner': 3370, 'clint': 3371, 'bradi': 3372, '2007': 3373, 'bargain': 3374, 'palma': 3375, '2nd': 3376, 'tiger': 3377, 'wealth': 3378, 'versu': 3379, 'humili': 3380, 'hart': 3381, 'acknowledg': 3382, 'daddi': 3383, 'cuba': 3384, 'echo': 3385, 'characterist': 3386, 'imperson': 3387, 'neglect': 3388, 'immigr': 3389, 'trail': 3390, 'troop': 3391, 'ant': 3392, 'cd': 3393, 'nearbi': 3394, 'poetic': 3395, 'elimin': 3396, 'cari': 3397, 'mall': 3398, 'lit': 3399, 'timon': 3400, 'solo': 3401, 'pun': 3402, 'marshal': 3403, 'celluloid': 3404, 'repuls': 3405, 'mistaken': 3406, 'infect': 3407, 'paus': 3408, 'mickey': 3409, 'prejudic': 3410, 'collaps': 3411, 'saga': 3412, 'domest': 3413, 'jeffrey': 3414, 'homer': 3415, 'apolog': 3416, 'tribe': 3417, 'sore': 3418, 'coat': 3419, 'leon': 3420, 'assembl': 3421, 'inappropri': 3422, 'undoubtedli': 3423, 'interrupt': 3424, 'chest': 3425, 'gear': 3426, 'promin': 3427, 'milk': 3428, 'coffe': 3429, 'pant': 3430, 'equip': 3431, 'harvey': 3432, '1996': 3433, 'olivi': 3434, 'cake': 3435, 'ginger': 3436, 'inan': 3437, 'hbo': 3438, 'primari': 3439, 'highest': 3440, 'florida': 3441, 'brooklyn': 3442, 'pot': 3443, 'trace': 3444, 'colonel': 3445, 'furthermor': 3446, 'airplan': 3447, 'vulgar': 3448, 'jenni': 3449, 'instant': 3450, 'polanski': 3451, 'maggi': 3452, 'devast': 3453, 'aveng': 3454, 'retain': 3455, 'pen': 3456, 'solut': 3457, 'humbl': 3458, 'consum': 3459, 'embrac': 3460, 'institut': 3461, 'exot': 3462, 'colleagu': 3463, 'seduct': 3464, 'illog': 3465, 'rick': 3466, 'dutch': 3467, 'bowl': 3468, 'smaller': 3469, 'principl': 3470, 'wive': 3471, 'disabl': 3472, 'dian': 3473, 'ya': 3474, 'linda': 3475, 'poke': 3476, 'cope': 3477, 'gender': 3478, '3rd': 3479, 'sale': 3480, 'strain': 3481, 'outer': 3482, 'descend': 3483, '1999': 3484, 'godzilla': 3485, 'blatant': 3486, 'inferior': 3487, 'predecessor': 3488, 'lol': 3489, 'primarili': 3490, 'secondli': 3491, 'devoid': 3492, 'glamor': 3493, 'dud': 3494, 'scope': 3495, 'gundam': 3496, 'vast': 3497, 'gloriou': 3498, 'cue': 3499, 'dive': 3500, 'hal': 3501, 'mixtur': 3502, 'yard': 3503, 'beneath': 3504, 'rabbit': 3505, 'bubbl': 3506, 'talki': 3507, 'streep': 3508, 'hideou': 3509, 'alert': 3510, 'domino': 3511, 'senseless': 3512, 'shelf': 3513, 'trademark': 3514, 'invas': 3515, 'simplist': 3516, 'alfr': 3517, 'et': 3518, 'april': 3519, 'countrysid': 3520, 'casual': 3521, 'disjoint': 3522, 'shirley': 3523, 'aggress': 3524, 'myer': 3525, 'breed': 3526, 'arab': 3527, 'museum': 3528, 'z': 3529, 'grinch': 3530, 'pearl': 3531, 'garbo': 3532, 'experiment': 3533, 'robberi': 3534, 'obtain': 3535, 'hopeless': 3536, 'stellar': 3537, 'slide': 3538, 'loyal': 3539, 'illeg': 3540, 'disgrac': 3541, 'mail': 3542, 'oz': 3543, 'boom': 3544, 'vanish': 3545, 'stack': 3546, 'hardcor': 3547, 'maci': 3548, 'mayor': 3549, 'unhappi': 3550, 'acid': 3551, 'defens': 3552, 'khan': 3553, 'sh': 3554, 'rendit': 3555, 'robinson': 3556, 'applaud': 3557, 'uwe': 3558, 'stir': 3559, 'berlin': 3560, 'craze': 3561, 'dicken': 3562, 'diana': 3563, 'spider': 3564, 'recruit': 3565, 'soccer': 3566, 'emphasi': 3567, 'counter': 3568, 'tenant': 3569, 'grandfath': 3570, 'topless': 3571, 'rifl': 3572, 'blew': 3573, 'hartley': 3574, 'scroog': 3575, 'wont': 3576, 'tempt': 3577, 'amanda': 3578, 'dismiss': 3579, 'psychic': 3580, 'declin': 3581, 'span': 3582, 'incomprehens': 3583, 'fri': 3584, 'ethnic': 3585, 'porno': 3586, 'wet': 3587, 'revolt': 3588, 'shed': 3589, 'riot': 3590, 'justin': 3591, 'bitch': 3592, 'faster': 3593, 'ration': 3594, 'resurrect': 3595, 'woo': 3596, 'sibl': 3597, 'trashi': 3598, 'parad': 3599, 'goer': 3600, 'shaw': 3601, 'niro': 3602, 'intim': 3603, 'lumet': 3604, 'sympath': 3605, 'gap': 3606, 'jonathan': 3607, 'commend': 3608, 'immort': 3609, 'patriot': 3610, 'choru': 3611, 'wheel': 3612, 'rider': 3613, 'honesti': 3614, 'nephew': 3615, 'eager': 3616, 'ballet': 3617, 'worm': 3618, 'hesit': 3619, 'dealer': 3620, '00': 3621, 'partial': 3622, 'wendi': 3623, 'slick': 3624, 'ensur': 3625, 'region': 3626, 'biographi': 3627, 'enlighten': 3628, 'unreal': 3629, 'steam': 3630, 'weakest': 3631, 'lena': 3632, 'farmer': 3633, 'mario': 3634, 'hopper': 3635, 'feminist': 3636, 'andr': 3637, 'repress': 3638, 'snap': 3639, 'charlott': 3640, 'similarli': 3641, 'blunt': 3642, 'confin': 3643, 'properti': 3644, 'sappi': 3645, 'prequel': 3646, 'owen': 3647, 'hung': 3648, 'franco': 3649, 'victori': 3650, 'macarthur': 3651, 'psychopath': 3652, 'safeti': 3653, 'composit': 3654, 'kingdom': 3655, 'morri': 3656, 'nostalg': 3657, 'util': 3658, 'vice': 3659, 'skull': 3660, 'mutant': 3661, 'leo': 3662, 'wore': 3663, 'sandra': 3664, 'farrel': 3665, 'bumbl': 3666, 'speci': 3667, 'rocki': 3668, 'compass': 3669, 'tail': 3670, '1972': 3671, 'bonu': 3672, 'tad': 3673, 'miseri': 3674, 'bow': 3675, 'rambl': 3676, 'exit': 3677, 'thru': 3678, 'repli': 3679, 'strand': 3680, 'emperor': 3681, 'acquir': 3682, 'rope': 3683, 'deed': 3684, 'drum': 3685, 'kyle': 3686, 'dust': 3687, 'dalton': 3688, 'despair': 3689, 'heartbreak': 3690, 'montana': 3691, 'del': 3692, 'hyde': 3693, 'campbel': 3694, 'snl': 3695, 'drain': 3696, 'whoopi': 3697, 'pattern': 3698, 'valuabl': 3699, 'recycl': 3700, 'bergman': 3701, 'nervou': 3702, 'latin': 3703, 'cg': 3704, 'compens': 3705, 'da': 3706, 'downhil': 3707, 'rapist': 3708, 'contempl': 3709, 'roth': 3710, 'pour': 3711, 'rotten': 3712, 'slug': 3713, 'bleed': 3714, 'tonight': 3715, 'oppress': 3716, 'martian': 3717, 'orson': 3718, 'olli': 3719, 'airport': 3720, 'radic': 3721, 'percept': 3722, 'wacki': 3723, 'mistress': 3724, 'carradin': 3725, 'gimmick': 3726, 'chess': 3727, '35': 3728, 'gal': 3729, 'romp': 3730, 'edgar': 3731, 'dazzl': 3732, 'tooth': 3733, 'stilt': 3734, 'banal': 3735, 'unpredict': 3736, 'tackl': 3737, 'preach': 3738, 'shelley': 3739, 'champion': 3740, 'slash': 3741, 'pervers': 3742, 'belt': 3743, 'arguabl': 3744, 'mislead': 3745, 'arc': 3746, '1983': 3747, 'taught': 3748, 'heal': 3749, 'pursuit': 3750, 'programm': 3751, 'pervert': 3752, 'paltrow': 3753, 'attorney': 3754, 'melodi': 3755, 'rubi': 3756, 'vocal': 3757, 'vengeanc': 3758, 'sensat': 3759, 'poem': 3760, 'virginia': 3761, 'cleverli': 3762, 'employe': 3763, 'plight': 3764, 'gambl': 3765, 'tiresom': 3766, 'raymond': 3767, 'closest': 3768, 'orang': 3769, 'franki': 3770, 'bela': 3771, 'uplift': 3772, 'graham': 3773, 'maid': 3774, 'passeng': 3775, 'mesmer': 3776, 'chicken': 3777, 'duval': 3778, 'dixon': 3779, 'conneri': 3780, 'marti': 3781, 'paranoia': 3782, 'convincingli': 3783, '1968': 3784, 'tube': 3785, 'habit': 3786, 'scottish': 3787, 'secretli': 3788, 'volum': 3789, 'swallow': 3790, 'engross': 3791, 'sirk': 3792, 'quarter': 3793, 'profan': 3794, 'pokemon': 3795, 'suffic': 3796, 'outing': 3797, 'bay': 3798, 'whine': 3799, 'giggl': 3800, 'clone': 3801, 'gerard': 3802, 'yawn': 3803, 'inject': 3804, 'iran': 3805, 'crystal': 3806, 'extens': 3807, 'numb': 3808, 'abraham': 3809, 'lundgren': 3810, 'mute': 3811, 'climact': 3812, 'monologu': 3813, 'calm': 3814, 'amitabh': 3815, 'richardson': 3816, 'taxi': 3817, 'linger': 3818, 'abort': 3819, 'lowest': 3820, 'bend': 3821, 'spock': 3822, 'grotesqu': 3823, 'frankenstein': 3824, 'septemb': 3825, 'surpass': 3826, 'underst': 3827, 'franci': 3828, 'plod': 3829, 'expand': 3830, 'im': 3831, 'poetri': 3832, 'junior': 3833, 'ethan': 3834, 'backward': 3835, 'dispos': 3836, 'austen': 3837, 'fed': 3838, 'nichola': 3839, 'profess': 3840, 'meander': 3841, 'earl': 3842, 'trend': 3843, 'chicago': 3844, 'dysfunct': 3845, 'der': 3846, 'literatur': 3847, 'nostalgia': 3848, 'rubber': 3849, 'muddl': 3850, 'catchi': 3851, 'simplic': 3852, 'household': 3853, 'lure': 3854, 'stallon': 3855, 'cannon': 3856, 'compliment': 3857, 'eugen': 3858, 'myth': 3859, 'mundan': 3860, 'hum': 3861, 'rant': 3862, 'descent': 3863, 'waitress': 3864, 'sue': 3865, 'instrument': 3866, 'tourist': 3867, 'econom': 3868, 'greedi': 3869, 'spoke': 3870, 'furi': 3871, 'stale': 3872, 'duck': 3873, 'eaten': 3874, 'irrelev': 3875, 'lang': 3876, 'june': 3877, 'equival': 3878, 'bacal': 3879, 'hello': 3880, 'mankind': 3881, 'phoni': 3882, 'mortal': 3883, 'flee': 3884, 'recognit': 3885, 'occupi': 3886, 'dictat': 3887, 'phantom': 3888, 'recognis': 3889, 'cent': 3890, 'crucial': 3891, 'firstli': 3892, 'damon': 3893, 'deaf': 3894, 'coast': 3895, 'dement': 3896, 'molli': 3897, 'alongsid': 3898, 'louis': 3899, 'sissi': 3900, 'omen': 3901, 'insur': 3902, 'map': 3903, 'carel': 3904, 'randi': 3905, 'likewis': 3906, 'distinguish': 3907, 'dreari': 3908, 'freez': 3909, 'wisdom': 3910, 'grayson': 3911, 'biko': 3912, 'rude': 3913, 'twilight': 3914, 'newli': 3915, 'loyalti': 3916, 'lengthi': 3917, '1973': 3918, 'bump': 3919, 'blackmail': 3920, 'buffalo': 3921, 'reign': 3922, 'damm': 3923, 'daisi': 3924, 'heel': 3925, 'onlin': 3926, 'labor': 3927, 'drake': 3928, 'ashley': 3929, 'bike': 3930, 'antwon': 3931, 'cyborg': 3932, 'rooney': 3933, 'prey': 3934, 'sailor': 3935, 'basketbal': 3936, 'unorigin': 3937, 'tunnel': 3938, 'barrymor': 3939, 'incorpor': 3940, 'nineti': 3941, 'interior': 3942, 'analysi': 3943, 'vein': 3944, 'provoc': 3945, 'proce': 3946, 'boxer': 3947, 'attribut': 3948, 'pink': 3949, 'chronicl': 3950, 'butler': 3951, 'startl': 3952, 'emphas': 3953, 'worn': 3954, 'baddi': 3955, 'ridden': 3956, 'approv': 3957, 'keith': 3958, 'inher': 3959, 'exposur': 3960, 'undeni': 3961, 'millionair': 3962, 'er': 3963, 'predat': 3964, 'elm': 3965, 'condemn': 3966, 'mormon': 3967, 'meyer': 3968, 'drift': 3969, 'degrad': 3970, 'fleet': 3971, 'mighti': 3972, 'meg': 3973, 'hypnot': 3974, 'substitut': 3975, 'barrel': 3976, 'indiffer': 3977, 'carla': 3978, 'othello': 3979, 'underli': 3980, 'bunni': 3981, 'nicol': 3982, 'improvis': 3983, 'unrel': 3984, 'simmon': 3985, 'walsh': 3986, 'robbin': 3987, 'belushi': 3988, 'stalker': 3989, 'julian': 3990, 'greed': 3991, 'edgi': 3992, 'unawar': 3993, 'marion': 3994, 'exquisit': 3995, 'shove': 3996, 'novak': 3997, 'warmth': 3998, 'vital': 3999, 'hay': 4000, 'palac': 4001, 'nyc': 4002, 'enthusiasm': 4003, '3d': 4004, 'roof': 4005, 'firm': 4006, 'alarm': 4007, 'priceless': 4008, 'mtv': 4009, 'errol': 4010, 'dolph': 4011, 'disord': 4012, 'lampoon': 4013, 'agenda': 4014, 'rukh': 4015, 'alison': 4016, 'reid': 4017, 'watson': 4018, 'eastern': 4019, 'valentin': 4020, 'minimum': 4021, 'gestur': 4022, 'preserv': 4023, 'spain': 4024, 'peril': 4025, 'coup': 4026, 'session': 4027, 'randomli': 4028, 'campaign': 4029, 'testament': 4030, 'championship': 4031, 'cassidi': 4032, 'peck': 4033, '1933': 4034, 'glanc': 4035, 'thompson': 4036, '13th': 4037, 'drip': 4038, 'what': 4039, 'sergeant': 4040, 'crown': 4041, 'petti': 4042, 'angela': 4043, 'pamela': 4044, 'profit': 4045, 'distort': 4046, 'ponder': 4047, 'simultan': 4048, 'showdown': 4049, 'orlean': 4050, 'israel': 4051, 'unleash': 4052, 'beatl': 4053, 'nun': 4054, 'iraq': 4055, 'zizek': 4056, 'jan': 4057, 'han': 4058, 'perpetu': 4059, 'miyazaki': 4060, 'wig': 4061, 'scotland': 4062, 'rout': 4063, 'quinn': 4064, 'crow': 4065, 'cream': 4066, 'travesti': 4067, 'bro': 4068, 'cooki': 4069, 'stroke': 4070, 'regist': 4071, 'buster': 4072, 'climat': 4073, 'valley': 4074, 'sabrina': 4075, 'brenda': 4076, 'shootout': 4077, 'unimagin': 4078, 'mon': 4079, 'stake': 4080, 'crawl': 4081, 'realm': 4082, 'exposit': 4083, 'reson': 4084, '1984': 4085, 'empathi': 4086, 'represent': 4087, 'kurosawa': 4088, 'contradict': 4089, 'din': 4090, 'restrain': 4091, 'calib': 4092, 'fido': 4093, 'gentleman': 4094, 'abomin': 4095, 'meryl': 4096, 'delic': 4097, 'demis': 4098, 'sucker': 4099, 'ross': 4100, 'perceiv': 4101, 'distress': 4102, 'baldwin': 4103, 'josh': 4104, 'shoddi': 4105, 'spacey': 4106, 'mclaglen': 4107, 'passabl': 4108, 'tacki': 4109, 'derang': 4110, '1987': 4111, 'geek': 4112, 'ustinov': 4113, 'monoton': 4114, 'shaki': 4115, 'unseen': 4116, 'wax': 4117, 'soderbergh': 4118, 'warrant': 4119, 'crawford': 4120, 'pole': 4121, 'cloud': 4122, 'businessman': 4123, '1997': 4124, 'fuller': 4125, 'sammi': 4126, 'pretens': 4127, 'censor': 4128, 'darren': 4129, 'absent': 4130, 'compromis': 4131, 'dana': 4132, 'femm': 4133, 'greg': 4134, 'traumat': 4135, 'unsatisfi': 4136, 'painter': 4137, 'stargat': 4138, 'seal': 4139, 'valid': 4140, 'fog': 4141, 'reluct': 4142, 'jewel': 4143, 'tech': 4144, 'fenc': 4145, 'uncov': 4146, '1993': 4147, 'unravel': 4148, 'judgment': 4149, 'deniro': 4150, 'tarantino': 4151, 'accuraci': 4152, 'austin': 4153, 'polici': 4154, 'click': 4155, 'wholli': 4156, 'norm': 4157, 'anchor': 4158, 'dee': 4159, 'verbal': 4160, 'primit': 4161, 'deceas': 4162, 'correctli': 4163, 'furiou': 4164, 'clash': 4165, 'expedit': 4166, 'sid': 4167, 'kumar': 4168, 'exclus': 4169, 'nathan': 4170, 'antonioni': 4171, 'tax': 4172, 'nicola': 4173, 'sand': 4174, '2008': 4175, '3000': 4176, 'malon': 4177, 'fart': 4178, 'patienc': 4179, 'sustain': 4180, 'behold': 4181, 'fought': 4182, 'pocket': 4183, 'vanc': 4184, 'wretch': 4185, 'slam': 4186, 'unfair': 4187, 'hallucin': 4188, 'seldom': 4189, 'joel': 4190, 'murray': 4191, 'sunni': 4192, 'enforc': 4193, 'conduct': 4194, 'darn': 4195, 'alec': 4196, 'clerk': 4197, 'sheet': 4198, 'trait': 4199, 'crippl': 4200, 'wang': 4201, 'mode': 4202, 'shanghai': 4203, '1995': 4204, 'debt': 4205, 'fabric': 4206, 'roller': 4207, 'dreck': 4208, 'bake': 4209, 'temper': 4210, 'ritual': 4211, 'logan': 4212, '1971': 4213, 'pete': 4214, 'bias': 4215, 'scriptwrit': 4216, 'phil': 4217, 'bridget': 4218, 'schedul': 4219, 'technicolor': 4220, 'critiqu': 4221, 'guitar': 4222, 'legaci': 4223, 'squad': 4224, 'canyon': 4225, 'divid': 4226, 'outlin': 4227, 'sweep': 4228, 'helpless': 4229, 'clau': 4230, 'tactic': 4231, 'robber': 4232, 'grief': 4233, 'preston': 4234, 'fundament': 4235, 'runner': 4236, 'stuart': 4237, 'preposter': 4238, 'rita': 4239, 'penni': 4240, 'shell': 4241, 'exhaust': 4242, 'despis': 4243, 'conscious': 4244, 'isabel': 4245, 'stark': 4246, 'soup': 4247, 'jodi': 4248, 'propos': 4249, 'consciou': 4250, 'rear': 4251, 'restrict': 4252, 'liberti': 4253, 'alicia': 4254, 'invad': 4255, 'jacket': 4256, 'russia': 4257, 'bloom': 4258, 'sniper': 4259, 'vomit': 4260, 'connor': 4261, 'lacklust': 4262, 'palanc': 4263, 'marc': 4264, 'cigarett': 4265, 'gregori': 4266, 'drove': 4267, 'rehash': 4268, 'culmin': 4269, 'kansa': 4270, 'sugar': 4271, 'alley': 4272, 'delv': 4273, 'unexpectedli': 4274, 'implic': 4275, 'boyl': 4276, 'inabl': 4277, 'newman': 4278, 'downey': 4279, 'flair': 4280, 'sentinel': 4281, 'agenc': 4282, 'passag': 4283, 'bacon': 4284, '22': 4285, 'asylum': 4286, 'cap': 4287, 'pale': 4288, 'rampag': 4289, 'arrow': 4290, 'mccoy': 4291, 'awhil': 4292, 'karl': 4293, 'behaviour': 4294, 'wrench': 4295, 'horn': 4296, 'delet': 4297, 'tripe': 4298, 'feat': 4299, 'chainsaw': 4300, 'lush': 4301, 'ladder': 4302, 'foxx': 4303, 'rehears': 4304, 'improb': 4305, 'tendenc': 4306, 'sharon': 4307, 'rod': 4308, 'aesthet': 4309, 'vet': 4310, '1936': 4311, 'yeti': 4312, 'kolchak': 4313, '1920': 4314, 'tomorrow': 4315, 'tasteless': 4316, '1988': 4317, 'hulk': 4318, '1978': 4319, 'financ': 4320, 'fright': 4321, 'filler': 4322, 'spice': 4323, 'rumor': 4324, 'paradis': 4325, 'wildli': 4326, 'newcom': 4327, 'visitor': 4328, 'rhythm': 4329, 'thunderbird': 4330, 'suspicion': 4331, 'minu': 4332, 'el': 4333, 'hackney': 4334, 'shortcom': 4335, 'stream': 4336, 'weav': 4337, 'sung': 4338, 'globe': 4339, 'conscienc': 4340, 'loneli': 4341, 'paramount': 4342, 'wagner': 4343, 'coaster': 4344, 'elit': 4345, 'aristocrat': 4346, 'lurk': 4347, 'scoop': 4348, '19th': 4349, 'suffici': 4350, 'amazon': 4351, 'hungri': 4352, 'basing': 4353, 'prank': 4354, 'underneath': 4355, 'counterpart': 4356, 'abrupt': 4357, 'standout': 4358, 'grudg': 4359, 'inmat': 4360, 'ingeni': 4361, 'heist': 4362, 'immers': 4363, 'beverli': 4364, 'hopkin': 4365, 'paxton': 4366, 'springer': 4367, 'posey': 4368, 'entranc': 4369, 'dirt': 4370, 'chavez': 4371, 'minist': 4372, 'cancer': 4373, 'penn': 4374, 'en': 4375, 'smell': 4376, 'brit': 4377, 'rub': 4378, 'literari': 4379, 'impos': 4380, 'wwe': 4381, 'worship': 4382, 'naughti': 4383, 'chamberlain': 4384, 'atroc': 4385, 'quietli': 4386, 'couch': 4387, 'ram': 4388, 'curli': 4389, 'secondari': 4390, 'iv': 4391, 'leigh': 4392, '1939': 4393, 'choppi': 4394, 'recogniz': 4395, 'teas': 4396, 'tierney': 4397, 'bread': 4398, 'lectur': 4399, 'straightforward': 4400, '1989': 4401, '75': 4402, 'nemesi': 4403, 'ratso': 4404, '1986': 4405, 'clan': 4406, 'cattl': 4407, 'duel': 4408, 'yearn': 4409, 'geni': 4410, 'heartfelt': 4411, 'ace': 4412, 'convert': 4413, 'esther': 4414, 'sassi': 4415, 'bernard': 4416, 'net': 4417, 'watcher': 4418, 'missil': 4419, 'attenborough': 4420, 'variat': 4421, 'entitl': 4422, 'laurenc': 4423, 'transcend': 4424, 'misguid': 4425, 'nolan': 4426, 'morbid': 4427, 'skeptic': 4428, 'injuri': 4429, 'policeman': 4430, 'lindsay': 4431, 'quaid': 4432, 'sublim': 4433, 'enthral': 4434, 'moreov': 4435, 'poe': 4436, 'spiral': 4437, 'cruelti': 4438, 'grin': 4439, 'steadi': 4440, 'dont': 4441, 'rosemari': 4442, '1979': 4443, 'mytholog': 4444, 'hopelessli': 4445, 'out': 4446, 'artsi': 4447, 'youngest': 4448, 'characteris': 4449, 'unexplain': 4450, 'reliabl': 4451, 'bean': 4452, 'carlito': 4453, 'graini': 4454, 'hk': 4455, 'uncut': 4456, 'enabl': 4457, 'setup': 4458, 'diari': 4459, 'kidman': 4460, 'egg': 4461, 'moder': 4462, 'puppi': 4463, 'obstacl': 4464, 'buzz': 4465, 'brood': 4466, 'facil': 4467, 'kitti': 4468, 'vader': 4469, 'tyler': 4470, 'bye': 4471, 'oblig': 4472, 'bewar': 4473, 'martha': 4474, 'despic': 4475, 'hain': 4476, 'acquaint': 4477, 'patricia': 4478, 'sweat': 4479, 'gillian': 4480, 'clueless': 4481, 'baffl': 4482, 'kline': 4483, 'exterior': 4484, 'weather': 4485, 'christin': 4486, 'gina': 4487, 'fuel': 4488, '1969': 4489, 'bounc': 4490, 'narrow': 4491, 'effici': 4492, 'athlet': 4493, 'preming': 4494, 'niec': 4495, 'underworld': 4496, 'disastr': 4497, 'bronson': 4498, 'hammi': 4499, 'heap': 4500, 'spontan': 4501, 'brendan': 4502, 'decept': 4503, 'taboo': 4504, '19': 4505, 'angst': 4506, 'loi': 4507, 'viewpoint': 4508, 'preachi': 4509, 'circu': 4510, 'tick': 4511, 'shatter': 4512, 'headach': 4513, 'sleepwalk': 4514, 'candl': 4515, 'renaiss': 4516, 'sooner': 4517, 'virtu': 4518, 'mayhem': 4519, 'suprem': 4520, 'trigger': 4521, 'goof': 4522, 'mermaid': 4523, 'scar': 4524, '73': 4525, 'insipid': 4526, 'outlaw': 4527, 'harmless': 4528, 'loath': 4529, 'astound': 4530, 'dandi': 4531, 'analyz': 4532, 'lester': 4533, 'dilemma': 4534, 'fontain': 4535, 'hepburn': 4536, 'biker': 4537, 'enlist': 4538, 'housewif': 4539, 'rome': 4540, 'uh': 4541, 'injur': 4542, 'stimul': 4543, 'amor': 4544, 'filth': 4545, 'foolish': 4546, 'camcord': 4547, 'surgeri': 4548, 'phenomenon': 4549, 'idol': 4550, 'claustrophob': 4551, 'immatur': 4552, 'boston': 4553, 'cassavet': 4554, 'dismal': 4555, 'glorifi': 4556, 'oldest': 4557, 'hokey': 4558, 'macho': 4559, 'stair': 4560, 'intric': 4561, 'tripl': 4562, 'contempt': 4563, 'spade': 4564, 'steer': 4565, 'scorses': 4566, 'overlong': 4567, 'hostag': 4568, 'fluff': 4569, 'redund': 4570, 'hooker': 4571, 'guin': 4572, 'zoom': 4573, 'ebert': 4574, 'dish': 4575, 'salt': 4576, 'bent': 4577, 'whore': 4578, 'slimi': 4579, 'gere': 4580, 'corbett': 4581, 'ariel': 4582, 'sox': 4583, 'rhyme': 4584, '1981': 4585, 'margin': 4586, 'dwarf': 4587, 'remad': 4588, 'faint': 4589, 'mutual': 4590, 'proport': 4591, 'preced': 4592, 'muscl': 4593, 'frantic': 4594, 'flirt': 4595, 'keen': 4596, 'corman': 4597, 'conquer': 4598, 'antagonist': 4599, 'zane': 4600, 'flag': 4601, 'beard': 4602, 'spree': 4603, 'shred': 4604, 'transplant': 4605, 'fascist': 4606, 'obligatori': 4607, 'widescreen': 4608, 'strongest': 4609, 'shield': 4610, 'alvin': 4611, 'flashi': 4612, 'harold': 4613, 'assert': 4614, 'gasp': 4615, 'cow': 4616, 'radiat': 4617, 'messi': 4618, '1976': 4619, 'down': 4620, 'cohen': 4621, 'nolt': 4622, 'perman': 4623, 'joker': 4624, 'cush': 4625, 'spinal': 4626, 'mount': 4627, 'gabl': 4628, 'schlock': 4629, 'trivia': 4630, 'astronaut': 4631, 'naschi': 4632, 'interestingli': 4633, '28': 4634, 'someday': 4635, 'instruct': 4636, 'discern': 4637, 'bachelor': 4638, 'scandal': 4639, 'archiv': 4640, 'danish': 4641, '1945': 4642, 'vaniti': 4643, 'persuad': 4644, 'mobil': 4645, 'boob': 4646, 'triangl': 4647, 'carey': 4648, 'neurot': 4649, 'off': 4650, 'www': 4651, 'inflict': 4652, 'wield': 4653, 'claud': 4654, 'bitten': 4655, 'repris': 4656, 'sensual': 4657, 'deer': 4658, '95': 4659, 'departur': 4660, 'brush': 4661, 'raj': 4662, 'divin': 4663, 'mol': 4664, 'barn': 4665, 'fishburn': 4666, 'strive': 4667, 'resum': 4668, 'flock': 4669, 'ritchi': 4670, 'hara': 4671, 'info': 4672, 'aborigin': 4673, 'loretta': 4674, 'proclaim': 4675, 'heartwarm': 4676, 'cliffhang': 4677, 'wendigo': 4678, 'miracul': 4679, 'senior': 4680, 'axe': 4681, 'anton': 4682, 'pixar': 4683, 'fragil': 4684, 'ish': 4685, 'artwork': 4686, 'colin': 4687, 'helm': 4688, 'timberlak': 4689, 'dylan': 4690, 'casino': 4691, 'frontier': 4692, 'pacif': 4693, 'parson': 4694, 'luka': 4695, 'vibrant': 4696, 'harrison': 4697, 'banter': 4698, 'melissa': 4699, 'hilar': 4700, 'carlo': 4701, 'mobster': 4702, 'kathryn': 4703, 'submit': 4704, 'cycl': 4705, 'undermin': 4706, 'neill': 4707, 'jade': 4708, 'recit': 4709, 'biblic': 4710, 'traffic': 4711, 'earnest': 4712, 'rot': 4713, 'hapless': 4714, 'pickford': 4715, 'clad': 4716, 'dim': 4717, 'prophet': 4718, 'hug': 4719, 'cher': 4720, 'bate': 4721, 'cb': 4722, 'europa': 4723, 'dame': 4724, 'vanessa': 4725, 'estrang': 4726, 'wardrob': 4727, 'trier': 4728, 'nope': 4729, 'holocaust': 4730, 'eli': 4731, 'toronto': 4732, 'blatantli': 4733, 'vile': 4734, 'token': 4735, 'pc': 4736, 'bikini': 4737, 'sicken': 4738, 'choke': 4739, 'northern': 4740, 'illus': 4741, 'static': 4742, 'misfortun': 4743, 'jo': 4744, 'bondag': 4745, 'jordan': 4746, 'aris': 4747, 'articl': 4748, 'alexandr': 4749, 'mathieu': 4750, 'orphan': 4751, 'redneck': 4752, 'winchest': 4753, 'antholog': 4754, 'lui': 4755, 'foil': 4756, 'venom': 4757, 'razor': 4758, 'akin': 4759, 'mason': 4760, 'seedi': 4761, 'uma': 4762, 'breakfast': 4763, 'cerebr': 4764, 'legitim': 4765, 'http': 4766, 'rooki': 4767, 'feast': 4768, 'isra': 4769, 'flavor': 4770, 'electron': 4771, 'shepherd': 4772, 'lucil': 4773, 'milo': 4774, 'marlon': 4775, 'shorter': 4776, 'turd': 4777, 'cartoonish': 4778, 'howl': 4779, 'comprehend': 4780, 'linear': 4781, 'affleck': 4782, 'huston': 4783, 'clinic': 4784, 'boyer': 4785, 'swept': 4786, 'audrey': 4787, 'oppon': 4788, 'charlton': 4789, 'leather': 4790, 'magician': 4791, 'smack': 4792, 'wrestler': 4793, 'fifth': 4794, 'nightclub': 4795, 'peer': 4796, 'retriev': 4797, 'disregard': 4798, 'ideolog': 4799, 'psych': 4800, 'tack': 4801, 'ceremoni': 4802, 'glare': 4803, 'deem': 4804, 'outdat': 4805, 'gunga': 4806, 'styliz': 4807, 'gilbert': 4808, 'knightley': 4809, 'frog': 4810, 'feminin': 4811, 'highway': 4812, 'abund': 4813, 'dudley': 4814, 'collector': 4815, 'client': 4816, 'braveheart': 4817, 'bastard': 4818, 'lavish': 4819, 'corn': 4820, '1994': 4821, 'spawn': 4822, 'compris': 4823, 'energet': 4824, 'mitch': 4825, 'uniformli': 4826, 'breakdown': 4827, 'greet': 4828, 'summar': 4829, 'toe': 4830, 'deliver': 4831, 'evolut': 4832, 'cuban': 4833, 'monument': 4834, 'durat': 4835, 'whack': 4836, 'bogu': 4837, 'snatch': 4838, 'spine': 4839, 'phenomen': 4840, 'salman': 4841, 'senat': 4842, 'sleaz': 4843, '1991': 4844, 'chip': 4845, 'goldsworthi': 4846, 'lifeless': 4847, 'cemeteri': 4848, 'btw': 4849, 'moe': 4850, 'potter': 4851, 'einstein': 4852, '4th': 4853, 'boo': 4854, 'plate': 4855, 'lighter': 4856, 'newer': 4857, 'tara': 4858, 'conrad': 4859, 'pronounc': 4860, 'alleg': 4861, 'nina': 4862, 'judd': 4863, 'liu': 4864, 'kent': 4865, 'lex': 4866, '1977': 4867, 'mcqueen': 4868, 'replay': 4869, 'kazan': 4870, 'bulk': 4871, 'bori': 4872, 'jam': 4873, 'trauma': 4874, 'creek': 4875, 'jule': 4876, 'spectacl': 4877, 'constitut': 4878, 'sorrow': 4879, 'belli': 4880, 'jare': 4881, 'undead': 4882, 'appl': 4883, '1974': 4884, 'clara': 4885, 'undertak': 4886, 'healthi': 4887, 'firmli': 4888, 'occup': 4889, 'fluid': 4890, 'armstrong': 4891, 'wtf': 4892, 'embark': 4893, 'outright': 4894, 'historian': 4895, 'cecil': 4896, 'signal': 4897, 'luxuri': 4898, 'evelyn': 4899, 'eleven': 4900, 'inaccuraci': 4901, 'gilliam': 4902, 'neatli': 4903, 'ie': 4904, 'randolph': 4905, 'jedi': 4906, 'capot': 4907, 'ol': 4908, 'pioneer': 4909, 'miami': 4910, 'kiddi': 4911, 'mum': 4912, 'forgiven': 4913, 'pepper': 4914, 'meal': 4915, 'genet': 4916, 'decapit': 4917, 'lauren': 4918, 'knee': 4919, '1985': 4920, 'unattract': 4921, 'vain': 4922, 'galaxi': 4923, 'miniseri': 4924, 'roar': 4925, 'goldblum': 4926, 'congratul': 4927, 'comprehens': 4928, 'spray': 4929, 'poker': 4930, 'ash': 4931, 'truman': 4932, 'groan': 4933, 'inclus': 4934, 'palm': 4935, 'aussi': 4936, 'tokyo': 4937, 'abound': 4938, 'sacrif': 4939, 'cape': 4940, 'blur': 4941, 'bait': 4942, 'comb': 4943, 'carmen': 4944, 'conan': 4945, 'antonio': 4946, 'basket': 4947, 'inaccur': 4948, 'subtli': 4949, 'paula': 4950, 'curtain': 4951, 'vignett': 4952, 'unsuspect': 4953, 'walt': 4954, 'sidewalk': 4955, 'rosario': 4956, 'id': 4957, 'porter': 4958, 'propheci': 4959, 'relentless': 4960, 'lanc': 4961, 'fruit': 4962, 'bsg': 4963, '21st': 4964, 'drone': 4965, 'sophi': 4966, 'macabr': 4967, 'ghetto': 4968, 'jill': 4969, 'playboy': 4970, 'sparkl': 4971, 'bravo': 4972, 'weari': 4973, 'vastli': 4974, 'hostil': 4975, 'evan': 4976, 'scarfac': 4977, 'detach': 4978, 'frontal': 4979, 'reincarn': 4980, 'weaker': 4981, 'verg': 4982, 'mice': 4983, 'rapidli': 4984, 'omin': 4985, 'orchestr': 4986, 'incorrect': 4987, 'bach': 4988, 'substanti': 4989, 'optimist': 4990, 'assort': 4991, 'ingrid': 4992, 'handicap': 4993, 'cypher': 4994, 'dubiou': 4995, 'scariest': 4996, 'monti': 4997, 'profil': 4998, 'motorcycl': 4999}\n"
     ]
    }
   ],
   "source": [
    "word_dict = build_dict(train_X)\n",
    "print(word_dict)"
   ]
  },
  {
   "cell_type": "markdown",
   "metadata": {},
   "source": [
    "**Question:** What are the five most frequently appearing (tokenized) words in the training set? Does it makes sense that these words appear frequently in the training set?"
   ]
  },
  {
   "cell_type": "markdown",
   "metadata": {},
   "source": [
    "**Answer:**  \n",
    "Five most frequently appearing (tokenized) words in the training set are:\n",
    "- `movi`\n",
    "- `film`\n",
    "- `one` \n",
    "- `like`\n",
    "- `time`\n",
    "Since our training data are related to movie review, hence partially it does make sense that `movi` and `film` are on the top of the list. The other three I am not so sure. "
   ]
  },
  {
   "cell_type": "code",
   "execution_count": 13,
   "metadata": {},
   "outputs": [
    {
     "name": "stdout",
     "output_type": "stream",
     "text": [
      "Top 5 most common words in reviews are: \n",
      " movi film one like time\n"
     ]
    }
   ],
   "source": [
    "# TODO: Use this space to determine the five most frequently appearing words in the training set.\n",
    "print(\"Top 5 most common words in reviews are: \\n\", *sorted(word_dict, key=word_dict.get, reverse=False)[:5])"
   ]
  },
  {
   "cell_type": "markdown",
   "metadata": {},
   "source": [
    "### Save `word_dict`\n",
    "\n",
    "Later on when we construct an endpoint which processes a submitted review we will need to make use of the `word_dict` which we have created. As such, we will save it to a file now for future use."
   ]
  },
  {
   "cell_type": "code",
   "execution_count": 16,
   "metadata": {},
   "outputs": [],
   "source": [
    "data_dir = '../data/pytorch' # The folder we will use for storing data\n",
    "if not os.path.exists(data_dir): # Make sure that the folder exists\n",
    "    os.makedirs(data_dir)"
   ]
  },
  {
   "cell_type": "code",
   "execution_count": 17,
   "metadata": {},
   "outputs": [],
   "source": [
    "with open(os.path.join(data_dir, 'word_dict.pkl'), \"wb\") as f:\n",
    "    pickle.dump(word_dict, f)"
   ]
  },
  {
   "cell_type": "markdown",
   "metadata": {},
   "source": [
    "### Transform the reviews\n",
    "\n",
    "Now that we have our word dictionary which allows us to transform the words appearing in the reviews into integers, it is time to make use of it and convert our reviews to their integer sequence representation, making sure to pad or truncate to a fixed length, which in our case is `500`."
   ]
  },
  {
   "cell_type": "code",
   "execution_count": 18,
   "metadata": {},
   "outputs": [],
   "source": [
    "def convert_and_pad(word_dict, sentence, pad=500):\n",
    "    NOWORD = 0 # We will use 0 to represent the 'no word' category\n",
    "    INFREQ = 1 # and we use 1 to represent the infrequent words, i.e., words not appearing in word_dict\n",
    "    \n",
    "    working_sentence = [NOWORD] * pad\n",
    "    \n",
    "    for word_index, word in enumerate(sentence[:pad]):\n",
    "        if word in word_dict:\n",
    "            working_sentence[word_index] = word_dict[word]\n",
    "        else:\n",
    "            working_sentence[word_index] = INFREQ\n",
    "            \n",
    "    return working_sentence, min(len(sentence), pad)\n",
    "\n",
    "def convert_and_pad_data(word_dict, data, pad=500):\n",
    "    result = []\n",
    "    lengths = []\n",
    "    \n",
    "    for sentence in data:\n",
    "        converted, leng = convert_and_pad(word_dict, sentence, pad)\n",
    "        result.append(converted)\n",
    "        lengths.append(leng)\n",
    "        \n",
    "    return np.array(result), np.array(lengths)"
   ]
  },
  {
   "cell_type": "code",
   "execution_count": 19,
   "metadata": {},
   "outputs": [],
   "source": [
    "train_X, train_X_len = convert_and_pad_data(word_dict, train_X)\n",
    "test_X, test_X_len = convert_and_pad_data(word_dict, test_X)"
   ]
  },
  {
   "cell_type": "markdown",
   "metadata": {},
   "source": [
    "As a quick check to make sure that things are working as intended, check to see what one of the reviews in the training set looks like after having been processeed. Does this look reasonable? What is the length of a review in the training set?"
   ]
  },
  {
   "cell_type": "code",
   "execution_count": 20,
   "metadata": {},
   "outputs": [
    {
     "name": "stdout",
     "output_type": "stream",
     "text": [
      "train_X[10]:\n",
      "\n",
      " [ 492 1942    3  225 2600   85 1180   11  354  587   31  945  917 1787\n",
      " 1427   35   31    8   21  200  284   19  433 1032   76  315  168   20\n",
      " 1991    1  131  620    3   74 2062  596 1758   20 1428    4  116 1210\n",
      "  382 3707    3 3964   20   74  112   39   10 3131  371   33   96 1880\n",
      " 4217 1477 1263  142  945  917  255 2554  140 4543  715  274    1  790\n",
      "   76 4315   12 4473    0    0    0    0    0    0    0    0    0    0\n",
      "    0    0    0    0    0    0    0    0    0    0    0    0    0    0\n",
      "    0    0    0    0    0    0    0    0    0    0    0    0    0    0\n",
      "    0    0    0    0    0    0    0    0    0    0    0    0    0    0\n",
      "    0    0    0    0    0    0    0    0    0    0    0    0    0    0\n",
      "    0    0    0    0    0    0    0    0    0    0    0    0    0    0\n",
      "    0    0    0    0    0    0    0    0    0    0    0    0    0    0\n",
      "    0    0    0    0    0    0    0    0    0    0    0    0    0    0\n",
      "    0    0    0    0    0    0    0    0    0    0    0    0    0    0\n",
      "    0    0    0    0    0    0    0    0    0    0    0    0    0    0\n",
      "    0    0    0    0    0    0    0    0    0    0    0    0    0    0\n",
      "    0    0    0    0    0    0    0    0    0    0    0    0    0    0\n",
      "    0    0    0    0    0    0    0    0    0    0    0    0    0    0\n",
      "    0    0    0    0    0    0    0    0    0    0    0    0    0    0\n",
      "    0    0    0    0    0    0    0    0    0    0    0    0    0    0\n",
      "    0    0    0    0    0    0    0    0    0    0    0    0    0    0\n",
      "    0    0    0    0    0    0    0    0    0    0    0    0    0    0\n",
      "    0    0    0    0    0    0    0    0    0    0    0    0    0    0\n",
      "    0    0    0    0    0    0    0    0    0    0    0    0    0    0\n",
      "    0    0    0    0    0    0    0    0    0    0    0    0    0    0\n",
      "    0    0    0    0    0    0    0    0    0    0    0    0    0    0\n",
      "    0    0    0    0    0    0    0    0    0    0    0    0    0    0\n",
      "    0    0    0    0    0    0    0    0    0    0    0    0    0    0\n",
      "    0    0    0    0    0    0    0    0    0    0    0    0    0    0\n",
      "    0    0    0    0    0    0    0    0    0    0    0    0    0    0\n",
      "    0    0    0    0    0    0    0    0    0    0    0    0    0    0\n",
      "    0    0    0    0    0    0    0    0    0    0    0    0    0    0\n",
      "    0    0    0    0    0    0    0    0    0    0    0    0    0    0\n",
      "    0    0    0    0    0    0    0    0    0    0    0    0    0    0\n",
      "    0    0    0    0    0    0    0    0    0    0    0    0    0    0\n",
      "    0    0    0    0    0    0    0    0    0    0]\n",
      "train_X_len[10]:\n",
      "\n",
      " 74\n",
      "test_X[10]:\n",
      "\n",
      " [ 390   11    2  518 1411  200   30   15  141 2447  164   35   77 1879\n",
      "  592 1401  380 1203 1299   22   39   10  103 3114  316 2414  470   39\n",
      "   72  119    1  349  349    5    1   15  138  568  170 1727  375  118\n",
      " 1879  592    1    1   19    1    7  885    1   42   81   33   84  127\n",
      "  488 1357    7  328  687   11 3002  534    7 1756 2281  167  702   81\n",
      "  131   60  140  223    4  114 2057  120 3114  316  131  942 1927  254\n",
      " 2018  750   15 1242   14  174   91  588   62 2813  408 1554   56   47\n",
      " 3114  316 1395  166  227    1   69   81   64   91   65   33 1174  327\n",
      "   24   78   11    1  141   84    1   34   23   29   11    2 1019    1\n",
      " 3845   23  920  126 2846    0    0    0    0    0    0    0    0    0\n",
      "    0    0    0    0    0    0    0    0    0    0    0    0    0    0\n",
      "    0    0    0    0    0    0    0    0    0    0    0    0    0    0\n",
      "    0    0    0    0    0    0    0    0    0    0    0    0    0    0\n",
      "    0    0    0    0    0    0    0    0    0    0    0    0    0    0\n",
      "    0    0    0    0    0    0    0    0    0    0    0    0    0    0\n",
      "    0    0    0    0    0    0    0    0    0    0    0    0    0    0\n",
      "    0    0    0    0    0    0    0    0    0    0    0    0    0    0\n",
      "    0    0    0    0    0    0    0    0    0    0    0    0    0    0\n",
      "    0    0    0    0    0    0    0    0    0    0    0    0    0    0\n",
      "    0    0    0    0    0    0    0    0    0    0    0    0    0    0\n",
      "    0    0    0    0    0    0    0    0    0    0    0    0    0    0\n",
      "    0    0    0    0    0    0    0    0    0    0    0    0    0    0\n",
      "    0    0    0    0    0    0    0    0    0    0    0    0    0    0\n",
      "    0    0    0    0    0    0    0    0    0    0    0    0    0    0\n",
      "    0    0    0    0    0    0    0    0    0    0    0    0    0    0\n",
      "    0    0    0    0    0    0    0    0    0    0    0    0    0    0\n",
      "    0    0    0    0    0    0    0    0    0    0    0    0    0    0\n",
      "    0    0    0    0    0    0    0    0    0    0    0    0    0    0\n",
      "    0    0    0    0    0    0    0    0    0    0    0    0    0    0\n",
      "    0    0    0    0    0    0    0    0    0    0    0    0    0    0\n",
      "    0    0    0    0    0    0    0    0    0    0    0    0    0    0\n",
      "    0    0    0    0    0    0    0    0    0    0    0    0    0    0\n",
      "    0    0    0    0    0    0    0    0    0    0    0    0    0    0\n",
      "    0    0    0    0    0    0    0    0    0    0    0    0    0    0\n",
      "    0    0    0    0    0    0    0    0    0    0    0    0    0    0\n",
      "    0    0    0    0    0    0    0    0    0    0]\n",
      "test_X_len[10]:\n",
      "\n",
      " 131\n"
     ]
    }
   ],
   "source": [
    "# Use this cell to examine one of the processed reviews to make sure everything is working as intended.\n",
    "print('train_X[10]:\\n\\n', train_X[10])\n",
    "print('train_X_len[10]:\\n\\n', train_X_len[10])\n",
    "print('test_X[10]:\\n\\n', test_X[10])\n",
    "print('test_X_len[10]:\\n\\n', test_X_len[10])"
   ]
  },
  {
   "cell_type": "markdown",
   "metadata": {},
   "source": [
    "**Question:** In the cells above we use the `preprocess_data` and `convert_and_pad_data` methods to process both the training and testing set. Why or why not might this be a problem?"
   ]
  },
  {
   "cell_type": "markdown",
   "metadata": {},
   "source": [
    "**Answer:**  \n",
    "- Results of `preprocess_data` method are stored in `preprocess_data.pkl` file. This data are already cached, meaning if your system suddenly crash, you lost connection or you are not able to finish your work, your data will be saved automatictly. It's good as it speeds up processing data step (not need to process data again). \n",
    "\n",
    "- `convert_and_pad_data` method manipulates `preprocess_data`. It cuts off or pads words which helps maintain a constant data legth of 500. That's good as we do need to keep a constant batch size during training because of LSTM Classifier. Alos, truncatenating super long comments removes outliers and allows our model to train more efficiently.\n",
    "\n",
    "__Few potential problems:__\n",
    "- What if long comments have a crucial information and we are removin them by cutting off the end of the comment? \n",
    "- Is 500 a right size for our experiment? Important to consider as maximum comment length might have too many steps for our RNN.\n",
    "- What about a super short comments and comments with a zero length? As long as we remove them, then it shouldn't be a problem. "
   ]
  },
  {
   "cell_type": "markdown",
   "metadata": {},
   "source": [
    "## Step 3: Upload the data to S3\n",
    "\n",
    "As in the XGBoost notebook, we will need to upload the training dataset to S3 in order for our training code to access it. For now we will save it locally and we will upload to S3 later on.\n",
    "\n",
    "### Save the processed training dataset locally\n",
    "\n",
    "It is important to note the format of the data that we are saving as we will need to know it when we write the training code. In our case, each row of the dataset has the form `label`, `length`, `review[500]` where `review[500]` is a sequence of `500` integers representing the words in the review."
   ]
  },
  {
   "cell_type": "code",
   "execution_count": 21,
   "metadata": {},
   "outputs": [],
   "source": [
    "import pandas as pd\n",
    "    \n",
    "pd.concat([pd.DataFrame(train_y), pd.DataFrame(train_X_len), pd.DataFrame(train_X)], axis=1) \\\n",
    "        .to_csv(os.path.join(data_dir, 'train.csv'), header=False, index=False)"
   ]
  },
  {
   "cell_type": "markdown",
   "metadata": {},
   "source": [
    "### Uploading the training data\n",
    "\n",
    "\n",
    "Next, we need to upload the training data to the SageMaker default S3 bucket so that we can provide access to it while training our model."
   ]
  },
  {
   "cell_type": "code",
   "execution_count": 22,
   "metadata": {},
   "outputs": [],
   "source": [
    "import sagemaker\n",
    "\n",
    "sagemaker_session = sagemaker.Session()\n",
    "\n",
    "bucket = sagemaker_session.default_bucket()\n",
    "prefix = 'sagemaker/sentiment_rnn'\n",
    "\n",
    "role = sagemaker.get_execution_role()"
   ]
  },
  {
   "cell_type": "code",
   "execution_count": 23,
   "metadata": {},
   "outputs": [],
   "source": [
    "input_data = sagemaker_session.upload_data(path=data_dir, bucket=bucket, key_prefix=prefix)"
   ]
  },
  {
   "cell_type": "markdown",
   "metadata": {},
   "source": [
    "**NOTE:** The cell above uploads the entire contents of our data directory. This includes the `word_dict.pkl` file. This is fortunate as we will need this later on when we create an endpoint that accepts an arbitrary review. For now, we will just take note of the fact that it resides in the data directory (and so also in the S3 training bucket) and that we will need to make sure it gets saved in the model directory."
   ]
  },
  {
   "cell_type": "markdown",
   "metadata": {},
   "source": [
    "## Step 4: Build and Train the PyTorch Model\n",
    "\n",
    "In the XGBoost notebook we discussed what a model is in the SageMaker framework. In particular, a model comprises three objects\n",
    "\n",
    " - Model Artifacts,\n",
    " - Training Code, and\n",
    " - Inference Code,\n",
    " \n",
    "each of which interact with one another. In the XGBoost example we used training and inference code that was provided by Amazon. Here we will still be using containers provided by Amazon with the added benefit of being able to include our own custom code.\n",
    "\n",
    "We will start by implementing our own neural network in PyTorch along with a training script. For the purposes of this project we have provided the necessary model object in the `model.py` file, inside of the `train` folder. You can see the provided implementation by running the cell below."
   ]
  },
  {
   "cell_type": "code",
   "execution_count": 24,
   "metadata": {},
   "outputs": [
    {
     "name": "stdout",
     "output_type": "stream",
     "text": [
      "\u001b[34mimport\u001b[39;49;00m \u001b[04m\u001b[36mtorch.nn\u001b[39;49;00m \u001b[34mas\u001b[39;49;00m \u001b[04m\u001b[36mnn\u001b[39;49;00m\r\n",
      "\r\n",
      "\u001b[34mclass\u001b[39;49;00m \u001b[04m\u001b[32mLSTMClassifier\u001b[39;49;00m(nn.Module):\r\n",
      "    \u001b[33m\"\"\"\u001b[39;49;00m\r\n",
      "\u001b[33m    This is the simple RNN model we will be using to perform Sentiment Analysis.\u001b[39;49;00m\r\n",
      "\u001b[33m    \"\"\"\u001b[39;49;00m\r\n",
      "\r\n",
      "    \u001b[34mdef\u001b[39;49;00m \u001b[32m__init__\u001b[39;49;00m(\u001b[36mself\u001b[39;49;00m, embedding_dim, hidden_dim, vocab_size):\r\n",
      "        \u001b[33m\"\"\"\u001b[39;49;00m\r\n",
      "\u001b[33m        Initialize the model by settingg up the various layers.\u001b[39;49;00m\r\n",
      "\u001b[33m        \"\"\"\u001b[39;49;00m\r\n",
      "        \u001b[36msuper\u001b[39;49;00m(LSTMClassifier, \u001b[36mself\u001b[39;49;00m).\u001b[32m__init__\u001b[39;49;00m()\r\n",
      "\r\n",
      "        \u001b[36mself\u001b[39;49;00m.embedding = nn.Embedding(vocab_size, embedding_dim, padding_idx=\u001b[34m0\u001b[39;49;00m)\r\n",
      "        \u001b[36mself\u001b[39;49;00m.lstm = nn.LSTM(embedding_dim, hidden_dim)\r\n",
      "        \u001b[36mself\u001b[39;49;00m.dense = nn.Linear(in_features=hidden_dim, out_features=\u001b[34m1\u001b[39;49;00m)\r\n",
      "        \u001b[36mself\u001b[39;49;00m.sig = nn.Sigmoid()\r\n",
      "        \r\n",
      "        \u001b[36mself\u001b[39;49;00m.word_dict = \u001b[36mNone\u001b[39;49;00m\r\n",
      "\r\n",
      "    \u001b[34mdef\u001b[39;49;00m \u001b[32mforward\u001b[39;49;00m(\u001b[36mself\u001b[39;49;00m, x):\r\n",
      "        \u001b[33m\"\"\"\u001b[39;49;00m\r\n",
      "\u001b[33m        Perform a forward pass of our model on some input.\u001b[39;49;00m\r\n",
      "\u001b[33m        \"\"\"\u001b[39;49;00m\r\n",
      "        x = x.t()\r\n",
      "        lengths = x[\u001b[34m0\u001b[39;49;00m,:]\r\n",
      "        reviews = x[\u001b[34m1\u001b[39;49;00m:,:]\r\n",
      "        embeds = \u001b[36mself\u001b[39;49;00m.embedding(reviews)\r\n",
      "        lstm_out, _ = \u001b[36mself\u001b[39;49;00m.lstm(embeds)\r\n",
      "        out = \u001b[36mself\u001b[39;49;00m.dense(lstm_out)\r\n",
      "        out = out[lengths - \u001b[34m1\u001b[39;49;00m, \u001b[36mrange\u001b[39;49;00m(\u001b[36mlen\u001b[39;49;00m(lengths))]\r\n",
      "        \u001b[34mreturn\u001b[39;49;00m \u001b[36mself\u001b[39;49;00m.sig(out.squeeze())\r\n"
     ]
    }
   ],
   "source": [
    "!pygmentize train/model.py"
   ]
  },
  {
   "cell_type": "markdown",
   "metadata": {},
   "source": [
    "The important takeaway from the implementation provided is that there are three parameters that we may wish to tweak to improve the performance of our model. These are the embedding dimension, the hidden dimension and the size of the vocabulary. We will likely want to make these parameters configurable in the training script so that if we wish to modify them we do not need to modify the script itself. We will see how to do this later on. To start we will write some of the training code in the notebook so that we can more easily diagnose any issues that arise.\n",
    "\n",
    "First we will load a small portion of the training data set to use as a sample. It would be very time consuming to try and train the model completely in the notebook as we do not have access to a gpu and the compute instance that we are using is not particularly powerful. However, we can work on a small bit of the data to get a feel for how our training script is behaving."
   ]
  },
  {
   "cell_type": "code",
   "execution_count": 25,
   "metadata": {},
   "outputs": [],
   "source": [
    "import torch\n",
    "import torch.utils.data\n",
    "\n",
    "# Read in only the first 250 rows\n",
    "train_sample = pd.read_csv(os.path.join(data_dir, 'train.csv'), header=None, names=None, nrows=250)\n",
    "\n",
    "# Turn the input pandas dataframe into tensors\n",
    "train_sample_y = torch.from_numpy(train_sample[[0]].values).float().squeeze()\n",
    "train_sample_X = torch.from_numpy(train_sample.drop([0], axis=1).values).long()\n",
    "\n",
    "# Build the dataset\n",
    "train_sample_ds = torch.utils.data.TensorDataset(train_sample_X, train_sample_y)\n",
    "# Build the dataloader\n",
    "train_sample_dl = torch.utils.data.DataLoader(train_sample_ds, batch_size=50)"
   ]
  },
  {
   "cell_type": "markdown",
   "metadata": {},
   "source": [
    "### (TODO) Writing the training method\n",
    "\n",
    "Next we need to write the training code itself. This should be very similar to training methods that you have written before to train PyTorch models. We will leave any difficult aspects such as model saving / loading and parameter loading until a little later."
   ]
  },
  {
   "cell_type": "code",
   "execution_count": 26,
   "metadata": {},
   "outputs": [],
   "source": [
    "def train(model, train_loader, epochs, optimizer, loss_fn, device):\n",
    "    for epoch in range(1, epochs + 1):\n",
    "        model.train()\n",
    "        total_loss = 0\n",
    "        for batch in train_loader:         \n",
    "            batch_X, batch_y = batch\n",
    "            \n",
    "            batch_X = batch_X.to(device)\n",
    "            batch_y = batch_y.to(device)\n",
    "            \n",
    "            # TODO: Complete this train method to train the model provided.\n",
    "            output = model(batch_X)\n",
    "            loss = loss_fn(output, batch_y)\n",
    "            optimizer.zero_grad()\n",
    "            loss.backward()\n",
    "            optimizer.step()\n",
    "            \n",
    "            total_loss += loss.data.item()\n",
    "        print(\"Epoch: {}, BCELoss: {}\".format(epoch, total_loss / len(train_loader)))"
   ]
  },
  {
   "cell_type": "markdown",
   "metadata": {},
   "source": [
    "Supposing we have the training method above, we will test that it is working by writing a bit of code in the notebook that executes our training method on the small sample training set that we loaded earlier. The reason for doing this in the notebook is so that we have an opportunity to fix any errors that arise early when they are easier to diagnose."
   ]
  },
  {
   "cell_type": "code",
   "execution_count": 27,
   "metadata": {},
   "outputs": [
    {
     "name": "stdout",
     "output_type": "stream",
     "text": [
      "Epoch: 1, BCELoss: 0.6942613601684571\n",
      "Epoch: 2, BCELoss: 0.6850111961364747\n",
      "Epoch: 3, BCELoss: 0.6774879813194274\n",
      "Epoch: 4, BCELoss: 0.6695037961006165\n",
      "Epoch: 5, BCELoss: 0.6601568460464478\n"
     ]
    }
   ],
   "source": [
    "import torch.optim as optim\n",
    "from train.model import LSTMClassifier\n",
    "\n",
    "device = torch.device(\"cuda\" if torch.cuda.is_available() else \"cpu\")\n",
    "model = LSTMClassifier(32, 100, 5000).to(device)\n",
    "optimizer = optim.Adam(model.parameters())\n",
    "loss_fn = torch.nn.BCELoss()\n",
    "\n",
    "train(model, train_sample_dl, 5, optimizer, loss_fn, device)"
   ]
  },
  {
   "cell_type": "markdown",
   "metadata": {},
   "source": [
    "In order to construct a PyTorch model using SageMaker we must provide SageMaker with a training script. We may optionally include a directory which will be copied to the container and from which our training code will be run. When the training container is executed it will check the uploaded directory (if there is one) for a `requirements.txt` file and install any required Python libraries, after which the training script will be run."
   ]
  },
  {
   "cell_type": "markdown",
   "metadata": {},
   "source": [
    "### (TODO) Training the model\n",
    "\n",
    "When a PyTorch model is constructed in SageMaker, an entry point must be specified. This is the Python file which will be executed when the model is trained. Inside of the `train` directory is a file called `train.py` which has been provided and which contains most of the necessary code to train our model. The only thing that is missing is the implementation of the `train()` method which you wrote earlier in this notebook.\n",
    "\n",
    "**TODO**: Copy the `train()` method written above and paste it into the `train/train.py` file where required.\n",
    "\n",
    "The way that SageMaker passes hyperparameters to the training script is by way of arguments. These arguments can then be parsed and used in the training script. To see how this is done take a look at the provided `train/train.py` file."
   ]
  },
  {
   "cell_type": "code",
   "execution_count": 28,
   "metadata": {},
   "outputs": [],
   "source": [
    "from sagemaker.pytorch import PyTorch\n",
    "\n",
    "estimator = PyTorch(entry_point=\"train.py\",\n",
    "                    source_dir=\"train\",\n",
    "                    role=role,\n",
    "                    framework_version='0.4.0',\n",
    "                    train_instance_count=1,\n",
    "                    train_instance_type='ml.p2.xlarge',\n",
    "                    hyperparameters={\n",
    "                        'epochs': 10,\n",
    "                        'hidden_dim': 200,\n",
    "                    })"
   ]
  },
  {
   "cell_type": "code",
   "execution_count": 29,
   "metadata": {},
   "outputs": [
    {
     "name": "stdout",
     "output_type": "stream",
     "text": [
      "2020-02-24 12:51:28 Starting - Starting the training job...\n",
      "2020-02-24 12:51:30 Starting - Launching requested ML instances......\n",
      "2020-02-24 12:52:31 Starting - Preparing the instances for training......\n",
      "2020-02-24 12:53:49 Downloading - Downloading input data...\n",
      "2020-02-24 12:54:19 Training - Downloading the training image...\n",
      "2020-02-24 12:54:55 Training - Training image download completed. Training in progress..\u001b[34mbash: cannot set terminal process group (-1): Inappropriate ioctl for device\u001b[0m\n",
      "\u001b[34mbash: no job control in this shell\u001b[0m\n",
      "\u001b[34m2020-02-24 12:54:55,371 sagemaker-containers INFO     Imported framework sagemaker_pytorch_container.training\u001b[0m\n",
      "\u001b[34m2020-02-24 12:54:55,399 sagemaker_pytorch_container.training INFO     Block until all host DNS lookups succeed.\u001b[0m\n",
      "\u001b[34m2020-02-24 12:54:58,419 sagemaker_pytorch_container.training INFO     Invoking user training script.\u001b[0m\n",
      "\u001b[34m2020-02-24 12:54:58,702 sagemaker-containers INFO     Module train does not provide a setup.py. \u001b[0m\n",
      "\u001b[34mGenerating setup.py\u001b[0m\n",
      "\u001b[34m2020-02-24 12:54:58,702 sagemaker-containers INFO     Generating setup.cfg\u001b[0m\n",
      "\u001b[34m2020-02-24 12:54:58,703 sagemaker-containers INFO     Generating MANIFEST.in\u001b[0m\n",
      "\u001b[34m2020-02-24 12:54:58,703 sagemaker-containers INFO     Installing module with the following command:\u001b[0m\n",
      "\u001b[34m/usr/bin/python -m pip install -U . -r requirements.txt\u001b[0m\n",
      "\u001b[34mProcessing /opt/ml/code\u001b[0m\n",
      "\u001b[34mCollecting pandas (from -r requirements.txt (line 1))\n",
      "  Downloading https://files.pythonhosted.org/packages/74/24/0cdbf8907e1e3bc5a8da03345c23cbed7044330bb8f73bb12e711a640a00/pandas-0.24.2-cp35-cp35m-manylinux1_x86_64.whl (10.0MB)\u001b[0m\n",
      "\u001b[34mCollecting numpy (from -r requirements.txt (line 2))\n",
      "  Downloading https://files.pythonhosted.org/packages/52/e6/1715e592ef47f28f3f50065322423bb75619ed2f7c24be86380ecc93503c/numpy-1.18.1-cp35-cp35m-manylinux1_x86_64.whl (19.9MB)\u001b[0m\n",
      "\u001b[34mCollecting nltk (from -r requirements.txt (line 3))\n",
      "  Downloading https://files.pythonhosted.org/packages/f6/1d/d925cfb4f324ede997f6d47bea4d9babba51b49e87a767c170b77005889d/nltk-3.4.5.zip (1.5MB)\u001b[0m\n",
      "\u001b[34mCollecting beautifulsoup4 (from -r requirements.txt (line 4))\n",
      "  Downloading https://files.pythonhosted.org/packages/cb/a1/c698cf319e9cfed6b17376281bd0efc6bfc8465698f54170ef60a485ab5d/beautifulsoup4-4.8.2-py3-none-any.whl (106kB)\u001b[0m\n",
      "\u001b[34mCollecting html5lib (from -r requirements.txt (line 5))\n",
      "  Downloading https://files.pythonhosted.org/packages/a5/62/bbd2be0e7943ec8504b517e62bab011b4946e1258842bc159e5dfde15b96/html5lib-1.0.1-py2.py3-none-any.whl (117kB)\u001b[0m\n",
      "\u001b[34mCollecting pytz>=2011k (from pandas->-r requirements.txt (line 1))\n",
      "  Downloading https://files.pythonhosted.org/packages/e7/f9/f0b53f88060247251bf481fa6ea62cd0d25bf1b11a87888e53ce5b7c8ad2/pytz-2019.3-py2.py3-none-any.whl (509kB)\u001b[0m\n",
      "\u001b[34mRequirement already satisfied, skipping upgrade: python-dateutil>=2.5.0 in /usr/local/lib/python3.5/dist-packages (from pandas->-r requirements.txt (line 1)) (2.7.5)\u001b[0m\n",
      "\u001b[34mRequirement already satisfied, skipping upgrade: six in /usr/local/lib/python3.5/dist-packages (from nltk->-r requirements.txt (line 3)) (1.11.0)\u001b[0m\n",
      "\u001b[34mCollecting soupsieve>=1.2 (from beautifulsoup4->-r requirements.txt (line 4))\n",
      "  Downloading https://files.pythonhosted.org/packages/05/cf/ea245e52f55823f19992447b008bcbb7f78efc5960d77f6c34b5b45b36dd/soupsieve-2.0-py2.py3-none-any.whl\u001b[0m\n",
      "\u001b[34mCollecting webencodings (from html5lib->-r requirements.txt (line 5))\n",
      "  Downloading https://files.pythonhosted.org/packages/f4/24/2a3e3df732393fed8b3ebf2ec078f05546de641fe1b667ee316ec1dcf3b7/webencodings-0.5.1-py2.py3-none-any.whl\u001b[0m\n",
      "\u001b[34mBuilding wheels for collected packages: nltk, train\n",
      "  Running setup.py bdist_wheel for nltk: started\u001b[0m\n",
      "\u001b[34m  Running setup.py bdist_wheel for nltk: finished with status 'done'\n",
      "  Stored in directory: /root/.cache/pip/wheels/96/86/f6/68ab24c23f207c0077381a5e3904b2815136b879538a24b483\n",
      "  Running setup.py bdist_wheel for train: started\n",
      "  Running setup.py bdist_wheel for train: finished with status 'done'\n",
      "  Stored in directory: /tmp/pip-ephem-wheel-cache-2ve9qs7h/wheels/35/24/16/37574d11bf9bde50616c67372a334f94fa8356bc7164af8ca3\u001b[0m\n",
      "\u001b[34mSuccessfully built nltk train\u001b[0m\n",
      "\u001b[34mInstalling collected packages: numpy, pytz, pandas, nltk, soupsieve, beautifulsoup4, webencodings, html5lib, train\n",
      "  Found existing installation: numpy 1.15.4\n",
      "    Uninstalling numpy-1.15.4:\n",
      "      Successfully uninstalled numpy-1.15.4\u001b[0m\n",
      "\u001b[34mSuccessfully installed beautifulsoup4-4.8.2 html5lib-1.0.1 nltk-3.4.5 numpy-1.18.1 pandas-0.24.2 pytz-2019.3 soupsieve-2.0 train-1.0.0 webencodings-0.5.1\u001b[0m\n",
      "\u001b[34mYou are using pip version 18.1, however version 20.0.2 is available.\u001b[0m\n",
      "\u001b[34mYou should consider upgrading via the 'pip install --upgrade pip' command.\u001b[0m\n",
      "\u001b[34m2020-02-24 12:55:10,846 sagemaker-containers INFO     Invoking user script\n",
      "\u001b[0m\n",
      "\u001b[34mTraining Env:\n",
      "\u001b[0m\n",
      "\u001b[34m{\n",
      "    \"model_dir\": \"/opt/ml/model\",\n",
      "    \"module_dir\": \"s3://sagemaker-us-west-2-780338014445/sagemaker-pytorch-2020-02-24-12-51-27-766/source/sourcedir.tar.gz\",\n",
      "    \"user_entry_point\": \"train.py\",\n",
      "    \"input_dir\": \"/opt/ml/input\",\n",
      "    \"additional_framework_parameters\": {},\n",
      "    \"channel_input_dirs\": {\n",
      "        \"training\": \"/opt/ml/input/data/training\"\n",
      "    },\n",
      "    \"hosts\": [\n",
      "        \"algo-1\"\n",
      "    ],\n",
      "    \"module_name\": \"train\",\n",
      "    \"num_cpus\": 4,\n",
      "    \"hyperparameters\": {\n",
      "        \"epochs\": 10,\n",
      "        \"hidden_dim\": 200\n",
      "    },\n",
      "    \"output_intermediate_dir\": \"/opt/ml/output/intermediate\",\n",
      "    \"framework_module\": \"sagemaker_pytorch_container.training:main\",\n",
      "    \"output_dir\": \"/opt/ml/output\",\n",
      "    \"output_data_dir\": \"/opt/ml/output/data\",\n",
      "    \"log_level\": 20,\n",
      "    \"input_data_config\": {\n",
      "        \"training\": {\n",
      "            \"TrainingInputMode\": \"File\",\n",
      "            \"RecordWrapperType\": \"None\",\n",
      "            \"S3DistributionType\": \"FullyReplicated\"\n",
      "        }\n",
      "    },\n",
      "    \"resource_config\": {\n",
      "        \"hosts\": [\n",
      "            \"algo-1\"\n",
      "        ],\n",
      "        \"current_host\": \"algo-1\",\n",
      "        \"network_interface_name\": \"eth0\"\n",
      "    },\n",
      "    \"network_interface_name\": \"eth0\",\n",
      "    \"current_host\": \"algo-1\",\n",
      "    \"num_gpus\": 1,\n",
      "    \"job_name\": \"sagemaker-pytorch-2020-02-24-12-51-27-766\",\n",
      "    \"input_config_dir\": \"/opt/ml/input/config\"\u001b[0m\n",
      "\u001b[34m}\n",
      "\u001b[0m\n",
      "\u001b[34mEnvironment variables:\n",
      "\u001b[0m\n",
      "\u001b[34mSM_INPUT_DIR=/opt/ml/input\u001b[0m\n",
      "\u001b[34mSM_INPUT_CONFIG_DIR=/opt/ml/input/config\u001b[0m\n",
      "\u001b[34mSM_INPUT_DATA_CONFIG={\"training\":{\"RecordWrapperType\":\"None\",\"S3DistributionType\":\"FullyReplicated\",\"TrainingInputMode\":\"File\"}}\u001b[0m\n",
      "\u001b[34mSM_CURRENT_HOST=algo-1\u001b[0m\n",
      "\u001b[34mSM_HOSTS=[\"algo-1\"]\u001b[0m\n",
      "\u001b[34mSM_MODEL_DIR=/opt/ml/model\u001b[0m\n",
      "\u001b[34mPYTHONPATH=/usr/local/bin:/usr/lib/python35.zip:/usr/lib/python3.5:/usr/lib/python3.5/plat-x86_64-linux-gnu:/usr/lib/python3.5/lib-dynload:/usr/local/lib/python3.5/dist-packages:/usr/lib/python3/dist-packages\u001b[0m\n",
      "\u001b[34mSM_NUM_GPUS=1\u001b[0m\n",
      "\u001b[34mSM_LOG_LEVEL=20\u001b[0m\n",
      "\u001b[34mSM_RESOURCE_CONFIG={\"current_host\":\"algo-1\",\"hosts\":[\"algo-1\"],\"network_interface_name\":\"eth0\"}\u001b[0m\n",
      "\u001b[34mSM_HPS={\"epochs\":10,\"hidden_dim\":200}\u001b[0m\n",
      "\u001b[34mSM_OUTPUT_INTERMEDIATE_DIR=/opt/ml/output/intermediate\u001b[0m\n",
      "\u001b[34mSM_FRAMEWORK_MODULE=sagemaker_pytorch_container.training:main\u001b[0m\n",
      "\u001b[34mSM_TRAINING_ENV={\"additional_framework_parameters\":{},\"channel_input_dirs\":{\"training\":\"/opt/ml/input/data/training\"},\"current_host\":\"algo-1\",\"framework_module\":\"sagemaker_pytorch_container.training:main\",\"hosts\":[\"algo-1\"],\"hyperparameters\":{\"epochs\":10,\"hidden_dim\":200},\"input_config_dir\":\"/opt/ml/input/config\",\"input_data_config\":{\"training\":{\"RecordWrapperType\":\"None\",\"S3DistributionType\":\"FullyReplicated\",\"TrainingInputMode\":\"File\"}},\"input_dir\":\"/opt/ml/input\",\"job_name\":\"sagemaker-pytorch-2020-02-24-12-51-27-766\",\"log_level\":20,\"model_dir\":\"/opt/ml/model\",\"module_dir\":\"s3://sagemaker-us-west-2-780338014445/sagemaker-pytorch-2020-02-24-12-51-27-766/source/sourcedir.tar.gz\",\"module_name\":\"train\",\"network_interface_name\":\"eth0\",\"num_cpus\":4,\"num_gpus\":1,\"output_data_dir\":\"/opt/ml/output/data\",\"output_dir\":\"/opt/ml/output\",\"output_intermediate_dir\":\"/opt/ml/output/intermediate\",\"resource_config\":{\"current_host\":\"algo-1\",\"hosts\":[\"algo-1\"],\"network_interface_name\":\"eth0\"},\"user_entry_point\":\"train.py\"}\u001b[0m\n",
      "\u001b[34mSM_MODULE_DIR=s3://sagemaker-us-west-2-780338014445/sagemaker-pytorch-2020-02-24-12-51-27-766/source/sourcedir.tar.gz\u001b[0m\n",
      "\u001b[34mSM_NUM_CPUS=4\u001b[0m\n",
      "\u001b[34mSM_HP_EPOCHS=10\u001b[0m\n",
      "\u001b[34mSM_OUTPUT_DATA_DIR=/opt/ml/output/data\u001b[0m\n",
      "\u001b[34mSM_FRAMEWORK_PARAMS={}\u001b[0m\n",
      "\u001b[34mSM_CHANNEL_TRAINING=/opt/ml/input/data/training\u001b[0m\n",
      "\u001b[34mSM_HP_HIDDEN_DIM=200\u001b[0m\n",
      "\u001b[34mSM_USER_ENTRY_POINT=train.py\u001b[0m\n",
      "\u001b[34mSM_CHANNELS=[\"training\"]\u001b[0m\n",
      "\u001b[34mSM_MODULE_NAME=train\u001b[0m\n",
      "\u001b[34mSM_OUTPUT_DIR=/opt/ml/output\u001b[0m\n",
      "\u001b[34mSM_USER_ARGS=[\"--epochs\",\"10\",\"--hidden_dim\",\"200\"]\u001b[0m\n",
      "\u001b[34mSM_NETWORK_INTERFACE_NAME=eth0\n",
      "\u001b[0m\n",
      "\u001b[34mInvoking script with the following command:\n",
      "\u001b[0m\n",
      "\u001b[34m/usr/bin/python -m train --epochs 10 --hidden_dim 200\n",
      "\n",
      "\u001b[0m\n",
      "\u001b[34mUsing device cuda.\u001b[0m\n",
      "\u001b[34mGet train data loader.\u001b[0m\n",
      "\u001b[34mModel loaded with embedding_dim 32, hidden_dim 200, vocab_size 5000.\u001b[0m\n",
      "\u001b[34mEpoch: 1, BCELoss: 0.6705158900241462\u001b[0m\n",
      "\u001b[34mEpoch: 2, BCELoss: 0.5723144971594518\u001b[0m\n",
      "\u001b[34mEpoch: 3, BCELoss: 0.5028306002519569\u001b[0m\n",
      "\u001b[34mEpoch: 4, BCELoss: 0.4169964863329518\u001b[0m\n",
      "\u001b[34mEpoch: 5, BCELoss: 0.381991767153448\u001b[0m\n",
      "\u001b[34mEpoch: 6, BCELoss: 0.35429722800546765\u001b[0m\n",
      "\u001b[34mEpoch: 7, BCELoss: 0.3268553535549008\u001b[0m\n",
      "\u001b[34mEpoch: 8, BCELoss: 0.3083527294956908\u001b[0m\n",
      "\u001b[34mEpoch: 9, BCELoss: 0.3062050546310386\u001b[0m\n",
      "\u001b[34mEpoch: 10, BCELoss: 0.3079411043804519\u001b[0m\n",
      "\u001b[34m2020-02-24 12:58:13,704 sagemaker-containers INFO     Reporting training SUCCESS\u001b[0m\n",
      "\n",
      "2020-02-24 12:58:24 Uploading - Uploading generated training model\n",
      "2020-02-24 12:58:24 Completed - Training job completed\n",
      "Training seconds: 275\n",
      "Billable seconds: 275\n"
     ]
    }
   ],
   "source": [
    "estimator.fit({'training': input_data})"
   ]
  },
  {
   "cell_type": "markdown",
   "metadata": {},
   "source": [
    "## Step 5: Testing the model\n",
    "\n",
    "As mentioned at the top of this notebook, we will be testing this model by first deploying it and then sending the testing data to the deployed endpoint. We will do this so that we can make sure that the deployed model is working correctly.\n",
    "\n",
    "## Step 6: Deploy the model for testing\n",
    "\n",
    "Now that we have trained our model, we would like to test it to see how it performs. Currently our model takes input of the form `review_length, review[500]` where `review[500]` is a sequence of `500` integers which describe the words present in the review, encoded using `word_dict`. Fortunately for us, SageMaker provides built-in inference code for models with simple inputs such as this.\n",
    "\n",
    "There is one thing that we need to provide, however, and that is a function which loads the saved model. This function must be called `model_fn()` and takes as its only parameter a path to the directory where the model artifacts are stored. This function must also be present in the python file which we specified as the entry point. In our case the model loading function has been provided and so no changes need to be made.\n",
    "\n",
    "**NOTE**: When the built-in inference code is run it must import the `model_fn()` method from the `train.py` file. This is why the training code is wrapped in a main guard ( ie, `if __name__ == '__main__':` )\n",
    "\n",
    "Since we don't need to change anything in the code that was uploaded during training, we can simply deploy the current model as-is.\n",
    "\n",
    "**NOTE:** When deploying a model you are asking SageMaker to launch an compute instance that will wait for data to be sent to it. As a result, this compute instance will continue to run until *you* shut it down. This is important to know since the cost of a deployed endpoint depends on how long it has been running for.\n",
    "\n",
    "In other words **If you are no longer using a deployed endpoint, shut it down!**\n",
    "\n",
    "**TODO:** Deploy the trained model."
   ]
  },
  {
   "cell_type": "code",
   "execution_count": 30,
   "metadata": {},
   "outputs": [
    {
     "name": "stdout",
     "output_type": "stream",
     "text": [
      "-------------------!"
     ]
    }
   ],
   "source": [
    "# TODO: Deploy the trained model\n",
    "predictor = estimator.deploy(initial_instance_count=1, instance_type='ml.p2.xlarge')"
   ]
  },
  {
   "cell_type": "markdown",
   "metadata": {},
   "source": [
    "## Step 7 - Use the model for testing\n",
    "\n",
    "Once deployed, we can read in the test data and send it off to our deployed model to get some results. Once we collect all of the results we can determine how accurate our model is."
   ]
  },
  {
   "cell_type": "code",
   "execution_count": 31,
   "metadata": {},
   "outputs": [],
   "source": [
    "test_X = pd.concat([pd.DataFrame(test_X_len), pd.DataFrame(test_X)], axis=1)"
   ]
  },
  {
   "cell_type": "code",
   "execution_count": 32,
   "metadata": {},
   "outputs": [],
   "source": [
    "# We split the data into chunks and send each chunk seperately, accumulating the results.\n",
    "\n",
    "def predict(data, rows=512):\n",
    "    split_array = np.array_split(data, int(data.shape[0] / float(rows) + 1))\n",
    "    predictions = np.array([])\n",
    "    for array in split_array:\n",
    "        predictions = np.append(predictions, predictor.predict(array))\n",
    "    \n",
    "    return predictions"
   ]
  },
  {
   "cell_type": "code",
   "execution_count": 33,
   "metadata": {},
   "outputs": [],
   "source": [
    "predictions = predict(test_X.values)\n",
    "predictions = [round(num) for num in predictions]"
   ]
  },
  {
   "cell_type": "code",
   "execution_count": 34,
   "metadata": {},
   "outputs": [
    {
     "data": {
      "text/plain": [
       "0.85"
      ]
     },
     "execution_count": 34,
     "metadata": {},
     "output_type": "execute_result"
    }
   ],
   "source": [
    "from sklearn.metrics import accuracy_score\n",
    "accuracy_score(test_y, predictions)"
   ]
  },
  {
   "cell_type": "markdown",
   "metadata": {},
   "source": [
    "**Question:** How does this model compare to the XGBoost model you created earlier? Why might these two models perform differently on this dataset? Which do *you* think is better for sentiment analysis?"
   ]
  },
  {
   "cell_type": "markdown",
   "metadata": {},
   "source": [
    "**Answer:**  \n",
    "This model compared to XGBoost model has better accuracy score. "
   ]
  },
  {
   "cell_type": "markdown",
   "metadata": {},
   "source": [
    "### (TODO) More testing\n",
    "\n",
    "We now have a trained model which has been deployed and which we can send processed reviews to and which returns the predicted sentiment. However, ultimately we would like to be able to send our model an unprocessed review. That is, we would like to send the review itself as a string. For example, suppose we wish to send the following review to our model."
   ]
  },
  {
   "cell_type": "code",
   "execution_count": 35,
   "metadata": {},
   "outputs": [],
   "source": [
    "test_review = 'The simplest pleasures in life are the best, and this film is one of them. Combining a rather basic storyline of love and adventure this movie transcends the usual weekend fair with wit and unmitigated charm.'"
   ]
  },
  {
   "cell_type": "markdown",
   "metadata": {},
   "source": [
    "The question we now need to answer is, how do we send this review to our model?\n",
    "\n",
    "Recall in the first section of this notebook we did a bunch of data processing to the IMDb dataset. In particular, we did two specific things to the provided reviews.\n",
    " - Removed any html tags and stemmed the input\n",
    " - Encoded the review as a sequence of integers using `word_dict`\n",
    " \n",
    "In order process the review we will need to repeat these two steps.\n",
    "\n",
    "**TODO**: Using the `review_to_words` and `convert_and_pad` methods from section one, convert `test_review` into a numpy array `test_data` suitable to send to our model. Remember that our model expects input of the form `review_length, review[500]`."
   ]
  },
  {
   "cell_type": "code",
   "execution_count": 36,
   "metadata": {},
   "outputs": [],
   "source": [
    "# TODO: Convert test_review into a form usable by the model and save the results in test_data\n",
    "# test_data = None\n",
    "\n",
    "test_data = review_to_words(test_review)\n",
    "test_data = [np.array(convert_and_pad(word_dict, test_data)[0])]"
   ]
  },
  {
   "cell_type": "markdown",
   "metadata": {},
   "source": [
    "Now that we have processed the review, we can send the resulting array to our model to predict the sentiment of the review."
   ]
  },
  {
   "cell_type": "code",
   "execution_count": 37,
   "metadata": {},
   "outputs": [
    {
     "data": {
      "text/plain": [
       "array(0.6515067, dtype=float32)"
      ]
     },
     "execution_count": 37,
     "metadata": {},
     "output_type": "execute_result"
    }
   ],
   "source": [
    "predictor.predict(test_data)"
   ]
  },
  {
   "cell_type": "markdown",
   "metadata": {},
   "source": [
    "Since the return value of our model is close to `1`, we can be certain that the review we submitted is positive."
   ]
  },
  {
   "cell_type": "markdown",
   "metadata": {},
   "source": [
    "### Delete the endpoint\n",
    "\n",
    "Of course, just like in the XGBoost notebook, once we've deployed an endpoint it continues to run until we tell it to shut down. Since we are done using our endpoint for now, we can delete it."
   ]
  },
  {
   "cell_type": "code",
   "execution_count": 38,
   "metadata": {},
   "outputs": [],
   "source": [
    "estimator.delete_endpoint()"
   ]
  },
  {
   "cell_type": "markdown",
   "metadata": {},
   "source": [
    "## Step 6 (again) - Deploy the model for the web app\n",
    "\n",
    "Now that we know that our model is working, it's time to create some custom inference code so that we can send the model a review which has not been processed and have it determine the sentiment of the review.\n",
    "\n",
    "As we saw above, by default the estimator which we created, when deployed, will use the entry script and directory which we provided when creating the model. However, since we now wish to accept a string as input and our model expects a processed review, we need to write some custom inference code.\n",
    "\n",
    "We will store the code that we write in the `serve` directory. Provided in this directory is the `model.py` file that we used to construct our model, a `utils.py` file which contains the `review_to_words` and `convert_and_pad` pre-processing functions which we used during the initial data processing, and `predict.py`, the file which will contain our custom inference code. Note also that `requirements.txt` is present which will tell SageMaker what Python libraries are required by our custom inference code.\n",
    "\n",
    "When deploying a PyTorch model in SageMaker, you are expected to provide four functions which the SageMaker inference container will use.\n",
    " - `model_fn`: This function is the same function that we used in the training script and it tells SageMaker how to load our model.\n",
    " - `input_fn`: This function receives the raw serialized input that has been sent to the model's endpoint and its job is to de-serialize and make the input available for the inference code.\n",
    " - `output_fn`: This function takes the output of the inference code and its job is to serialize this output and return it to the caller of the model's endpoint.\n",
    " - `predict_fn`: The heart of the inference script, this is where the actual prediction is done and is the function which you will need to complete.\n",
    "\n",
    "For the simple website that we are constructing during this project, the `input_fn` and `output_fn` methods are relatively straightforward. We only require being able to accept a string as input and we expect to return a single value as output. You might imagine though that in a more complex application the input or output may be image data or some other binary data which would require some effort to serialize.\n",
    "\n",
    "### (TODO) Writing inference code\n",
    "\n",
    "Before writing our custom inference code, we will begin by taking a look at the code which has been provided."
   ]
  },
  {
   "cell_type": "code",
   "execution_count": 39,
   "metadata": {},
   "outputs": [
    {
     "name": "stdout",
     "output_type": "stream",
     "text": [
      "\u001b[34mimport\u001b[39;49;00m \u001b[04m\u001b[36margparse\u001b[39;49;00m\r\n",
      "\u001b[34mimport\u001b[39;49;00m \u001b[04m\u001b[36mjson\u001b[39;49;00m\r\n",
      "\u001b[34mimport\u001b[39;49;00m \u001b[04m\u001b[36mos\u001b[39;49;00m\r\n",
      "\u001b[34mimport\u001b[39;49;00m \u001b[04m\u001b[36mpickle\u001b[39;49;00m\r\n",
      "\u001b[34mimport\u001b[39;49;00m \u001b[04m\u001b[36msys\u001b[39;49;00m\r\n",
      "\u001b[34mimport\u001b[39;49;00m \u001b[04m\u001b[36msagemaker_containers\u001b[39;49;00m\r\n",
      "\u001b[34mimport\u001b[39;49;00m \u001b[04m\u001b[36mpandas\u001b[39;49;00m \u001b[34mas\u001b[39;49;00m \u001b[04m\u001b[36mpd\u001b[39;49;00m\r\n",
      "\u001b[34mimport\u001b[39;49;00m \u001b[04m\u001b[36mnumpy\u001b[39;49;00m \u001b[34mas\u001b[39;49;00m \u001b[04m\u001b[36mnp\u001b[39;49;00m\r\n",
      "\u001b[34mimport\u001b[39;49;00m \u001b[04m\u001b[36mtorch\u001b[39;49;00m\r\n",
      "\u001b[34mimport\u001b[39;49;00m \u001b[04m\u001b[36mtorch.nn\u001b[39;49;00m \u001b[34mas\u001b[39;49;00m \u001b[04m\u001b[36mnn\u001b[39;49;00m\r\n",
      "\u001b[34mimport\u001b[39;49;00m \u001b[04m\u001b[36mtorch.optim\u001b[39;49;00m \u001b[34mas\u001b[39;49;00m \u001b[04m\u001b[36moptim\u001b[39;49;00m\r\n",
      "\u001b[34mimport\u001b[39;49;00m \u001b[04m\u001b[36mtorch.utils.data\u001b[39;49;00m\r\n",
      "\r\n",
      "\u001b[34mfrom\u001b[39;49;00m \u001b[04m\u001b[36mmodel\u001b[39;49;00m \u001b[34mimport\u001b[39;49;00m LSTMClassifier\r\n",
      "\r\n",
      "\u001b[34mfrom\u001b[39;49;00m \u001b[04m\u001b[36mutils\u001b[39;49;00m \u001b[34mimport\u001b[39;49;00m review_to_words, convert_and_pad\r\n",
      "\r\n",
      "\u001b[34mdef\u001b[39;49;00m \u001b[32mmodel_fn\u001b[39;49;00m(model_dir):\r\n",
      "    \u001b[33m\"\"\"Load the PyTorch model from the `model_dir` directory.\"\"\"\u001b[39;49;00m\r\n",
      "    \u001b[34mprint\u001b[39;49;00m(\u001b[33m\"\u001b[39;49;00m\u001b[33mLoading model.\u001b[39;49;00m\u001b[33m\"\u001b[39;49;00m)\r\n",
      "\r\n",
      "    \u001b[37m# First, load the parameters used to create the model.\u001b[39;49;00m\r\n",
      "    model_info = {}\r\n",
      "    model_info_path = os.path.join(model_dir, \u001b[33m'\u001b[39;49;00m\u001b[33mmodel_info.pth\u001b[39;49;00m\u001b[33m'\u001b[39;49;00m)\r\n",
      "    \u001b[34mwith\u001b[39;49;00m \u001b[36mopen\u001b[39;49;00m(model_info_path, \u001b[33m'\u001b[39;49;00m\u001b[33mrb\u001b[39;49;00m\u001b[33m'\u001b[39;49;00m) \u001b[34mas\u001b[39;49;00m f:\r\n",
      "        model_info = torch.load(f)\r\n",
      "\r\n",
      "    \u001b[34mprint\u001b[39;49;00m(\u001b[33m\"\u001b[39;49;00m\u001b[33mmodel_info: {}\u001b[39;49;00m\u001b[33m\"\u001b[39;49;00m.format(model_info))\r\n",
      "\r\n",
      "    \u001b[37m# Determine the device and construct the model.\u001b[39;49;00m\r\n",
      "    device = torch.device(\u001b[33m\"\u001b[39;49;00m\u001b[33mcuda\u001b[39;49;00m\u001b[33m\"\u001b[39;49;00m \u001b[34mif\u001b[39;49;00m torch.cuda.is_available() \u001b[34melse\u001b[39;49;00m \u001b[33m\"\u001b[39;49;00m\u001b[33mcpu\u001b[39;49;00m\u001b[33m\"\u001b[39;49;00m)\r\n",
      "    model = LSTMClassifier(model_info[\u001b[33m'\u001b[39;49;00m\u001b[33membedding_dim\u001b[39;49;00m\u001b[33m'\u001b[39;49;00m], model_info[\u001b[33m'\u001b[39;49;00m\u001b[33mhidden_dim\u001b[39;49;00m\u001b[33m'\u001b[39;49;00m], model_info[\u001b[33m'\u001b[39;49;00m\u001b[33mvocab_size\u001b[39;49;00m\u001b[33m'\u001b[39;49;00m])\r\n",
      "\r\n",
      "    \u001b[37m# Load the store model parameters.\u001b[39;49;00m\r\n",
      "    model_path = os.path.join(model_dir, \u001b[33m'\u001b[39;49;00m\u001b[33mmodel.pth\u001b[39;49;00m\u001b[33m'\u001b[39;49;00m)\r\n",
      "    \u001b[34mwith\u001b[39;49;00m \u001b[36mopen\u001b[39;49;00m(model_path, \u001b[33m'\u001b[39;49;00m\u001b[33mrb\u001b[39;49;00m\u001b[33m'\u001b[39;49;00m) \u001b[34mas\u001b[39;49;00m f:\r\n",
      "        model.load_state_dict(torch.load(f))\r\n",
      "\r\n",
      "    \u001b[37m# Load the saved word_dict.\u001b[39;49;00m\r\n",
      "    word_dict_path = os.path.join(model_dir, \u001b[33m'\u001b[39;49;00m\u001b[33mword_dict.pkl\u001b[39;49;00m\u001b[33m'\u001b[39;49;00m)\r\n",
      "    \u001b[34mwith\u001b[39;49;00m \u001b[36mopen\u001b[39;49;00m(word_dict_path, \u001b[33m'\u001b[39;49;00m\u001b[33mrb\u001b[39;49;00m\u001b[33m'\u001b[39;49;00m) \u001b[34mas\u001b[39;49;00m f:\r\n",
      "        model.word_dict = pickle.load(f)\r\n",
      "\r\n",
      "    model.to(device).eval()\r\n",
      "\r\n",
      "    \u001b[34mprint\u001b[39;49;00m(\u001b[33m\"\u001b[39;49;00m\u001b[33mDone loading model.\u001b[39;49;00m\u001b[33m\"\u001b[39;49;00m)\r\n",
      "    \u001b[34mreturn\u001b[39;49;00m model\r\n",
      "\r\n",
      "\u001b[34mdef\u001b[39;49;00m \u001b[32minput_fn\u001b[39;49;00m(serialized_input_data, content_type):\r\n",
      "    \u001b[34mprint\u001b[39;49;00m(\u001b[33m'\u001b[39;49;00m\u001b[33mDeserializing the input data.\u001b[39;49;00m\u001b[33m'\u001b[39;49;00m)\r\n",
      "    \u001b[34mif\u001b[39;49;00m content_type == \u001b[33m'\u001b[39;49;00m\u001b[33mtext/plain\u001b[39;49;00m\u001b[33m'\u001b[39;49;00m:\r\n",
      "        data = serialized_input_data.decode(\u001b[33m'\u001b[39;49;00m\u001b[33mutf-8\u001b[39;49;00m\u001b[33m'\u001b[39;49;00m)\r\n",
      "        \u001b[34mreturn\u001b[39;49;00m data\r\n",
      "    \u001b[34mraise\u001b[39;49;00m \u001b[36mException\u001b[39;49;00m(\u001b[33m'\u001b[39;49;00m\u001b[33mRequested unsupported ContentType in content_type: \u001b[39;49;00m\u001b[33m'\u001b[39;49;00m + content_type)\r\n",
      "\r\n",
      "\u001b[34mdef\u001b[39;49;00m \u001b[32moutput_fn\u001b[39;49;00m(prediction_output, accept):\r\n",
      "    \u001b[34mprint\u001b[39;49;00m(\u001b[33m'\u001b[39;49;00m\u001b[33mSerializing the generated output.\u001b[39;49;00m\u001b[33m'\u001b[39;49;00m)\r\n",
      "    \u001b[34mreturn\u001b[39;49;00m \u001b[36mstr\u001b[39;49;00m(prediction_output)\r\n",
      "\r\n",
      "\u001b[34mdef\u001b[39;49;00m \u001b[32mpredict_fn\u001b[39;49;00m(input_data, model):\r\n",
      "    \u001b[34mprint\u001b[39;49;00m(\u001b[33m'\u001b[39;49;00m\u001b[33mInferring sentiment of input data.\u001b[39;49;00m\u001b[33m'\u001b[39;49;00m)\r\n",
      "\r\n",
      "    device = torch.device(\u001b[33m\"\u001b[39;49;00m\u001b[33mcuda\u001b[39;49;00m\u001b[33m\"\u001b[39;49;00m \u001b[34mif\u001b[39;49;00m torch.cuda.is_available() \u001b[34melse\u001b[39;49;00m \u001b[33m\"\u001b[39;49;00m\u001b[33mcpu\u001b[39;49;00m\u001b[33m\"\u001b[39;49;00m)\r\n",
      "    \r\n",
      "    \u001b[34mif\u001b[39;49;00m model.word_dict \u001b[35mis\u001b[39;49;00m \u001b[36mNone\u001b[39;49;00m:\r\n",
      "        \u001b[34mraise\u001b[39;49;00m \u001b[36mException\u001b[39;49;00m(\u001b[33m'\u001b[39;49;00m\u001b[33mModel has not been loaded properly, no word_dict.\u001b[39;49;00m\u001b[33m'\u001b[39;49;00m)\r\n",
      "    \r\n",
      "    \u001b[37m# TODO: Process input_data so that it is ready to be sent to our model.\u001b[39;49;00m\r\n",
      "    \u001b[37m#       You should produce two variables:\u001b[39;49;00m\r\n",
      "    \u001b[37m#         data_X   - A sequence of length 500 which represents the converted review\u001b[39;49;00m\r\n",
      "    \u001b[37m#         data_len - The length of the review\u001b[39;49;00m\r\n",
      "\r\n",
      "    \u001b[37m#data_X = None\u001b[39;49;00m\r\n",
      "    \u001b[37m#data_len = None\u001b[39;49;00m\r\n",
      "    data_X, data_len = convert_and_pad(model.word_dict, review_to_words(input_data))\r\n",
      "\r\n",
      "    \u001b[37m# Using data_X and data_len we construct an appropriate input tensor. Remember\u001b[39;49;00m\r\n",
      "    \u001b[37m# that our model expects input data of the form 'len, review[500]'.\u001b[39;49;00m\r\n",
      "    data_pack = np.hstack((data_len, data_X))\r\n",
      "    data_pack = data_pack.reshape(\u001b[34m1\u001b[39;49;00m, -\u001b[34m1\u001b[39;49;00m)\r\n",
      "    \r\n",
      "    data = torch.from_numpy(data_pack)\r\n",
      "    data = data.to(device)\r\n",
      "\r\n",
      "    \u001b[37m# Make sure to put the model into evaluation mode\u001b[39;49;00m\r\n",
      "    model.eval()\r\n",
      "\r\n",
      "    \u001b[37m# TODO: Compute the result of applying the model to the input data. The variable `result` should\u001b[39;49;00m\r\n",
      "    \u001b[37m#       be a numpy array which contains a single integer which is either 1 or 0\u001b[39;49;00m\r\n",
      "\r\n",
      "    result = \u001b[36mNone\u001b[39;49;00m\r\n",
      "\r\n",
      "    \u001b[34mreturn\u001b[39;49;00m result\r\n"
     ]
    }
   ],
   "source": [
    "!pygmentize serve/predict.py"
   ]
  },
  {
   "cell_type": "markdown",
   "metadata": {},
   "source": [
    "As mentioned earlier, the `model_fn` method is the same as the one provided in the training code and the `input_fn` and `output_fn` methods are very simple and your task will be to complete the `predict_fn` method. Make sure that you save the completed file as `predict.py` in the `serve` directory.\n",
    "\n",
    "**TODO**: Complete the `predict_fn()` method in the `serve/predict.py` file."
   ]
  },
  {
   "cell_type": "markdown",
   "metadata": {},
   "source": [
    "### Deploying the model\n",
    "\n",
    "Now that the custom inference code has been written, we will create and deploy our model. To begin with, we need to construct a new PyTorchModel object which points to the model artifacts created during training and also points to the inference code that we wish to use. Then we can call the deploy method to launch the deployment container.\n",
    "\n",
    "**NOTE**: The default behaviour for a deployed PyTorch model is to assume that any input passed to the predictor is a `numpy` array. In our case we want to send a string so we need to construct a simple wrapper around the `RealTimePredictor` class to accomodate simple strings. In a more complicated situation you may want to provide a serialization object, for example if you wanted to sent image data."
   ]
  },
  {
   "cell_type": "code",
   "execution_count": 40,
   "metadata": {},
   "outputs": [
    {
     "name": "stdout",
     "output_type": "stream",
     "text": [
      "---------------------!"
     ]
    }
   ],
   "source": [
    "from sagemaker.predictor import RealTimePredictor\n",
    "from sagemaker.pytorch import PyTorchModel\n",
    "\n",
    "class StringPredictor(RealTimePredictor):\n",
    "    def __init__(self, endpoint_name, sagemaker_session):\n",
    "        super(StringPredictor, self).__init__(endpoint_name, sagemaker_session, content_type='text/plain')\n",
    "\n",
    "model = PyTorchModel(model_data=estimator.model_data,\n",
    "                     role = role,\n",
    "                     framework_version='0.4.0',\n",
    "                     entry_point='predict.py',\n",
    "                     source_dir='serve',\n",
    "                     predictor_cls=StringPredictor)\n",
    "predictor = model.deploy(initial_instance_count=1, instance_type='ml.p2.xlarge')"
   ]
  },
  {
   "cell_type": "markdown",
   "metadata": {},
   "source": [
    "### Testing the model\n",
    "\n",
    "Now that we have deployed our model with the custom inference code, we should test to see if everything is working. Here we test our model by loading the first `250` positive and negative reviews and send them to the endpoint, then collect the results. The reason for only sending some of the data is that the amount of time it takes for our model to process the input and then perform inference is quite long and so testing the entire data set would be prohibitive."
   ]
  },
  {
   "cell_type": "code",
   "execution_count": 78,
   "metadata": {},
   "outputs": [],
   "source": [
    "import glob\n",
    "\n",
    "def test_reviews(data_dir='../data/aclImdb', stop=250):\n",
    "    \n",
    "    results = []\n",
    "    ground = []\n",
    "    \n",
    "    # We make sure to test both positive and negative reviews    \n",
    "    for sentiment in ['pos', 'neg']:\n",
    "        \n",
    "        path = os.path.join(data_dir, 'test', sentiment, '*.txt')\n",
    "        files = glob.glob(path)\n",
    "        \n",
    "        files_read = 0\n",
    "        \n",
    "        print('Starting ', sentiment, ' files')\n",
    "        \n",
    "        # Iterate through the files and send them to the predictor\n",
    "        for f in files:\n",
    "            with open(f) as review:\n",
    "                # First, we store the ground truth (was the review positive or negative)\n",
    "                if sentiment == 'pos':\n",
    "                    ground.append(1)\n",
    "                else:\n",
    "                    ground.append(0)\n",
    "                # Read in the review and convert to 'utf-8' for transmission via HTTP\n",
    "                review_input = review.read().encode('utf-8')\n",
    "                # Send the review to the predictor and store the results\n",
    "                # with converting to 'int' was getting \"alueError: invalid literal for int() with base 10: b'None'\" \n",
    "                # results.append(int(predictor.predict(review_input)))\n",
    "                results.append(str(predictor.predict(review_input)))\n",
    "                \n",
    "            # Sending reviews to our endpoint one at a time takes a while so we\n",
    "            # only send a small number of reviews\n",
    "            files_read += 1\n",
    "            if files_read == stop:\n",
    "                break\n",
    "            \n",
    "    return ground, results"
   ]
  },
  {
   "cell_type": "code",
   "execution_count": 79,
   "metadata": {},
   "outputs": [
    {
     "name": "stdout",
     "output_type": "stream",
     "text": [
      "Starting  pos  files\n",
      "Starting  neg  files\n"
     ]
    }
   ],
   "source": [
    "ground, results = test_reviews()"
   ]
  },
  {
   "cell_type": "code",
   "execution_count": 74,
   "metadata": {},
   "outputs": [
    {
     "name": "stderr",
     "output_type": "stream",
     "text": [
      "/home/ec2-user/anaconda3/envs/pytorch_p36/lib/python3.6/site-packages/sklearn/metrics/classification.py:182: FutureWarning: elementwise comparison failed; returning scalar instead, but in the future will perform elementwise comparison\n",
      "  score = y_true == y_pred\n"
     ]
    },
    {
     "data": {
      "text/plain": [
       "0.0"
      ]
     },
     "execution_count": 74,
     "metadata": {},
     "output_type": "execute_result"
    }
   ],
   "source": [
    "from sklearn.metrics import accuracy_score\n",
    "accuracy_score(ground, results)"
   ]
  },
  {
   "cell_type": "markdown",
   "metadata": {},
   "source": [
    "As an additional test, we can try sending the `test_review` that we looked at earlier."
   ]
  },
  {
   "cell_type": "code",
   "execution_count": 83,
   "metadata": {},
   "outputs": [
    {
     "data": {
      "text/plain": [
       "b'None'"
      ]
     },
     "execution_count": 83,
     "metadata": {},
     "output_type": "execute_result"
    }
   ],
   "source": [
    "predictor.predict(test_review)"
   ]
  },
  {
   "cell_type": "markdown",
   "metadata": {},
   "source": [
    "Now that we know our endpoint is working as expected, we can set up the web page that will interact with it. If you don't have time to finish the project now, make sure to skip down to the end of this notebook and shut down your endpoint. You can deploy it again when you come back."
   ]
  },
  {
   "cell_type": "markdown",
   "metadata": {},
   "source": [
    "## Step 7 (again): Use the model for the web app\n",
    "\n",
    "> **TODO:** This entire section and the next contain tasks for you to complete, mostly using the AWS console.\n",
    "\n",
    "So far we have been accessing our model endpoint by constructing a predictor object which uses the endpoint and then just using the predictor object to perform inference. What if we wanted to create a web app which accessed our model? The way things are set up currently makes that not possible since in order to access a SageMaker endpoint the app would first have to authenticate with AWS using an IAM role which included access to SageMaker endpoints. However, there is an easier way! We just need to use some additional AWS services.\n",
    "\n",
    "<img src=\"Web App Diagram.svg\">\n",
    "\n",
    "The diagram above gives an overview of how the various services will work together. On the far right is the model which we trained above and which is deployed using SageMaker. On the far left is our web app that collects a user's movie review, sends it off and expects a positive or negative sentiment in return.\n",
    "\n",
    "In the middle is where some of the magic happens. We will construct a Lambda function, which you can think of as a straightforward Python function that can be executed whenever a specified event occurs. We will give this function permission to send and recieve data from a SageMaker endpoint.\n",
    "\n",
    "Lastly, the method we will use to execute the Lambda function is a new endpoint that we will create using API Gateway. This endpoint will be a url that listens for data to be sent to it. Once it gets some data it will pass that data on to the Lambda function and then return whatever the Lambda function returns. Essentially it will act as an interface that lets our web app communicate with the Lambda function.\n",
    "\n",
    "### Setting up a Lambda function\n",
    "\n",
    "The first thing we are going to do is set up a Lambda function. This Lambda function will be executed whenever our public API has data sent to it. When it is executed it will receive the data, perform any sort of processing that is required, send the data (the review) to the SageMaker endpoint we've created and then return the result.\n",
    "\n",
    "#### Part A: Create an IAM Role for the Lambda function\n",
    "\n",
    "Since we want the Lambda function to call a SageMaker endpoint, we need to make sure that it has permission to do so. To do this, we will construct a role that we can later give the Lambda function.\n",
    "\n",
    "Using the AWS Console, navigate to the **IAM** page and click on **Roles**. Then, click on **Create role**. Make sure that the **AWS service** is the type of trusted entity selected and choose **Lambda** as the service that will use this role, then click **Next: Permissions**.\n",
    "\n",
    "In the search box type `sagemaker` and select the check box next to the **AmazonSageMakerFullAccess** policy. Then, click on **Next: Review**.\n",
    "\n",
    "Lastly, give this role a name. Make sure you use a name that you will remember later on, for example `LambdaSageMakerRole`. Then, click on **Create role**.\n",
    "\n",
    "#### Part B: Create a Lambda function\n",
    "\n",
    "Now it is time to actually create the Lambda function.\n",
    "\n",
    "Using the AWS Console, navigate to the AWS Lambda page and click on **Create a function**. When you get to the next page, make sure that **Author from scratch** is selected. Now, name your Lambda function, using a name that you will remember later on, for example `sentiment_analysis_func`. Make sure that the **Python 3.6** runtime is selected and then choose the role that you created in the previous part. Then, click on **Create Function**.\n",
    "\n",
    "On the next page you will see some information about the Lambda function you've just created. If you scroll down you should see an editor in which you can write the code that will be executed when your Lambda function is triggered. In our example, we will use the code below. \n",
    "\n",
    "```python\n",
    "# We need to use the low-level library to interact with SageMaker since the SageMaker API\n",
    "# is not available natively through Lambda.\n",
    "import boto3\n",
    "\n",
    "def lambda_handler(event, context):\n",
    "\n",
    "    # The SageMaker runtime is what allows us to invoke the endpoint that we've created.\n",
    "    runtime = boto3.Session().client('sagemaker-runtime')\n",
    "\n",
    "    # Now we use the SageMaker runtime to invoke our endpoint, sending the review we were given\n",
    "    response = runtime.invoke_endpoint(EndpointName = '**ENDPOINT NAME HERE**',    # The name of the endpoint we created\n",
    "                                       ContentType = 'text/plain',                 # The data format that is expected\n",
    "                                       Body = event['body'])                       # The actual review\n",
    "\n",
    "    # The response is an HTTP response whose body contains the result of our inference\n",
    "    result = response['Body'].read().decode('utf-8')\n",
    "\n",
    "    return {\n",
    "        'statusCode' : 200,\n",
    "        'headers' : { 'Content-Type' : 'text/plain', 'Access-Control-Allow-Origin' : '*' },\n",
    "        'body' : result\n",
    "    }\n",
    "```\n",
    "\n",
    "Once you have copy and pasted the code above into the Lambda code editor, replace the `**ENDPOINT NAME HERE**` portion with the name of the endpoint that we deployed earlier. You can determine the name of the endpoint using the code cell below."
   ]
  },
  {
   "cell_type": "code",
   "execution_count": 84,
   "metadata": {},
   "outputs": [
    {
     "data": {
      "text/plain": [
       "'sagemaker-pytorch-2020-02-24-13-21-42-490'"
      ]
     },
     "execution_count": 84,
     "metadata": {},
     "output_type": "execute_result"
    }
   ],
   "source": [
    "predictor.endpoint"
   ]
  },
  {
   "cell_type": "markdown",
   "metadata": {},
   "source": [
    "Once you have added the endpoint name to the Lambda function, click on **Save**. Your Lambda function is now up and running. Next we need to create a way for our web app to execute the Lambda function.\n",
    "\n",
    "### Setting up API Gateway\n",
    "\n",
    "Now that our Lambda function is set up, it is time to create a new API using API Gateway that will trigger the Lambda function we have just created.\n",
    "\n",
    "Using AWS Console, navigate to **Amazon API Gateway** and then click on **Get started**.\n",
    "\n",
    "On the next page, make sure that **New API** is selected and give the new api a name, for example, `sentiment_analysis_api`. Then, click on **Create API**.\n",
    "\n",
    "Now we have created an API, however it doesn't currently do anything. What we want it to do is to trigger the Lambda function that we created earlier.\n",
    "\n",
    "Select the **Actions** dropdown menu and click **Create Method**. A new blank method will be created, select its dropdown menu and select **POST**, then click on the check mark beside it.\n",
    "\n",
    "For the integration point, make sure that **Lambda Function** is selected and click on the **Use Lambda Proxy integration**. This option makes sure that the data that is sent to the API is then sent directly to the Lambda function with no processing. It also means that the return value must be a proper response object as it will also not be processed by API Gateway.\n",
    "\n",
    "Type the name of the Lambda function you created earlier into the **Lambda Function** text entry box and then click on **Save**. Click on **OK** in the pop-up box that then appears, giving permission to API Gateway to invoke the Lambda function you created.\n",
    "\n",
    "The last step in creating the API Gateway is to select the **Actions** dropdown and click on **Deploy API**. You will need to create a new Deployment stage and name it anything you like, for example `prod`.\n",
    "\n",
    "You have now successfully set up a public API to access your SageMaker model. Make sure to copy or write down the URL provided to invoke your newly created public API as this will be needed in the next step. This URL can be found at the top of the page, highlighted in blue next to the text **Invoke URL**."
   ]
  },
  {
   "cell_type": "markdown",
   "metadata": {},
   "source": [
    "## Step 4: Deploying our web app\n",
    "\n",
    "Now that we have a publicly available API, we can start using it in a web app. For our purposes, we have provided a simple static html file which can make use of the public api you created earlier.\n",
    "\n",
    "In the `website` folder there should be a file called `index.html`. Download the file to your computer and open that file up in a text editor of your choice. There should be a line which contains **\\*\\*REPLACE WITH PUBLIC API URL\\*\\***. Replace this string with the url that you wrote down in the last step and then save the file.\n",
    "\n",
    "Now, if you open `index.html` on your local computer, your browser will behave as a local web server and you can use the provided site to interact with your SageMaker model.\n",
    "\n",
    "If you'd like to go further, you can host this html file anywhere you'd like, for example using github or hosting a static site on Amazon's S3. Once you have done this you can share the link with anyone you'd like and have them play with it too!\n",
    "\n",
    "> **Important Note** In order for the web app to communicate with the SageMaker endpoint, the endpoint has to actually be deployed and running. This means that you are paying for it. Make sure that the endpoint is running when you want to use the web app but that you shut it down when you don't need it, otherwise you will end up with a surprisingly large AWS bill.\n",
    "\n",
    "**TODO:** Make sure that you include the edited `index.html` file in your project submission."
   ]
  },
  {
   "cell_type": "markdown",
   "metadata": {},
   "source": [
    "Now that your web app is working, trying playing around with it and see how well it works.\n",
    "\n",
    "**Question**: Give an example of a review that you entered into your web app. What was the predicted sentiment of your example review?"
   ]
  },
  {
   "cell_type": "markdown",
   "metadata": {},
   "source": [
    "**Answer:**  \n",
    "![Review](./img/Review.PNG)"
   ]
  },
  {
   "cell_type": "markdown",
   "metadata": {},
   "source": [
    "### Delete the endpoint\n",
    "\n",
    "Remember to always shut down your endpoint if you are no longer using it. You are charged for the length of time that the endpoint is running so if you forget and leave it on you could end up with an unexpectedly large bill."
   ]
  },
  {
   "cell_type": "code",
   "execution_count": 85,
   "metadata": {},
   "outputs": [],
   "source": [
    "predictor.delete_endpoint()"
   ]
  },
  {
   "cell_type": "code",
   "execution_count": null,
   "metadata": {},
   "outputs": [],
   "source": []
  }
 ],
 "metadata": {
  "kernelspec": {
   "display_name": "conda_pytorch_p36",
   "language": "python",
   "name": "conda_pytorch_p36"
  },
  "language_info": {
   "codemirror_mode": {
    "name": "ipython",
    "version": 3
   },
   "file_extension": ".py",
   "mimetype": "text/x-python",
   "name": "python",
   "nbconvert_exporter": "python",
   "pygments_lexer": "ipython3",
   "version": "3.6.5"
  }
 },
 "nbformat": 4,
 "nbformat_minor": 2
}
